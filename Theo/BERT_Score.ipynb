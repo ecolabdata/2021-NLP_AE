{
 "cells": [
  {
   "cell_type": "code",
   "execution_count": 5,
   "metadata": {},
   "outputs": [
    {
     "name": "stdout",
     "output_type": "stream",
     "text": [
      "Requirement already satisfied: gensim in /opt/conda/lib/python3.7/site-packages (4.0.1)\n",
      "Requirement already satisfied: numpy>=1.11.3 in /opt/conda/lib/python3.7/site-packages (from gensim) (1.18.1)\n",
      "Requirement already satisfied: scipy>=0.18.1 in /opt/conda/lib/python3.7/site-packages (from gensim) (1.4.1)\n",
      "Requirement already satisfied: smart-open>=1.8.1 in /opt/conda/lib/python3.7/site-packages (from gensim) (5.1.0)\n"
     ]
    }
   ],
   "source": [
    "import time\n",
    "import pickle\n",
    "from pathlib import Path\n",
    "!pip install gensim\n",
    "import gensim\n",
    "import pandas as pd\n",
    "import numpy as np\n",
    "import sklearn\n",
    "import re\n",
    "#from unidecode import unidecode\n",
    "import functools\n",
    "import operator\n",
    "import psutil\n",
    "from joblib import Parallel,delayed\n",
    "from functools import partial\n",
    "import time"
   ]
  },
  {
   "cell_type": "code",
   "execution_count": 7,
   "metadata": {},
   "outputs": [
    {
     "name": "stdout",
     "output_type": "stream",
     "text": [
      "Collecting torch\n",
      "  Downloading torch-1.8.1-cp37-cp37m-manylinux1_x86_64.whl (804.1 MB)\n",
      "\u001b[K     |████████████████████████████████| 804.1 MB 4.1 kB/s  eta 0:00:01     |█████▊                          | 143.0 MB 14.0 MB/s eta 0:00:48     |██████▎                         | 158.4 MB 5.7 MB/s eta 0:01:54     |█████████▏                      | 231.4 MB 7.4 MB/s eta 0:01:18     |██████████████████████          | 554.4 MB 15.3 MB/s eta 0:00:17\n",
      "\u001b[?25hRequirement already satisfied: numpy in /opt/conda/lib/python3.7/site-packages (from torch) (1.18.1)\n",
      "Requirement already satisfied: typing-extensions in /opt/conda/lib/python3.7/site-packages (from torch) (3.7.4.3)\n",
      "Installing collected packages: torch\n",
      "Successfully installed torch-1.8.1\n"
     ]
    }
   ],
   "source": [
    "!pip install torch\n",
    "import torch\n",
    "import torch.nn as nn\n",
    "from tqdm import tqdm"
   ]
  },
  {
   "cell_type": "code",
   "execution_count": 8,
   "metadata": {},
   "outputs": [
    {
     "name": "stdout",
     "output_type": "stream",
     "text": [
      "<class 'list'> <class 'list'> <class 'torch.Tensor'>\n"
     ]
    },
    {
     "data": {
      "text/plain": [
       "405"
      ]
     },
     "execution_count": 8,
     "metadata": {},
     "output_type": "execute_result"
    }
   ],
   "source": [
    "embedding_section_W2V=pickle.load(open('embedding_section_W2V.pickle','rb'))\n",
    "embedding_section_bert=pickle.load(open('embedding_section_bert.pickle','rb'))\n",
    "print(type(embedding_section_bert),type(embedding_section_bert[0]),type(embedding_section_bert[0][0]))\n",
    "len(embedding_section_bert)"
   ]
  },
  {
   "cell_type": "code",
   "execution_count": 17,
   "metadata": {},
   "outputs": [
    {
     "name": "stdout",
     "output_type": "stream",
     "text": [
      "Il y a  405 articles\n",
      "avec en moyenne 20.86 phrases\n",
      "chaque phrase de dimension torch.Size([768])\n"
     ]
    }
   ],
   "source": [
    "print(\"Il y a \",len(embedding_section_bert),\"articles\")\n",
    "section_mean=round(np.mean([len(i) for i in embedding_section_bert]),2)\n",
    "print(\"avec en moyenne\",section_mean,\"phrases\")\n",
    "print(\"chaque phrase de dimension\",embedding_section_bert[0][0].shape)"
   ]
  },
  {
   "cell_type": "code",
   "execution_count": 46,
   "metadata": {},
   "outputs": [
    {
     "data": {
      "text/plain": [
       "(405, 41, 768)"
      ]
     },
     "execution_count": 46,
     "metadata": {},
     "output_type": "execute_result"
    }
   ],
   "source": [
    "ARTBERT=[torch.as_tensor([embedding_section_bert[k][i].tolist() for i in range(len(embedding_section_bert[k]))]) for k in range(len(embedding_section_bert))]\n",
    "#ARTBERT=torch.as_tensor(ARTBERT)\n",
    "len(ARTBERT),len(ARTBERT[0]),len(ARTBERT[0][0])"
   ]
  },
  {
   "cell_type": "code",
   "execution_count": 47,
   "metadata": {},
   "outputs": [
    {
     "data": {
      "text/plain": [
       "(405, torch.Size([768]))"
      ]
     },
     "execution_count": 47,
     "metadata": {},
     "output_type": "execute_result"
    }
   ],
   "source": [
    "VSP=[i.mean(dim=0) for i in ARTBERT]\n",
    "len(VSP),VSP[0].shape"
   ]
  },
  {
   "cell_type": "code",
   "execution_count": 54,
   "metadata": {},
   "outputs": [
    {
     "data": {
      "text/plain": [
       "tensor([0.9893, 0.9104, 0.9858])"
      ]
     },
     "execution_count": 54,
     "metadata": {},
     "output_type": "execute_result"
    }
   ],
   "source": [
    "cos_sim=torch.nn.CosineSimilarity(dim=-1)\n",
    "cos_sim(ARTBERT[0][:3],VSP[0])"
   ]
  },
  {
   "cell_type": "code",
   "execution_count": 55,
   "metadata": {},
   "outputs": [
    {
     "data": {
      "text/plain": [
       "(tensor(0.9893), tensor(0.9104), tensor(0.9858))"
      ]
     },
     "execution_count": 55,
     "metadata": {},
     "output_type": "execute_result"
    }
   ],
   "source": [
    "cos_sim=torch.nn.CosineSimilarity(dim=0)\n",
    "cos_sim(ARTBERT[0][0],VSP[0]),cos_sim(ARTBERT[0][1],VSP[0]),cos_sim(ARTBERT[0][2],VSP[0])"
   ]
  },
  {
   "cell_type": "code",
   "execution_count": 58,
   "metadata": {},
   "outputs": [],
   "source": [
    "cos_sim=torch.nn.CosineSimilarity(dim=-1)\n",
    "similarite=[cos_sim(ARTBERT[i][:],VSP[i]) for i in range(len(VSP))]"
   ]
  },
  {
   "cell_type": "code",
   "execution_count": 65,
   "metadata": {},
   "outputs": [],
   "source": [
    "top_similarite=[i.topk(k=3)[1] if i.shape[0]>3 else torch.as_tensor([0,1,2]) for i in similarite]\n",
    "#top_similarite"
   ]
  },
  {
   "cell_type": "code",
   "execution_count": 66,
   "metadata": {},
   "outputs": [],
   "source": [
    "pickle.dump(top_similarite,open(\"OrangeSum_BERT_Score.pickle\",'wb'))"
   ]
  },
  {
   "cell_type": "code",
   "execution_count": null,
   "metadata": {},
   "outputs": [],
   "source": []
  }
 ],
 "metadata": {
  "kernelspec": {
   "display_name": "Python 3",
   "language": "python",
   "name": "python3"
  },
  "language_info": {
   "codemirror_mode": {
    "name": "ipython",
    "version": 3
   },
   "file_extension": ".py",
   "mimetype": "text/x-python",
   "name": "python",
   "nbconvert_exporter": "python",
   "pygments_lexer": "ipython3",
   "version": "3.7.6"
  }
 },
 "nbformat": 4,
 "nbformat_minor": 4
}
