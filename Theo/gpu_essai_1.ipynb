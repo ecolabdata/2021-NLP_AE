{
 "cells": [
  {
   "cell_type": "code",
   "execution_count": 2,
   "metadata": {},
   "outputs": [],
   "source": [
    "#!pip install torch\n",
    "#!pip install sklearn\n",
    "import torch.nn as nn\n",
    "import sklearn\n",
    "import torch\n",
    "import pickle\n",
    "import os\n",
    "from torch.autograd import Variable"
   ]
  },
  {
   "cell_type": "markdown",
   "metadata": {},
   "source": [
    "## Modèle :\n",
    "On crée nos différents modèles"
   ]
  },
  {
   "cell_type": "code",
   "execution_count": 125,
   "metadata": {},
   "outputs": [
    {
     "data": {
      "text/plain": [
       "768"
      ]
     },
     "execution_count": 125,
     "metadata": {},
     "output_type": "execute_result"
    }
   ],
   "source": [
    "camem.config.hidden_size"
   ]
  },
  {
   "cell_type": "code",
   "execution_count": 3,
   "metadata": {},
   "outputs": [],
   "source": [
    "class Simple_Classifier(nn.Module):\n",
    "    def __init__(self, hidden_size):\n",
    "        super(Simple_Classifier, self).__init__()\n",
    "        self.linear1 = nn.Linear(hidden_size, 1)\n",
    "        self.relu=nn.ReLU()\n",
    "\n",
    "    def forward(self, x):#, mask_cls):\n",
    "        h = self.linear1(x).squeeze(-1)\n",
    "        sent_scores = self.relu(h) #* mask_cls.float()\n",
    "        return sent_scores\n",
    "\n",
    "class Multi_Linear_Classifier(nn.Module):\n",
    "    def __init__(self, hidden_size):\n",
    "        super(Multi_Linear_Classifier, self).__init__()\n",
    "        self.linear1 = nn.Linear(hidden_size, int(hidden_size/2))\n",
    "        self.linear2 = nn.Linear(int(hidden_size/2),int(hidden_size/6))\n",
    "        self.linear3 = nn.Linear(int(hidden_size/6),1)\n",
    "        self.Lrelu=nn.LeakyReLU(negative_slope= 0.01)\n",
    "\n",
    "    def forward(self, x):#, mask_cls):\n",
    "        h = self.linear1(x).squeeze(-1)\n",
    "        h = self.Lrelu(h) #* mask_cls.float()\n",
    "        h = self.linear2(h)\n",
    "        h = self.Lrelu(h)\n",
    "        h = self.linear3(h)\n",
    "        h = self.Lrelu(h)\n",
    "        return h\n",
    "    \n",
    "\n",
    "class SMHA_classifier(nn.Module):\n",
    "    def __init__(self, size,nhead):\n",
    "        super(SMHA_classifier, self).__init__()\n",
    "        self.MHA = nn.MultiheadAttention(size[1], nhead)\n",
    "        self.LReLu=nn.LeakyReLU(negative_slope= 0.01)\n",
    "        self.sigmoid = nn.Sigmoid()\n",
    "        self.LN=nn.LayerNorm(size)\n",
    "\n",
    "    def forward(self, x):#, mask_cls):\n",
    "        h,weights = self.MHA(x,x,x)\n",
    "        normalized_h=self.LN(h)     \n",
    "        sent_scores = self.LReLu(normalized_h) #* mask_cls.float()\n",
    "        return sent_scores    \n",
    "    \n",
    "def select_sent(phrase,clss,K=3):\n",
    "    index_phrase=torch.topk(phrase,K)[1]\n",
    "    pred_phrase=torch.zeros(clss.shape)\n",
    "    index_1=[[clss[k].tolist().index(int(index_phrase[k][i])) \n",
    "                for i in range(len(index_phrase[k])) if int(index_phrase[k][i]) in clss[k].tolist()]\n",
    "                 for k in range(K)]\n",
    "    index_2=[[i] for i in range(K)]\n",
    "    pred_phrase[index_2,index_1]=torch.ones(index_phrase.shape)\n",
    "    return pred_phrase\n",
    "\n",
    "\n",
    "from sklearn.metrics import confusion_matrix\n",
    "def confusion_output(sent,output,clss_index):\n",
    "    a=[confusion_matrix(output[i],sent[i]) for i in range(sent.shape[0])]\n",
    "    c=[a[i][0][0]+a[i][1][1] for i in range(sent.shape[0])]\n",
    "    score_total=[round((c[i]-(512-clss_index[i]))/(clss_index[i]),3) for i in range(sent.shape[0])]\n",
    "    score_1=[(a[i][1][1])/3 for i in range(sent.shape[0])]\n",
    "    return score_total,score_1\n",
    "\n",
    "\n",
    "class Summarizer(nn.Module):\n",
    "    def __init__(self, device,classif):#args, , load_pretrained_bert = False, bert_config = None):\n",
    "        super(Summarizer, self).__init__()\n",
    "        self.device = device\n",
    "        self.bert =CamembertModel.from_pretrained(\"camembert-base\")\n",
    "        #BertModel.from_pretrained('bert-base-uncased')\n",
    "        #Bert(args.temp_dir, load_pretrained_bert, bert_config)\n",
    "        self.simple_classif = Simple_Classifier(self.bert.config.hidden_size)\n",
    "        self.multi_classif = Multi_Linear_Classifier(self.bert.config.hidden_size)\n",
    "        self.select_sent=select_sent\n",
    "        self.softmax=nn.Softmax()\n",
    "        self.attclassif=SMHA_classifier(torch.Size([self.bert.config.max_position_embeddings-2,self.bert.config.hidden_size]),8)\n",
    "        self.loss=nn.functional.binary_cross_entropy\n",
    "        self.classif_type=classif\n",
    "        # self.score=confusion_output\n",
    "        self.to(device)\n",
    "\n",
    "    def forward(self,x,mask, mask_cls):#,clss,output,k=3):#,segs):#, sentence_range=None): #segs, \n",
    "        #x input_ids\n",
    "        #Segs = Segment pour phrases (0 ou 1), marche pas dans un RoBERTa\n",
    "        #clss index du début des phrases \n",
    "        #mask_cls vecteur pour passer de l'embedding au cls, en gros sélectionne le bon index des vecteurs de l'embedding qu'on va utiliser pour faire la classif\n",
    "        top_vec= self.bert(x, mask)#, segs)\n",
    "        # sents_vec=self.sent_vec(last,clss)\n",
    "\n",
    "        # sents_vec = top_vec[0][torch.arange(top_vec[0].size(0)).unsqueeze(1), clss]\n",
    "        # sents_vec = sents_vec * mask_cls[:, :, None].float()\n",
    "        if self.classif_type=='simple_linear':\n",
    "            sent_scores = self.simple_classif(top_vec.last_hidden_state).squeeze(-1)#, mask_cls\n",
    "        elif self.classif_type=='multi_linear':\n",
    "            sent_scores = self.multi_classif(top_vec.last_hidden_state).squeeze(-1)\n",
    "        elif self.classif_type=='attention':\n",
    "            sent_scores = self.attclassif(top_vec.last_hidden_state)\n",
    "            sent_scores=sent_scores.mean(dim=2)\n",
    "        else:\n",
    "            raise ValueError(\"Attention, veuillez bien spécifier un type de classifieur.\\nSeules les valeurs 'simple_linear', 'multi_linear' ou 'attention' sont acceptées.\")\n",
    "        #sent_scores_masked = torch.mul(sent_scores,mask_cls)\n",
    "        #sent_scores_masked = self.select_sent(sent_scores_masked,clss,K=k)\n",
    "        #sent_scores_masked=\n",
    "        \n",
    "        # score=self.score(sent_scores,output)\n",
    "        return sent_scores#_masked#,sent_scores,top_vec.last_hidden_state#,score#, mask_cls"
   ]
  },
  {
   "cell_type": "markdown",
   "metadata": {},
   "source": [
    "On installe et charge le modèle Camembert"
   ]
  },
  {
   "cell_type": "code",
   "execution_count": null,
   "metadata": {},
   "outputs": [],
   "source": [
    "!pip install transformers"
   ]
  },
  {
   "cell_type": "code",
   "execution_count": 4,
   "metadata": {},
   "outputs": [
    {
     "name": "stderr",
     "output_type": "stream",
     "text": [
      "Some weights of the model checkpoint at camembert-base were not used when initializing CamembertModel: ['lm_head.dense.weight', 'lm_head.dense.bias', 'lm_head.decoder.weight', 'lm_head.layer_norm.bias', 'lm_head.bias', 'lm_head.layer_norm.weight']\n",
      "- This IS expected if you are initializing CamembertModel from the checkpoint of a model trained on another task or with another architecture (e.g. initializing a BertForSequenceClassification model from a BertForPreTraining model).\n",
      "- This IS NOT expected if you are initializing CamembertModel from the checkpoint of a model that you expect to be exactly identical (initializing a BertForSequenceClassification model from a BertForSequenceClassification model).\n"
     ]
    },
    {
     "data": {
      "text/plain": [
       "768"
      ]
     },
     "execution_count": 4,
     "metadata": {},
     "output_type": "execute_result"
    }
   ],
   "source": [
    "from transformers import CamembertModel,BertModel,RobertaModel,AdamW\n",
    "camem=CamembertModel.from_pretrained(\"camembert-base\")\n",
    "camem.config.hidden_size"
   ]
  },
  {
   "cell_type": "code",
   "execution_count": null,
   "metadata": {},
   "outputs": [],
   "source": [
    "camem.config"
   ]
  },
  {
   "cell_type": "markdown",
   "metadata": {},
   "source": [
    "## Score \n",
    "On crée nos fonctions de score : précision, rappel et score F1"
   ]
  },
  {
   "cell_type": "code",
   "execution_count": 5,
   "metadata": {},
   "outputs": [],
   "source": [
    "class F1_score:\n",
    "    \"\"\"\n",
    "    Class for f1 calculation in Pytorch.\n",
    "    \"\"\"\n",
    "\n",
    "    def __init__(self):#, average: str = 'weighted'):\n",
    "        \"\"\"\n",
    "        Init.\n",
    "\n",
    "        Args:\n",
    "            average: averaging method\n",
    "        \"\"\"\n",
    "\n",
    "        #self.average = average\n",
    "        #if average not in [None, 'micro', 'macro', 'weighted']:\n",
    "         #   raise ValueError('Wrong value of average parameter')\n",
    "    @staticmethod\n",
    "    def true_positive_mean(x,y) -> torch.tensor:\n",
    "        '''\n",
    "        Caclul le nombre moyen de vrai positif de la prediction x par rapport aux labels y (binaires).\n",
    "        '''\n",
    "        tp=torch.mul(x,y).sum()\n",
    "        tpm=torch.div(tp,y.shape[0])\n",
    "        return tpm\n",
    "    @staticmethod\n",
    "    def false_positive_mean(x,y) -> torch.tensor:\n",
    "        '''\n",
    "        Caclul le nombre moyen de faux négatif de la prediction x par rapport aux labels y (binaires).\n",
    "        '''\n",
    "        device=y.device\n",
    "        fp=torch.sub(x,y)\n",
    "        fp=torch.max(fp,torch.tensor([0.]).to(device))\n",
    "        fp=fp.sum().float()\n",
    "        fpm=torch.div(fp,y.shape[0])\n",
    "        return fpm\n",
    "    @staticmethod\n",
    "    def false_negative_mean(x,y) -> torch.tensor:\n",
    "        '''\n",
    "        Caclul le nombre moyen de faux négatif de la prediction x par rapport aux labels y (binaires).\n",
    "        '''\n",
    "        fn=torch.sub(y,x)\n",
    "        device=y.device\n",
    "        fn=torch.max(fn,torch.tensor([0.]).to(device))\n",
    "        fn=fn.sum().float()\n",
    "        fnm=torch.div(fn,y.shape[0])\n",
    "        return fnm\n",
    "    #@staticmethod\n",
    "    def precision(self,x,y) -> torch.tensor:\n",
    "        device=y.device\n",
    "        tp=self.true_positive_mean(x,y)\n",
    "        fp=self.false_positive_mean(x,y)\n",
    "        if (tp+fp)!=0:\n",
    "            prec=torch.div(tp,(tp+fp))\n",
    "            return prec\n",
    "        else:\n",
    "            return torch.tensor(0.).to(device)\n",
    "\n",
    "    def recall(self,x,y) -> torch.tensor:\n",
    "        tp=self.true_positive_mean(x,y)\n",
    "        fn=self.false_negative_mean(x,y)\n",
    "        rec=torch.div(tp,(tp+fn))\n",
    "        return rec\n",
    "    def __call__(self,x,y) -> torch.tensor:\n",
    "        device=y.device\n",
    "        rec=self.recall(x,y)\n",
    "        prec=self.precision(x,y)\n",
    "        f1=torch.mul(rec,prec)\n",
    "        f1=torch.mul(2,f1)\n",
    "        f1=torch.div(f1,prec+rec)\n",
    "        if (prec+rec)!=0:\n",
    "            return f1#prec,rec,\n",
    "        else:\n",
    "            return torch.tensor(0.).to(device)#prec,rec,\n",
    "\n",
    "        \n",
    "            "
   ]
  },
  {
   "cell_type": "markdown",
   "metadata": {},
   "source": [
    "## Fonction de perte\n",
    "On va maintenant définir notre fonction de perte"
   ]
  },
  {
   "cell_type": "code",
   "execution_count": 6,
   "metadata": {},
   "outputs": [],
   "source": [
    "class Weighted_Loss:\n",
    "    '''\n",
    "    Fonction permettant de calculer la fonction de perte Mean Absolute Error mais pondérée par des poids.\n",
    "    '''\n",
    "    def __init__(self,weight,loss_type='L1'):\n",
    "        '''\n",
    "        On initialise notre fonction de perte :\n",
    "        @weight : les poids que vous voulez pour chaque classe (dim=nombre de classe)\n",
    "        '''\n",
    "        self.weights=weight\n",
    "        self.loss_type=loss_type\n",
    "        \n",
    "    def Weighted_L1(self,y_hat,y) -> torch.Tensor:\n",
    "        '''\n",
    "        On calcule la fonction :\n",
    "        @y_hat : les prédictions du modèle\n",
    "        @y : les vraies valeurs\n",
    "        \n",
    "        Attention, dim(y_hat)==dim(y)\n",
    "        '''\n",
    "        if y_hat.shape!=y.shape:\n",
    "            raise ValueError(\"Attention, les deux inputs n'ont pas la même dimension !\")\n",
    "        device=y.device\n",
    "        \n",
    "        w=torch.repeat_interleave(torch.tensor(self.weights[0]),y.shape[1])\n",
    "        w=w.repeat(y.shape[0],1)\n",
    "        w[torch.arange(y.shape[0],dtype=torch.long).unsqueeze(1),torch.topk(y,3)[1]]=self.weights[1]\n",
    "        sum_weights=w.sum()\n",
    "        w=w.to(device)\n",
    "        sum_weights=sum_weights.to(device)\n",
    "        errors=torch.sub(y,y_hat)\n",
    "        errors=torch.abs(errors)\n",
    "        weighted_errors=torch.mul(w,errors)\n",
    "        sum_weighted_errors=weighted_errors.sum()\n",
    "        WMAE=torch.div(sum_weighted_errors,sum_weights)\n",
    "        #WMAE.requires_grad=True\n",
    "        return Variable(WMAE,requires_grad=True)#,sum_weighted_errors,sum_weights\n",
    "    \n",
    "    def Weighted_Sum(self,y_hat,y) -> torch.Tensor:\n",
    "        '''\n",
    "        Calcule la somme pondérée de la différence de la prédiction du modèle et du vecteur cible.\n",
    "        '''\n",
    "        if y_hat.shape!=y.shape:\n",
    "            raise ValueError(\"Attention, les deux inputs n'ont pas la même dimension !\")\n",
    "        \n",
    "        device_yhat=y_hat.device\n",
    "        device_y=y.device\n",
    "        if device_yhat!=device_y:\n",
    "            y.to(device_yhat)\n",
    "        \n",
    "        w=torch.repeat_interleave(torch.tensor(self.weights[0]),y.shape[1])\n",
    "        w=w.repeat(y.shape[0],1)\n",
    "        w[torch.arange(y.shape[0],dtype=torch.long).unsqueeze(1),torch.topk(y,3)[1]]=self.weights[1]\n",
    "        w=w.to(device_yhat)\n",
    "        y_diff=y_hat-y\n",
    "        y_diff_pond=torch.mul(y_diff,w)\n",
    "        sum_y_diff_pon=-torch.div(torch.sum(y_diff_pond),y_hat.shape[0])\n",
    "        return Variable(sum_y_diff_pon,requires_grad=True)\n",
    "    \n",
    "    def __call__(self,y_hat,y) -> torch.Tensor:\n",
    "        if self.loss_type=='L1':\n",
    "            loss=self.Weighted_L1(y_hat,y)\n",
    "            return loss\n",
    "        elif self.loss_type=='sum':\n",
    "            loss=self.Weighted_Sum(y_hat,y)\n",
    "            return loss\n",
    "        else:\n",
    "            raise ValueError(\"Attention, veuillez bien spécifier un type de perte.\\nSeules les valeurs 'L1' ou 'sum' sont acceptées.\")\n",
    "        "
   ]
  },
  {
   "cell_type": "code",
   "execution_count": 93,
   "metadata": {},
   "outputs": [
    {
     "name": "stdout",
     "output_type": "stream",
     "text": [
      "tensor(1160.9480, requires_grad=True)\n",
      "tensor(0.3357)\n",
      "On voit que la première est plus élevée que la deuxième, c'est ce que l'on cherche dans notre cas !\n"
     ]
    },
    {
     "name": "stderr",
     "output_type": "stream",
     "text": [
      "<ipython-input-92-ccd817f21f9c>:51: UserWarning: To copy construct from a tensor, it is recommended to use sourceTensor.clone().detach() or sourceTensor.clone().detach().requires_grad_(True), rather than torch.tensor(sourceTensor).\n",
      "  w=torch.repeat_interleave(torch.tensor(self.weights[0]),y.shape[1])\n"
     ]
    }
   ],
   "source": [
    "x=torch.rand(100,14)\n",
    "y=torch.rand(100,14)\n",
    "loss=Weighted_Loss(weight=[torch.tensor(0.5),torch.tensor(1000.)],loss_type='sum')\n",
    "print(loss(x,y))\n",
    "perte=torch.nn.L1Loss()\n",
    "print(perte(x,y))\n",
    "print(\"On voit que la première est plus élevée que la deuxième, c'est ce que l'on cherche dans notre cas !\")"
   ]
  },
  {
   "cell_type": "code",
   "execution_count": null,
   "metadata": {},
   "outputs": [],
   "source": [
    "import torch\n",
    "import torch.nn as nn\n",
    "from torch.autograd import Variable\n",
    "\n",
    "y = Variable(torch.rand(2,10),requires_grad=True)#Variable(torch.rand(5, 3), requires_grad=True)\n",
    "t = torch.rand(2,10)#Variable(torch.LongTensor(5).random_(0, 2))\n",
    "m=Weighted_Loss(weight=[torch.tensor(0.5),torch.tensor(1000.)])\n",
    "#m = nn.L1Loss()#MultiMarginLoss()\n",
    "loss = m(y, t)\n",
    "loss.backward()\n",
    "print(y.grad)"
   ]
  },
  {
   "cell_type": "markdown",
   "metadata": {},
   "source": [
    "## On prépare l'entraînement"
   ]
  },
  {
   "cell_type": "markdown",
   "metadata": {},
   "source": [
    "On vérifie que du GPU est disponible"
   ]
  },
  {
   "cell_type": "code",
   "execution_count": 7,
   "metadata": {},
   "outputs": [
    {
     "data": {
      "text/plain": [
       "True"
      ]
     },
     "execution_count": 7,
     "metadata": {},
     "output_type": "execute_result"
    }
   ],
   "source": [
    "torch.cuda.is_available()"
   ]
  },
  {
   "cell_type": "code",
   "execution_count": 8,
   "metadata": {},
   "outputs": [],
   "source": [
    "device = torch.device(\"cuda\")"
   ]
  },
  {
   "cell_type": "markdown",
   "metadata": {},
   "source": [
    "On charge nos données d'entraînement"
   ]
  },
  {
   "cell_type": "code",
   "execution_count": 9,
   "metadata": {},
   "outputs": [],
   "source": [
    "train_dataset=pickle.load(open('train.pickle','rb'))"
   ]
  },
  {
   "cell_type": "markdown",
   "metadata": {},
   "source": [
    "On crée notre dataloader, indispensable pour créer une boucle d'entraînement sous torch, on fixe notre taille de batch"
   ]
  },
  {
   "cell_type": "code",
   "execution_count": 138,
   "metadata": {},
   "outputs": [],
   "source": [
    "summa.to('cpu'),input_id.to('cpu'),mask.to('cpu'),mask_cls.to('cpu'),output.to('cpu')\n",
    "del summa,input_id,mask,mask_cls,output,dataloader\n",
    "torch.cuda.empty_cache()"
   ]
  },
  {
   "cell_type": "code",
   "execution_count": 10,
   "metadata": {},
   "outputs": [],
   "source": [
    "from torch.utils.data import TensorDataset, DataLoader, RandomSampler, SequentialSampler\n",
    "\n",
    "batch_size=8\n",
    "\n",
    "dataloader = DataLoader(\n",
    "            train_dataset,\n",
    "            sampler = RandomSampler(train_dataset),\n",
    "            batch_size = batch_size)"
   ]
  },
  {
   "cell_type": "markdown",
   "metadata": {},
   "source": [
    "A ne lancer que si on veut ré-initialiser la mémoire sur GPU"
   ]
  },
  {
   "cell_type": "code",
   "execution_count": null,
   "metadata": {},
   "outputs": [],
   "source": [
    "t = torch.cuda.get_device_properties(0).total_memory\n",
    "r = torch.cuda.memory_reserved(0) \n",
    "a = torch.cuda.memory_allocated(0)\n",
    "f = r-a  # free inside reserved\n",
    "f"
   ]
  },
  {
   "cell_type": "markdown",
   "metadata": {},
   "source": [
    "On place le modèle sur GPU"
   ]
  },
  {
   "cell_type": "code",
   "execution_count": 11,
   "metadata": {},
   "outputs": [
    {
     "name": "stderr",
     "output_type": "stream",
     "text": [
      "Some weights of the model checkpoint at camembert-base were not used when initializing CamembertModel: ['lm_head.dense.weight', 'lm_head.dense.bias', 'lm_head.decoder.weight', 'lm_head.layer_norm.bias', 'lm_head.bias', 'lm_head.layer_norm.weight']\n",
      "- This IS expected if you are initializing CamembertModel from the checkpoint of a model trained on another task or with another architecture (e.g. initializing a BertForSequenceClassification model from a BertForPreTraining model).\n",
      "- This IS NOT expected if you are initializing CamembertModel from the checkpoint of a model that you expect to be exactly identical (initializing a BertForSequenceClassification model from a BertForSequenceClassification model).\n"
     ]
    }
   ],
   "source": [
    "training_stats = []\n",
    "epochs=20\n",
    "summa=Summarizer(device=device,classif='simple_linear')"
   ]
  },
  {
   "cell_type": "markdown",
   "metadata": {},
   "source": [
    "On défini notre algorithme d'apprentissage"
   ]
  },
  {
   "cell_type": "code",
   "execution_count": 12,
   "metadata": {},
   "outputs": [],
   "source": [
    "optimizer = AdamW(summa.parameters(),\n",
    "                  lr = 2e-4, # Learning Rate\n",
    "                  eps = 1e-3)# Epsilon"
   ]
  },
  {
   "cell_type": "markdown",
   "metadata": {},
   "source": [
    "On défini notre score"
   ]
  },
  {
   "cell_type": "code",
   "execution_count": 13,
   "metadata": {},
   "outputs": [],
   "source": [
    "score=F1_score()"
   ]
  },
  {
   "cell_type": "markdown",
   "metadata": {},
   "source": [
    "On défini notre fonction de perte"
   ]
  },
  {
   "cell_type": "code",
   "execution_count": 128,
   "metadata": {},
   "outputs": [],
   "source": [
    "alpha=0.001\n",
    "weights=torch.Tensor([alpha*1/((512-3)/512),(1-alpha)*1/((3)/512)])\n",
    "#weight_example=torch.Tensor([1000,10000])\n",
    "loss=Weighted_Loss(weight=weights)#,loss_type='sum')"
   ]
  },
  {
   "cell_type": "code",
   "execution_count": 16,
   "metadata": {},
   "outputs": [],
   "source": [
    "loss=nn.MSELoss()#nn.L1Loss()"
   ]
  },
  {
   "cell_type": "markdown",
   "metadata": {},
   "source": [
    "Si on veut vérifier de combien de mémoire nous disposons"
   ]
  },
  {
   "cell_type": "markdown",
   "metadata": {},
   "source": [
    "## Boucle d'entraînement\n",
    "On passe maintenant à l'entraînement !"
   ]
  },
  {
   "cell_type": "code",
   "execution_count": 17,
   "metadata": {},
   "outputs": [
    {
     "name": "stdout",
     "output_type": "stream",
     "text": [
      "########## Epoch 1 / 20 ##########\n",
      "\n",
      "  Average training loss: 0.0042\n",
      "########## Epoch 2 / 20 ##########\n",
      "\n",
      "  Average training loss: 0.0042\n",
      "########## Epoch 3 / 20 ##########\n",
      "\n",
      "  Average training loss: 0.0042\n",
      "########## Epoch 4 / 20 ##########\n",
      "\n",
      "  Average training loss: 0.0042\n",
      "########## Epoch 5 / 20 ##########\n",
      "\n",
      "  Average training loss: 0.0042\n",
      "Model saved!\n"
     ]
    }
   ],
   "source": [
    "#Pour enregistrer les informations de l'entraînement\n",
    "training_stats = []\n",
    "score_stat=[]\n",
    "#loss.requires_grad=True\n",
    "pred_output={}\n",
    "# Boucle d'entrainement\n",
    "for epoch in range(0, 5):\n",
    "     \n",
    "    #print(\"\")\n",
    "    print(f'########## Epoch {epoch+1} / {epochs} ##########')\n",
    "    #print('Training...')\n",
    " \n",
    " \n",
    "    # On initialise la loss pour cette epoque\n",
    "    total_train_loss = 0\n",
    "    score_e=0\n",
    "    pred=[]\n",
    "    # On met le modele en mode 'training'\n",
    "    # Dans ce mode certaines couches du modele agissent differement\n",
    "    summa.train()\n",
    " \n",
    "    # Pour chaque batch\n",
    "    for step, batch in enumerate(dataloader):\n",
    " \n",
    "        # On fait un print chaque 40 batchs\n",
    "        #if step % 30 == 0 and not step == 0:\n",
    "         #   print(f'  Batch {step}  of {len(dataloader)}.')\n",
    "         \n",
    "        # On recupere les donnees du batch\n",
    "        input_id = batch[0].to(device)\n",
    "        mask = batch[1].to(device)\n",
    "        clss = batch[2].to(device)\n",
    "        mask_cls=batch[3].to(device)\n",
    "        output=batch[4].to(device)\n",
    " \n",
    "        # On met le gradient a 0\n",
    "        summa.zero_grad()        \n",
    " \n",
    "        # On passe la donnee au model et on recupere la loss et le logits (sortie avant fonction d'activation)\n",
    "        sortie = summa(x=input_id,mask=mask,mask_cls=mask_cls)#,clss=clss,output=output)\n",
    "        \n",
    "        #On indique qu'on souhaite tracer le gradient de la sortie dans la fonction de perte\n",
    "        sortie=Variable(sortie,requires_grad=True)\n",
    "        pred.append(sortie)\n",
    "        #On calcule et garde le score pour information\n",
    "        score_e+=score(sortie,output)\n",
    "        #print(score_stat[step])\n",
    "        loss_train=loss(sortie,output)\n",
    "\n",
    "        #print(loss_train)\n",
    "        # On incremente la loss totale\n",
    "        # .item() donne la valeur numerique de la loss\n",
    "        total_train_loss += loss_train.item()\n",
    "\n",
    "        # Backpropagtion\n",
    "        loss_train.backward()\n",
    " \n",
    "        # On actualise les paramètres grace a l'optimizer\n",
    "        optimizer.step()\n",
    "    score_stat.append(score_e/len(dataloader))\n",
    "    # On calcule la  loss moyenne sur toute l'epoque\n",
    "    avg_train_loss = total_train_loss / len(dataloader)   \n",
    "    pred_output[epoch]=pred\n",
    "    print(\"\")\n",
    "    print(\"  Average training loss: {0:.4f}\".format(avg_train_loss))  \n",
    "     \n",
    "    # Enregistrement des stats de l'epoque\n",
    "    training_stats.append(\n",
    "        {\n",
    "            'epoch': epoch + 1,\n",
    "            'Training Loss': avg_train_loss,\n",
    "        }\n",
    "    )\n",
    "\n",
    "print(\"Model saved!\")\n",
    "torch.save(summa.state_dict(), \"model_essai.pt\")\n"
   ]
  },
  {
   "cell_type": "code",
   "execution_count": 48,
   "metadata": {},
   "outputs": [],
   "source": [
    "train_loss=[training_stats[i]['Training Loss'] for i in range(epochs)]"
   ]
  },
  {
   "cell_type": "code",
   "execution_count": 60,
   "metadata": {},
   "outputs": [],
   "source": [
    "score_par_epoch=[torch.mean(torch.as_tensor(score_stat[x:x+57])) for x in range(0,len(score_stat),57)]"
   ]
  },
  {
   "cell_type": "code",
   "execution_count": 66,
   "metadata": {},
   "outputs": [
    {
     "data": {
      "text/plain": [
       "[Text(0.5, 0, 'époques'),\n",
       " Text(0, 0.5, 'score loss'),\n",
       " Text(0.5, 1.0, 'score par époques')]"
      ]
     },
     "execution_count": 66,
     "metadata": {},
     "output_type": "execute_result"
    },
    {
     "data": {
      "image/png": "[encoded data removed]",
      "text/plain": [
       "<Figure size 1296x1008 with 2 Axes>"
      ]
     },
     "metadata": {
      "needs_background": "light"
     },
     "output_type": "display_data"
    }
   ],
   "source": [
    "import matplotlib.pyplot as plt\n",
    "fig,ax=plt.subplots(2,figsize=(18,14))\n",
    "ax[0].plot([i for i in range(epochs)],train_loss)\n",
    "ax[1].plot([i for i in range(epochs)],score_par_epoch)\n",
    "ax[1].set(xlabel=\"époques\",ylabel=\"score loss\",title=\"score par époques\")"
   ]
  },
  {
   "cell_type": "code",
   "execution_count": 79,
   "metadata": {},
   "outputs": [
    {
     "data": {
      "text/plain": [
       "[tensor(195.7910, device='cuda:0', grad_fn=<SumBackward0>),\n",
       " tensor(197.4366, device='cuda:0', grad_fn=<SumBackward0>),\n",
       " tensor(199.1156, device='cuda:0', grad_fn=<SumBackward0>),\n",
       " tensor(200.9207, device='cuda:0', grad_fn=<SumBackward0>),\n",
       " tensor(199.5107, device='cuda:0', grad_fn=<SumBackward0>),\n",
       " tensor(197.2328, device='cuda:0', grad_fn=<SumBackward0>)]"
      ]
     },
     "execution_count": 79,
     "metadata": {},
     "output_type": "execute_result"
    }
   ],
   "source": [
    "#CEL=nn.CrossEntropyLoss()\n",
    "#CEL(pred_output[0][0][0],output[0])\n",
    "[torch.sum(-output[i]+pred_output[0][i][0]) for i in range(output.shape[0])]"
   ]
  },
  {
   "cell_type": "code",
   "execution_count": null,
   "metadata": {},
   "outputs": [],
   "source": [
    "output.shape"
   ]
  },
  {
   "cell_type": "code",
   "execution_count": null,
   "metadata": {},
   "outputs": [],
   "source": [
    "pickle.dump(pred_output,open('pred_output.pickle','wb'))"
   ]
  },
  {
   "cell_type": "code",
   "execution_count": null,
   "metadata": {},
   "outputs": [],
   "source": [
    "torch.cuda.memory_summary(device=None, abbreviated=False)"
   ]
  },
  {
   "cell_type": "code",
   "execution_count": null,
   "metadata": {},
   "outputs": [],
   "source": [
    "score_stat"
   ]
  },
  {
   "cell_type": "code",
   "execution_count": null,
   "metadata": {},
   "outputs": [],
   "source": [
    "avg_train_loss"
   ]
  },
  {
   "cell_type": "code",
   "execution_count": null,
   "metadata": {},
   "outputs": [],
   "source": [
    "validation=pickle.load(open('validation.pickle','rb'))\n",
    "valid_dataloader = DataLoader(\n",
    "            validation,\n",
    "            sampler = RandomSampler(validation),\n",
    "            batch_size = 8)"
   ]
  },
  {
   "cell_type": "code",
   "execution_count": null,
   "metadata": {},
   "outputs": [],
   "source": [
    "#summa=torch.load(\"model_essai.pt\")\n",
    "device = torch.device(\"cuda\")\n",
    "summa=Summarizer(device=device)\n",
    "summa.load_state_dict(torch.load(\"model_essai.pt\"))\n",
    "#summa"
   ]
  },
  {
   "cell_type": "code",
   "execution_count": null,
   "metadata": {},
   "outputs": [],
   "source": [
    "summa.eval()\n",
    "for step,batch in enumerate(valid_dataloader):\n",
    "    if step==0:\n",
    "        input_id_valid = batch[0].to(device)\n",
    "        mask_valid = batch[1].to(device)\n",
    "        clss_valid = batch[2].to(device)\n",
    "        mask_cls_valid=batch[3].to(device)\n",
    "        output_valid=batch[4].to(device)\n",
    "        with torch.no_grad():\n",
    "            pred=summa(x=input_id_valid,mask=mask_valid,clss=clss_valid,mask_cls=mask_cls_valid,output=output_valid)\n",
    "            print(pred)\n",
    "    #valid.append(batch)\n",
    "    else:\n",
    "        break\n",
    "\n"
   ]
  },
  {
   "cell_type": "code",
   "execution_count": null,
   "metadata": {},
   "outputs": [],
   "source": [
    "f1=F1_score()\n",
    "f1(pred,output_valid)"
   ]
  },
  {
   "cell_type": "code",
   "execution_count": null,
   "metadata": {},
   "outputs": [],
   "source": [
    "import numpy as np\n",
    "torch.tensor([1/(3/512),1/((512-3)/512)])\n"
   ]
  },
  {
   "cell_type": "code",
   "execution_count": null,
   "metadata": {},
   "outputs": [],
   "source": [
    "CEL=torch.nn.CrossEntropyLoss(weight=torch.tensor([1/(3/512),1/((512-3)/512)]))\n",
    "CEL()"
   ]
  },
  {
   "cell_type": "code",
   "execution_count": null,
   "metadata": {},
   "outputs": [],
   "source": [
    "loss = nn.CrossEntropyLoss()\n",
    "input = pred[0]#torch.randn(3, 5, requires_grad=True)\n",
    "target = output_valid[0]#torch.empty(3, dtype=torch.long).random_(5)\n",
    "output = loss(input, target)\n",
    "output"
   ]
  },
  {
   "cell_type": "code",
   "execution_count": null,
   "metadata": {},
   "outputs": [],
   "source": []
  }
 ],
 "metadata": {
  "kernelspec": {
   "display_name": "Python 3",
   "language": "python",
   "name": "python3"
  },
  "language_info": {
   "codemirror_mode": {
    "name": "ipython",
    "version": 3
   },
   "file_extension": ".py",
   "mimetype": "text/x-python",
   "name": "python",
   "nbconvert_exporter": "python",
   "pygments_lexer": "ipython3",
   "version": "3.8.5"
  }
 },
 "nbformat": 4,
 "nbformat_minor": 4
}
