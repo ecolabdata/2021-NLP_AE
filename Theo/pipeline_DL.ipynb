{
 "cells": [
  {
   "cell_type": "markdown",
   "source": [
    "# PIPELINE RESUME DEEP LEARNING\n",
    "\n",
    "**Bonjour** et **bienvenue** dans ce Jupyter de pipeline résumé via des méthodes de Deep Learning. Veillez bien à avoir le fichier __fats.py__ dans votre dossier pour l'importer correctement. Décommenter la 1ère cellule si besoin pour installer les packages requis.\n",
    "\n",
    "Vérifiez de bien avoir le fichier __MLSUM_fr_test.pickle__ (ou un autre fichier contenant des paragraphes à résumer, attention à la dimension) ainsi que le tokenizer (ou un tokenizer, suivant le texte que vous utilisez)."
   ],
   "metadata": {}
  },
  {
   "cell_type": "code",
   "execution_count": null,
   "source": [
    "# A faire tourner que si vous n'avez pas déjà installé les packages nécessaires\r\n",
    "!pip install gensim==3.8.3\r\n",
    "!pip install unidecode\r\n",
    "!pip install torch\r\n",
    "!pip install sentencepiece\r\n",
    "!pip install transformers\r\n",
    "!pip install bs4\r\n",
    "!pip install networkx"
   ],
   "outputs": [],
   "metadata": {}
  },
  {
   "cell_type": "code",
   "execution_count": 2,
   "source": [
    "import warnings\r\n",
    "warnings.filterwarnings('ignore')\r\n",
    "\r\n",
    "import pickle\r\n",
    "import os\r\n",
    "os.chdir('C:\\\\Users\\\\theo.roudil-valentin\\\\Documents\\\\Codes')\r\n",
    "os.chdir(\"2021-NLP_AE\\\\Theo\") #Indiquez votre chemin vers votre dossier correspondant\r\n",
    "\r\n",
    "import fats"
   ],
   "outputs": [],
   "metadata": {}
  },
  {
   "cell_type": "code",
   "execution_count": 5,
   "source": [
    "texte=pickle.load(open('Paragraphes_exemple.pickle','rb')) # Veillez à bien avoir le fichier test en question pour pouvoir reproduire l'exemple\r\n",
    "\r\n",
    "tok='MLSUM_tokenizer.model' # choix du tokenizer"
   ],
   "outputs": [],
   "metadata": {}
  },
  {
   "cell_type": "code",
   "execution_count": 6,
   "source": [
    "r=fats.make_DL_resume(texte, # une liste de phrases ou une liste de listes de phrases.\r\n",
    "                      cpu=2, # nombre de cpu à utiliser, je conseille peu de cpu pour garder de la mémoire.\r\n",
    "                      choose_model='SMHA', # le nom du modèle à aller chercher. si vous ne les connaissez pas, \r\n",
    "                      #ne mettez rien et l'erreur affichera les noms des modèles.\r\n",
    "                      k=3, # nombre de phrases à retenir\r\n",
    "                      camem=None, # le modèle camembert que vous utilisez, par défaut le modèle from_pretrained('camembert_base') sera utilisé\r\n",
    "                      vs=12000, # taille du vocabulaire pour l'encoding, paramètre pour le tokenizer. Fixé à 12000 par convenance.\r\n",
    "                      sp=1, # split, fixé à 1 car cette fonction n'est pas pour l'entraînement.\r\n",
    "                      tok=tok, # le chemin vers le tokenizer, par défaut 'MLSUM_tokenizer.model', \r\n",
    "                      #faîtes donc bien attention à changer le chemin os vers le bon dossier au début du Notebook\r\n",
    "                      tr=False, # dummy pour l'entraînement, fixé à False donc.\r\n",
    "                      get_score_only=False) # dummy pour ne récupérer que les index des phrases et non les phrases elles-mêmes."
   ],
   "outputs": [
    {
     "output_type": "error",
     "ename": "ValueError",
     "evalue": "Attention, ce que vous avez entré pour la variable choose_model ne semble pas convenir. Vous ne possédez probablement pas le modèle dans votre dossier ou l'avez mal rebaptisé. Les noms corrects sont les suivants :\nSMHA_Linear_classifier.pt,\nSimple_Classifier.pt,\nNet.pt,\nMulti_Linear_Classifier.pt",
     "traceback": [
      "\u001b[1;31m---------------------------------------------------------------------------\u001b[0m",
      "\u001b[1;31mAssertionError\u001b[0m                            Traceback (most recent call last)",
      "\u001b[1;32mc:\\Users\\theo.roudil-valentin\\Documents\\Codes\\2021-NLP_AE\\Theo\\fats.py\u001b[0m in \u001b[0;36mmake_DL_resume\u001b[1;34m(texte, cpu, choose_model, k, camem, vs, sp, tok, tr, get_score_only)\u001b[0m\n\u001b[0;32m   1463\u001b[0m     \u001b[1;32mtry\u001b[0m\u001b[1;33m:\u001b[0m\u001b[1;33m\u001b[0m\u001b[1;33m\u001b[0m\u001b[0m\n\u001b[1;32m-> 1464\u001b[1;33m         \u001b[1;32massert\u001b[0m \u001b[0mnp\u001b[0m\u001b[1;33m.\u001b[0m\u001b[0msum\u001b[0m\u001b[1;33m(\u001b[0m\u001b[1;33m[\u001b[0m\u001b[1;36m1\u001b[0m \u001b[1;32mif\u001b[0m \u001b[0mchoose_model\u001b[0m \u001b[1;32min\u001b[0m \u001b[0mi\u001b[0m \u001b[1;32melse\u001b[0m \u001b[1;36m0\u001b[0m \u001b[1;32mfor\u001b[0m \u001b[0mi\u001b[0m \u001b[1;32min\u001b[0m \u001b[0mos\u001b[0m\u001b[1;33m.\u001b[0m\u001b[0mlistdir\u001b[0m\u001b[1;33m(\u001b[0m\u001b[1;33m)\u001b[0m\u001b[1;33m]\u001b[0m\u001b[1;33m)\u001b[0m\u001b[1;33m>\u001b[0m\u001b[1;36m0\u001b[0m\u001b[1;33m\u001b[0m\u001b[1;33m\u001b[0m\u001b[0m\n\u001b[0m\u001b[0;32m   1465\u001b[0m     \u001b[1;32mexcept\u001b[0m\u001b[1;33m:\u001b[0m\u001b[1;33m\u001b[0m\u001b[1;33m\u001b[0m\u001b[0m\n",
      "\u001b[1;31mAssertionError\u001b[0m: ",
      "\nDuring handling of the above exception, another exception occurred:\n",
      "\u001b[1;31mValueError\u001b[0m                                Traceback (most recent call last)",
      "\u001b[1;32m<ipython-input-6-6d46e19274ae>\u001b[0m in \u001b[0;36m<module>\u001b[1;34m\u001b[0m\n\u001b[0;32m     10\u001b[0m                       \u001b[1;31m#faîtes donc bien attention à changer le chemin os vers le bon dossier au début du Notebook\u001b[0m\u001b[1;33m\u001b[0m\u001b[1;33m\u001b[0m\u001b[1;33m\u001b[0m\u001b[0m\n\u001b[0;32m     11\u001b[0m                       \u001b[0mtr\u001b[0m\u001b[1;33m=\u001b[0m\u001b[1;32mFalse\u001b[0m\u001b[1;33m,\u001b[0m \u001b[1;31m# dummy pour l'entraînement, fixé à False donc.\u001b[0m\u001b[1;33m\u001b[0m\u001b[1;33m\u001b[0m\u001b[0m\n\u001b[1;32m---> 12\u001b[1;33m                       get_score_only=False) # dummy pour ne récupérer que les index des phrases et non les phrases elles-mêmes.\n\u001b[0m",
      "\u001b[1;32mc:\\Users\\theo.roudil-valentin\\Documents\\Codes\\2021-NLP_AE\\Theo\\fats.py\u001b[0m in \u001b[0;36mmake_DL_resume\u001b[1;34m(texte, cpu, choose_model, k, camem, vs, sp, tok, tr, get_score_only)\u001b[0m\n\u001b[0;32m   1464\u001b[0m         \u001b[1;32massert\u001b[0m \u001b[0mnp\u001b[0m\u001b[1;33m.\u001b[0m\u001b[0msum\u001b[0m\u001b[1;33m(\u001b[0m\u001b[1;33m[\u001b[0m\u001b[1;36m1\u001b[0m \u001b[1;32mif\u001b[0m \u001b[0mchoose_model\u001b[0m \u001b[1;32min\u001b[0m \u001b[0mi\u001b[0m \u001b[1;32melse\u001b[0m \u001b[1;36m0\u001b[0m \u001b[1;32mfor\u001b[0m \u001b[0mi\u001b[0m \u001b[1;32min\u001b[0m \u001b[0mos\u001b[0m\u001b[1;33m.\u001b[0m\u001b[0mlistdir\u001b[0m\u001b[1;33m(\u001b[0m\u001b[1;33m)\u001b[0m\u001b[1;33m]\u001b[0m\u001b[1;33m)\u001b[0m\u001b[1;33m>\u001b[0m\u001b[1;36m0\u001b[0m\u001b[1;33m\u001b[0m\u001b[1;33m\u001b[0m\u001b[0m\n\u001b[0;32m   1465\u001b[0m     \u001b[1;32mexcept\u001b[0m\u001b[1;33m:\u001b[0m\u001b[1;33m\u001b[0m\u001b[1;33m\u001b[0m\u001b[0m\n\u001b[1;32m-> 1466\u001b[1;33m         \u001b[1;32mraise\u001b[0m \u001b[0mValueError\u001b[0m\u001b[1;33m(\u001b[0m\u001b[1;34m\"Attention, ce que vous avez entré pour la variable choose_model ne semble pas convenir. Vous ne possédez probablement pas le modèle dans votre dossier ou l'avez mal rebaptisé. Les noms corrects sont les suivants :\\nSMHA_Linear_classifier.pt,\\nSimple_Classifier.pt,\\nNet.pt,\\nMulti_Linear_Classifier.pt\"\u001b[0m\u001b[1;33m)\u001b[0m\u001b[1;33m\u001b[0m\u001b[1;33m\u001b[0m\u001b[0m\n\u001b[0m\u001b[0;32m   1467\u001b[0m \u001b[1;33m\u001b[0m\u001b[0m\n\u001b[0;32m   1468\u001b[0m     \u001b[1;32mif\u001b[0m \u001b[0mcamem\u001b[0m\u001b[1;33m==\u001b[0m\u001b[1;32mNone\u001b[0m\u001b[1;33m:\u001b[0m\u001b[1;33m\u001b[0m\u001b[1;33m\u001b[0m\u001b[0m\n",
      "\u001b[1;31mValueError\u001b[0m: Attention, ce que vous avez entré pour la variable choose_model ne semble pas convenir. Vous ne possédez probablement pas le modèle dans votre dossier ou l'avez mal rebaptisé. Les noms corrects sont les suivants :\nSMHA_Linear_classifier.pt,\nSimple_Classifier.pt,\nNet.pt,\nMulti_Linear_Classifier.pt"
     ]
    }
   ],
   "metadata": {}
  },
  {
   "cell_type": "code",
   "execution_count": 4,
   "source": [
    "r # affiche le ou les résumés"
   ],
   "outputs": [
    {
     "output_type": "execute_result",
     "data": {
      "text/plain": [
       "[[' CARL RECINE / REUTERS Liverpool au sommet de l’Europe… et de l’ennui',\n",
       "  ' Les Reds, pour ne pas se découvrir, ont allongé le jeu et outre l’intenable Salah (21e, 22e, 39e), seuls les latéraux Trent Alexander-Arnold, d’une frappe trop croisée (17e), et Andy Robertson, d’un tir claqué par Lloris (38e), ont instillé quelques frissons dans la torpeur ambiante',\n",
       "  ' En 2018, les bourdes du gardien Loris Karius avaient plombé Liverpool'],\n",
       " [' C’est au contraire comme un vagabond ami de la Terre, arpenteur inventif, ouvert aux fécondités du hasard',\n",
       "  ' Michel Serres aura sans doute rendu à la philosophie française son sens de la rencontre, de l’imprévu, du jeu',\n",
       "  ' Une affaire de style plutôt, et de tempérament'],\n",
       " [' Or Michel Serres fut un grand voyageur – ce qui lui permit d’être, aussi, un prodigieux conteur d’histoires',\n",
       "  ' Michel Serres est décédé samedi 1er juin, à l’âge de 88 ans',\n",
       "  ' A l’intérieur de celui-ci, le plus petit opuscule, le moindre sous-système reproduit la structure de l’ensemble'],\n",
       " [' Dominé physiquement et fébrile en première période, le LOU a fini par étouffer Montpellier en barrages du Top 14 (21-16), samedi 1er juin dans la fournaise de Gerland et au bout du suspense',\n",
       "  ' Les Lyonnais se qualifient pour les demi-finales pour la seconde année consécutive',\n",
       "  ' Le premier s’est ainsi fait contrer par Aaron Cruden, dont l’essai a placé Montpellier en tête (4), alors que le second a perdu un ballon facile qui a permis à Benoît Paillaugue de creuser l’écart (11, 10-0)'],\n",
       " [' Plusieurs élus locaux berlinois, des membres du Bundestag, ainsi que l’ambassadeur des Etats-Unis en Allemagne, Richard Grenell, et le commissaire du gouvernement chargé de l’antisémitisme, Felix Klein, ont participé à ce rassemblement, au-dessus duquel flottaient des drapeaux israéliens, dans le centre de la capitale',\n",
       "  ' Klein lors du rassemblement',\n",
       "  ' Un Israélien portant la kippa avait été frappé à coups de ceinture par un Syrien dans le quartier huppé de Prenzlauer Berg'],\n",
       " [' Sa postérité sera établie en 1972 grâce à son insertion dans Nuggets : Original Artyfacts from the First Psychedelic Era, 1965 – 1968, un double album compilé par le critique (et futur guitariste de Patti Smith) Lenny Kaye, devenue la bible des amateurs de garage et d’acid rock',\n",
       "  ' L’impression que les musiciens évoluent dans une caverne The 13th Floor Elevators – le 13e étage est souvent omis, par superstition, dans les ascenseurs aux Etats-Unis – reste associé à You’re Gonna Miss Me, une composition d’Erickson publiée en 45-tours en 1966, peu après la formation du quintette à Austin',\n",
       "  ' Les « ascenseurs », qui sont parmi les premiers à faire usage du mot psychédélisme, en profitent pour livrer leur premier album, The Psychedelic Sounds of the 13th Floor Elevators, canonique d’une esthétique usant de la pédale fuzz pour la saturation des guitares et d’une réverbération qui donne l’impression que les musiciens évoluent non pas dans un garage, mais dans une caverne'],\n",
       " [' RYAD KRAMDI / AFP Plusieurs milliers de personnes ont assisté samedi 1er juin à Alger à l’enterrement de Kamel Eddine Fekhar, un militant des droits humains mort en détention',\n",
       "  ' Il faisait partie des militants arrêtés après des violences communautaires dont la région du M’zab (dont Ghardaïa est la principale ville) a été le théâtre en 2015 entre Mozabites, des Berbères de rite ibadite, un courant minoritaire de l’islam, et Chaâmbas, des Arabes de rite malékite',\n",
       "  ' Kamel Eddine Fekhar avait déjà purgé une peine de deux ans de prison notamment pour « atteinte à la sûreté de l’Etat » et « trouble à l’ordre public » et avait été libéré en juillet 2017'],\n",
       " [' DENIS GLIKSMAN / INRAP Ouvrez votre portefeuille',\n",
       "  ' Les grandes heures des ducs de Bourgogne se sont achevées avec la mort de Charles le Téméraire en 1477 mais « sous leur impulsion, la ville a connu des modifications importantes, souligne Stéphane Alix, responsable scientifique de l’équipe qui a réalisé la découverte',\n",
       "  ' » Concrétion Lors de sa mise au jour, en janvier, la petite boîte métallique contenant les monnaies ainsi qu’un petit pendentif n’était plus que morceaux épars et corrodés'],\n",
       " [' Cela dit, avec l’ancien bateau on cherchait encore… », sourit-il',\n",
       "  ' Je me dis qu’à quatrième étape, j’arriverai peut-être à le maîtriser',\n",
       "  ' On cherche à quoi correspondent les ficelles à bord'],\n",
       " [' Il y retourne et trouve comme seule explication la même que Samuel Beckett, quand on lui avait demandé un jour pourquoi il écrivait : « Bon qu’à ça',\n",
       "  ' Mais surtout naviguer sur ce type de bateau, c’est avoir le goût des intérieurs bien astiqués – celui d’un Figaro a toujours été grand comme un coin cuisine – et avoir aussi dans son arbre un aïeul écossais, car le goût de la victoire à l’économie est capital : le classement s’effectue au temps, le vainqueur est donc celui ou celle qui met le moins de temps au cumul de toutes les étapes',\n",
       "  ' Eh bien non : ils sont de retour']]"
      ]
     },
     "metadata": {},
     "execution_count": 4
    }
   ],
   "metadata": {}
  },
  {
   "cell_type": "markdown",
   "source": [
    "## On prend en exemple un ensemble d'articles"
   ],
   "metadata": {}
  },
  {
   "cell_type": "code",
   "execution_count": null,
   "source": [
    "from transformers import CamembertModel\r\n",
    "camem2=CamembertModel.from_pretrained(\"camembert-base\")\r\n",
    "\r\n",
    "from transformers import CamembertTokenizer\r\n",
    "from unidecode import unidecode\r\n",
    "from bs4 import BeautifulSoup\r\n",
    "import gensim\r\n",
    "from functools import partial\r\n",
    "import sentencepiece as spm \r\n",
    "import psutil\r\n",
    "from tqdm import tqdm\r\n",
    "import time\r\n",
    "import functools\r\n",
    "import operator\r\n",
    "from joblib import Parallel,delayed\r\n",
    "from joblib.parallel import cpu_count\r\n",
    "import pandas as pd\r\n",
    "import numpy as np"
   ],
   "outputs": [],
   "metadata": {}
  },
  {
   "cell_type": "code",
   "execution_count": 3,
   "source": [
    "text=Parallel(n_jobs=1)(delayed(fats.make_text)(t) for t in texte)\r\n",
    "text[0][1]\r\n",
    "\r\n",
    "\r\n",
    "#dico=fats.Make_Extractive(5).make_encoding(text,voc_size=12000,split=1,tokenizer=tok,training=False)"
   ],
   "outputs": [
    {
     "output_type": "execute_result",
     "data": {
      "text/plain": [
       "[13, 14, 15, 16]"
      ]
     },
     "metadata": {},
     "execution_count": 3
    }
   ],
   "metadata": {}
  },
  {
   "cell_type": "code",
   "execution_count": 49,
   "source": [
    "a=[i for i in range(len(texte[0]))]\r\n",
    "for i in t1ouf:\r\n",
    "    a.remove(i)"
   ],
   "outputs": [],
   "metadata": {}
  },
  {
   "cell_type": "code",
   "execution_count": null,
   "source": [
    "b=[i for i in range(len(a))]\r\n",
    "b"
   ],
   "outputs": [],
   "metadata": {}
  },
  {
   "cell_type": "code",
   "execution_count": 29,
   "source": [
    "SMHAL=fats.SMHA_Linear_classifier(torch.Size([512,768]),8,768)\r\n",
    "SMHAL.load_state_dict(torch.load('SMHA_Linear_classifier.pt',map_location=torch.device('cpu')))"
   ],
   "outputs": [
    {
     "output_type": "execute_result",
     "data": {
      "text/plain": [
       "<All keys matched successfully>"
      ]
     },
     "metadata": {},
     "execution_count": 29
    }
   ],
   "metadata": {}
  },
  {
   "cell_type": "code",
   "execution_count": 30,
   "source": [
    "SMHAL.eval()\r\n",
    "y=SMHAL(camem2(torch.Tensor(dico['input']).long(),torch.Tensor(dico['mask']).long()).last_hidden_state)"
   ],
   "outputs": [],
   "metadata": {}
  },
  {
   "cell_type": "code",
   "execution_count": 31,
   "source": [
    "t=torch.mul(dico['mask_cls'],y).topk(3)\r\n",
    "values=t[0]\r\n",
    "indice=t[1]\r\n",
    "vec=[(dico['mask_cls'][i]==torch.tensor(1)).nonzero() for i in range(len(dico['mask_cls']))]"
   ],
   "outputs": [],
   "metadata": {}
  },
  {
   "cell_type": "code",
   "execution_count": 32,
   "source": [
    "Ve=[]\r\n",
    "V=[]\r\n",
    "I=[]\r\n",
    "ind=0\r\n",
    "for i in range(len(dico['trace'])):\r\n",
    "    Ve.append(vec[ind:ind+dico['trace'][i]])\r\n",
    "    V.append(values[ind:ind+dico['trace'][i]])\r\n",
    "    I.append(indice[ind:ind+dico['trace'][i]])\r\n",
    "    ind+=dico['trace'][i]\r\n",
    "V=[v.reshape(-1) for v in V]\r\n",
    "I=[v.reshape(-1) for v in I]\r\n",
    "I2=[torch.cat([I[k][i*3:(i+1)*3]+512*i for i in range(int(len(I[k])/3))]) for k in range(len(I))]\r\n",
    "Ve2=[torch.cat([Ve[k][i]+512*i for i in range(len(Ve[k]))]).squeeze(1) for k in range(len(Ve))]\r\n",
    "index=[torch.div(V[i],V[i].sum()).topk(k=3)[1] for i in range(len(V))]\r\n",
    "vrai_index=[I2[i][index[i]] for i in range(len(texte))]\r\n",
    "rindex=[torch.cat([(Ve2[k]==vrai_index[k][i]).nonzero().squeeze(1) for i in range(3)]) for k in range(len(Ve2))]"
   ],
   "outputs": [],
   "metadata": {}
  },
  {
   "cell_type": "code",
   "execution_count": 33,
   "source": [
    "rindex"
   ],
   "outputs": [
    {
     "output_type": "execute_result",
     "data": {
      "text/plain": [
       "[tensor([ 1, 18, 15]),\n",
       " tensor([19, 20,  4]),\n",
       " tensor([ 2, 88, 17]),\n",
       " tensor([ 2,  3, 23]),\n",
       " tensor([ 3, 10, 16]),\n",
       " tensor([ 9,  4, 10]),\n",
       " tensor([ 1, 11, 10]),\n",
       " tensor([ 1,  8, 10]),\n",
       " tensor([12, 18, 11]),\n",
       " tensor([52, 18,  2])]"
      ]
     },
     "metadata": {},
     "execution_count": 33
    }
   ],
   "metadata": {}
  },
  {
   "cell_type": "code",
   "execution_count": 37,
   "source": [
    "for k in range(len(text)):\r\n",
    "    for i in rindex[k]:\r\n",
    "        try:\r\n",
    "            text[k][i]\r\n",
    "        except:\r\n",
    "            print(k,i)\r\n",
    "            continue"
   ],
   "outputs": [],
   "metadata": {}
  },
  {
   "cell_type": "code",
   "execution_count": 196,
   "source": [
    "resu=[[text[i][k] for k in rindex[i]] for i in range(len(text))]\r\n",
    "resu"
   ],
   "outputs": [
    {
     "output_type": "execute_result",
     "data": {
      "text/plain": [
       "[['carl recine reuters liverpool sommet europe ennui',\n",
       "  'okepamzchv rmcsport rmc sport mais cinquieme but egyptien dans cette qui aurait enflammer rencontre contraire assomme tout monde',\n",
       "  'tout avait pourtant commence par coup froid des premiere action debordement sadio mane centre detourne epaule puis bras par sissoko penalty siffle apres seulement jeu plus rapide dans histoire des finales'],\n",
       " ['est contraire comme vagabond ami terre arpenteur inventif ouvert aux fecondites hasard',\n",
       "  'michel serres aura sans doute rendu philosophie francaise son sens rencontre imprevu jeu',\n",
       "  'une affaire style plutot temperament'],\n",
       " ['michel serres est decede samedi juin age ans', 'demission retour lycee'],\n",
       " ['domine physiquement febrile premiere periode lou fini par etouffer montpellier barrages top samedi juin dans fournaise gerland bout suspense',\n",
       "  'les lyonnais qualifient pour les demi finales pour seconde annee consecutive'],\n",
       " ['plusieurs elus locaux berlinois des membres bundestag ainsi que ambassadeur des etats unis allemagne richard grenell commissaire gouvernement charge antisemitisme felix klein ont participe rassemblement dessus duquel flottaient des drapeaux israeliens dans centre capitale',\n",
       "  'klein lors rassemblement',\n",
       "  'israelien portant kippa avait ete frappe coups ceinture par syrien dans quartier huppe prenzlauer berg'],\n",
       " ['posterite sera etablie grace son insertion dans nuggets original artyfacts from the first psychedelic era double album compile par critique futur guitariste patti smith lenny kaye devenue bible des amateurs garage acid rock',\n",
       "  'impression que les musiciens evoluent dans une caverne the floor elevators etage est souvent omis par superstition dans les ascenseurs aux etats unis reste associe you gonna miss une composition erickson publiee tours peu apres formation quintette austin',\n",
       "  'les ascenseurs qui sont parmi les premiers faire usage mot psychedelisme profitent pour livrer leur premier album the psychedelic sounds the floor elevators canonique une esthetique usant pedale fuzz pour saturation des guitares une reverberation qui donne impression que les musiciens evoluent non pas dans garage mais dans une caverne'],\n",
       " ['ryad kramdi afp plusieurs milliers personnes ont assiste samedi juin alger enterrement kamel eddine fekhar militant des droits humains mort detention',\n",
       "  'faisait partie des militants arretes apres des violences communautaires dont region zab dont ghardaia est principale ville ete theatre entre mozabites des berberes rite ibadite courant minoritaire islam chaambas des arabes rite malekite',\n",
       "  'kamel eddine fekhar avait deja purge une peine deux ans prison notamment pour atteinte surete etat trouble ordre public avait ete libere juillet'],\n",
       " ['denis gliksman inrap ouvrez votre portefeuille',\n",
       "  'les grandes heures des ducs bourgogne sont achevees avec mort charles temeraire mais sous leur impulsion ville connu des modifications importantes souligne stephane alix responsable scientifique equipe qui realise decouverte',\n",
       "  'concretion lors mise jour janvier petite boite metallique contenant les monnaies ainsi petit pendentif etait plus que morceaux epars corrodes'],\n",
       " ['cela dit avec ancien bateau cherchait encore sourit',\n",
       "  'dis quatrieme etape arriverai peut etre maitriser',\n",
       "  'cherche quoi correspondent les ficelles bord'],\n",
       " ['mais surtout naviguer sur type bateau est avoir gout des interieurs bien astiques celui figaro toujours ete grand comme coin cuisine avoir aussi dans son arbre aieul ecossais car gout victoire economie est capital classement effectue temps vainqueur est donc celui celle qui met moins temps cumul toutes les etapes',\n",
       "  'pour cet anniversaire cette course hauturiere sur des bateaux tous identiques annonce sans pareille']]"
      ]
     },
     "metadata": {},
     "execution_count": 196
    }
   ],
   "metadata": {}
  },
  {
   "cell_type": "code",
   "execution_count": null,
   "source": [
    "[torch.cat([(Ve2[k]==vrai_index[k][i]).nonzero().squeeze(1) for i in range(3)]) for k in range(len(Ve2))]"
   ],
   "outputs": [],
   "metadata": {}
  },
  {
   "cell_type": "code",
   "execution_count": null,
   "source": [
    "(Ve2==vrai_index).nonzero()"
   ],
   "outputs": [],
   "metadata": {}
  },
  {
   "cell_type": "code",
   "execution_count": null,
   "source": [
    "vec=[(dico['mask_cls'][i]==torch.tensor(1)).nonzero() for i in range(len(dico['mask_cls']))]\n",
    "rindex=[torch.transpose((vec[i]==t[1][i]).nonzero(),0,1)[0] for i in range(len(t[1]))]\n",
    "rindex"
   ],
   "outputs": [],
   "metadata": {}
  },
  {
   "cell_type": "markdown",
   "source": [
    "## Pour différents paragraphes"
   ],
   "metadata": {}
  },
  {
   "cell_type": "code",
   "execution_count": null,
   "source": [
    "fichiers=[i for i in os.listdir() if (i[-6:]=='pickle') and (i[:5]=='MLSUM')]\r\n",
    "fichiers_val=[i for i in fichiers if 'test' in i]\r\n",
    "test=pickle.load(open('MLSUM_fr_test.pickle','rb'))\r\n",
    "texte=[test.text[:10].values.tolist()[i].split('.') for i in range(10)] #Liste de liste de phrases"
   ],
   "outputs": [],
   "metadata": {}
  },
  {
   "cell_type": "code",
   "execution_count": 4,
   "source": [
    "def make_DL_resume(texte,cpu,choose_model,k=3,camem=None,vs=12000,sp=1,tok='MLSUM_tokenizer.model',tr=False,get_score_only=False):\r\n",
    "    try :\r\n",
    "        assert choose_model in ['SMHA','Simple','Net','Multi']\r\n",
    "    except:\r\n",
    "        raise ValueError(\"Attention, le nom de votre modèle n'est pas correcte, il doit faire partie des noms suivants :\\nSMHA (pour Self Multi Head Attention),\\nSimple (pour Simple Linear Classifier),\\nNet (pour Convolutional Network),\\nMulti (pour Multi Linear)\")\r\n",
    "    \r\n",
    "    try:\r\n",
    "        assert np.sum([1 if choose_model in i else 0 for i in os.listdir()])>0\r\n",
    "    except:\r\n",
    "        raise ValueError(\"Attention, ce que vous avez entré pour la variable choose_model ne semble pas convenir. Vous ne possédez probablement pas le modèle dans votre dossier ou l'avez mal rebaptisé. Les noms corrects sont les suivants :\\nSMHA_Linear_classifier.pt,\\nSimple_Classifier.pt,\\nNet.pt,\\nMulti_Linear_Classifier.pt\")\r\n",
    "        \r\n",
    "    if camem==None:\r\n",
    "        from transformers import CamembertModel\r\n",
    "        camem=CamembertModel.from_pretrained(\"camembert-base\")\r\n",
    "        \r\n",
    "    Text=Parallel(n_jobs=cpu)(delayed(fats.make_text)(t) for t in texte)\r\n",
    "    text=[i[0] for i in Text]\r\n",
    "    empty=[i[1] for i in Text]\r\n",
    "    dico=fats.Make_Extractive(cpu).make_encoding(text,voc_size=vs,split=sp,tokenizer=tok,training=tr)\r\n",
    "    \r\n",
    "    if choose_model=='SMHA':\r\n",
    "        model=fats.SMHA_Linear_classifier(torch.Size([512,768]),8,768)\r\n",
    "        model.load_state_dict(torch.load('SMHA_Linear_classifier.pt',map_location=torch.device('cpu')))\r\n",
    "        model.eval()\r\n",
    "    \r\n",
    "    elif choose_model=='Simple':\r\n",
    "        model=fats.Simple_Classifier(camem.config.hidden_size)\r\n",
    "        model.load_state_dict(torch.load('Simple_Classifier.pt',map_location=torch.device('cpu')))\r\n",
    "        model.eval()\r\n",
    "    \r\n",
    "    elif choose_model=='Net':\r\n",
    "        model=fats.Net(2**8,2**6,2,2,2,2)\r\n",
    "        model.load_state_dict(torch.load('Net.pt',map_location=torch.device('cpu')))\r\n",
    "        model.eval()    \r\n",
    "        \r\n",
    "    elif choose_model=='Multi':\r\n",
    "        model=fats.Multi_Linear_Classifier(camem.config.hidden_size)\r\n",
    "        model.load_state_dict(torch.load('Multi_Linear_Classifier.pt',map_location=torch.device('cpu')))\r\n",
    "        model.eval()    \r\n",
    "    \r\n",
    "    y=model(camem(torch.Tensor(dico['input']).long(),torch.Tensor(dico['mask']).long()).last_hidden_state)\r\n",
    "    t=torch.mul(dico['mask_cls'],y).topk(3)\r\n",
    "    vec=[(dico['mask_cls'][i]==torch.tensor(1)).nonzero() for i in range(len(dico['mask_cls']))]\r\n",
    "    values=t[0]\r\n",
    "    indice=t[1]\r\n",
    "    Ve=[]\r\n",
    "    Va=[]\r\n",
    "    I=[]\r\n",
    "    ind=0\r\n",
    "    for i in range(len(dico['trace'])):\r\n",
    "        Ve.append(vec[ind:ind+dico['trace'][i]])\r\n",
    "        Va.append(values[ind:ind+dico['trace'][i]])\r\n",
    "        I.append(indice[ind:ind+dico['trace'][i]])\r\n",
    "        ind+=dico['trace'][i]\r\n",
    "        \r\n",
    "    Va=[v.reshape(-1) for v in Va]\r\n",
    "    I=[v.reshape(-1) for v in I]\r\n",
    "    \r\n",
    "    I2=[torch.cat([I[k][i*3:(i+1)*3]+512*i for i in range(int(len(I[k])/3))]) for k in range(len(I))]\r\n",
    "    Ve2=[torch.cat([Ve[k][i]+512*i for i in range(len(Ve[k]))]).squeeze(1) for k in range(len(Ve))]\r\n",
    "\r\n",
    "    index=[torch.div(Va[i],Va[i].sum()).topk(k=3)[1] for i in range(len(Va))]\r\n",
    "    vrai_index=[I2[i][index[i]] for i in range(len(texte))]\r\n",
    "\r\n",
    "    rindex=[torch.cat([(Ve2[h]==vrai_index[h][i]).nonzero().squeeze(1) for i in range(k)]) for h in range(len(Ve2))]\r\n",
    "    \r\n",
    "    a=[i for i in range(len(texte[0]))]\r\n",
    "    for i in t1ouf:\r\n",
    "        a.remove(i)\r\n",
    "    \r\n",
    "    \r\n",
    "    if get_score_only:\r\n",
    "        return rindex,vrai_index,Ve2,I2\r\n",
    "    else:\r\n",
    "        resu=[[text[i][k] for k in rindex[i]] for i in range(len(text))]\r\n",
    "        return resu\r\n",
    "        "
   ],
   "outputs": [],
   "metadata": {}
  },
  {
   "cell_type": "code",
   "execution_count": 5,
   "source": [
    "r=fats.make_DL_resume(texte,cpu=2,choose_model='Simple',get_score_only=True)\n",
    "r"
   ],
   "outputs": [
    {
     "output_type": "stream",
     "name": "stderr",
     "text": [
      "Some weights of the model checkpoint at camembert-base were not used when initializing CamembertModel: ['lm_head.layer_norm.bias', 'lm_head.bias', 'lm_head.decoder.weight', 'lm_head.dense.weight', 'lm_head.layer_norm.weight', 'lm_head.dense.bias']\n",
      "- This IS expected if you are initializing CamembertModel from the checkpoint of a model trained on another task or with another architecture (e.g. initializing a BertForSequenceClassification model from a BertForPreTraining model).\n",
      "- This IS NOT expected if you are initializing CamembertModel from the checkpoint of a model that you expect to be exactly identical (initializing a BertForSequenceClassification model from a BertForSequenceClassification model).\n"
     ]
    },
    {
     "output_type": "error",
     "ename": "UnboundLocalError",
     "evalue": "local variable 'train_input_ids' referenced before assignment",
     "traceback": [
      "\u001b[0;31m---------------------------------------------------------------------------\u001b[0m",
      "\u001b[0;31mUnboundLocalError\u001b[0m                         Traceback (most recent call last)",
      "\u001b[0;32m<ipython-input-5-924dfa79185f>\u001b[0m in \u001b[0;36m<module>\u001b[0;34m\u001b[0m\n\u001b[0;32m----> 1\u001b[0;31m \u001b[0mr\u001b[0m\u001b[0;34m=\u001b[0m\u001b[0mfats\u001b[0m\u001b[0;34m.\u001b[0m\u001b[0mmake_DL_resume\u001b[0m\u001b[0;34m(\u001b[0m\u001b[0mtexte\u001b[0m\u001b[0;34m,\u001b[0m\u001b[0mcpu\u001b[0m\u001b[0;34m=\u001b[0m\u001b[0;36m2\u001b[0m\u001b[0;34m,\u001b[0m\u001b[0mchoose_model\u001b[0m\u001b[0;34m=\u001b[0m\u001b[0;34m'Simple'\u001b[0m\u001b[0;34m,\u001b[0m\u001b[0mget_score_only\u001b[0m\u001b[0;34m=\u001b[0m\u001b[0;32mTrue\u001b[0m\u001b[0;34m)\u001b[0m\u001b[0;34m\u001b[0m\u001b[0;34m\u001b[0m\u001b[0m\n\u001b[0m\u001b[1;32m      2\u001b[0m \u001b[0mr\u001b[0m\u001b[0;34m\u001b[0m\u001b[0;34m\u001b[0m\u001b[0m\n",
      "\u001b[0;32m~/work/fats.py\u001b[0m in \u001b[0;36mmake_DL_resume\u001b[0;34m(texte, cpu, choose_model, k, camem, vs, sp, tok, tr, get_score_only)\u001b[0m\n\u001b[1;32m   1380\u001b[0m \u001b[0;34m\u001b[0m\u001b[0m\n\u001b[1;32m   1381\u001b[0m     \u001b[0mText\u001b[0m\u001b[0;34m=\u001b[0m\u001b[0mParallel\u001b[0m\u001b[0;34m(\u001b[0m\u001b[0mn_jobs\u001b[0m\u001b[0;34m=\u001b[0m\u001b[0mcpu\u001b[0m\u001b[0;34m)\u001b[0m\u001b[0;34m(\u001b[0m\u001b[0mdelayed\u001b[0m\u001b[0;34m(\u001b[0m\u001b[0mmake_text\u001b[0m\u001b[0;34m)\u001b[0m\u001b[0;34m(\u001b[0m\u001b[0mt\u001b[0m\u001b[0;34m)\u001b[0m \u001b[0;32mfor\u001b[0m \u001b[0mt\u001b[0m \u001b[0;32min\u001b[0m \u001b[0mtexte\u001b[0m\u001b[0;34m)\u001b[0m\u001b[0;34m\u001b[0m\u001b[0;34m\u001b[0m\u001b[0m\n\u001b[0;32m-> 1382\u001b[0;31m     \u001b[0mtext\u001b[0m\u001b[0;34m=\u001b[0m\u001b[0;34m[\u001b[0m\u001b[0mi\u001b[0m\u001b[0;34m[\u001b[0m\u001b[0;36m0\u001b[0m\u001b[0;34m]\u001b[0m \u001b[0;32mfor\u001b[0m \u001b[0mi\u001b[0m \u001b[0;32min\u001b[0m \u001b[0mText\u001b[0m\u001b[0;34m]\u001b[0m\u001b[0;34m\u001b[0m\u001b[0;34m\u001b[0m\u001b[0m\n\u001b[0m\u001b[1;32m   1383\u001b[0m     \u001b[0mempty\u001b[0m\u001b[0;34m=\u001b[0m\u001b[0;34m[\u001b[0m\u001b[0mi\u001b[0m\u001b[0;34m[\u001b[0m\u001b[0;36m1\u001b[0m\u001b[0;34m]\u001b[0m \u001b[0;32mfor\u001b[0m \u001b[0mi\u001b[0m \u001b[0;32min\u001b[0m \u001b[0mText\u001b[0m\u001b[0;34m]\u001b[0m\u001b[0;34m\u001b[0m\u001b[0;34m\u001b[0m\u001b[0m\n\u001b[1;32m   1384\u001b[0m     \u001b[0mdico\u001b[0m\u001b[0;34m=\u001b[0m\u001b[0mMake_Extractive\u001b[0m\u001b[0;34m(\u001b[0m\u001b[0mcpu\u001b[0m\u001b[0;34m)\u001b[0m\u001b[0;34m.\u001b[0m\u001b[0mmake_encoding\u001b[0m\u001b[0;34m(\u001b[0m\u001b[0mtext\u001b[0m\u001b[0;34m,\u001b[0m\u001b[0mvoc_size\u001b[0m\u001b[0;34m=\u001b[0m\u001b[0mvs\u001b[0m\u001b[0;34m,\u001b[0m\u001b[0msplit\u001b[0m\u001b[0;34m=\u001b[0m\u001b[0msp\u001b[0m\u001b[0;34m,\u001b[0m\u001b[0mtokenizer\u001b[0m\u001b[0;34m=\u001b[0m\u001b[0mtok\u001b[0m\u001b[0;34m,\u001b[0m\u001b[0mtraining\u001b[0m\u001b[0;34m=\u001b[0m\u001b[0mtr\u001b[0m\u001b[0;34m)\u001b[0m\u001b[0;34m\u001b[0m\u001b[0;34m\u001b[0m\u001b[0m\n",
      "\u001b[0;32m~/work/fats.py\u001b[0m in \u001b[0;36mmake_encoding\u001b[0;34m(self, text, output, tokenizer, voc_size, prefix, name, split, dim, training)\u001b[0m\n\u001b[1;32m    623\u001b[0m \u001b[0;34m\u001b[0m\u001b[0m\n\u001b[1;32m    624\u001b[0m             dico_train={\n\u001b[0;32m--> 625\u001b[0;31m                \u001b[0;34m'input'\u001b[0m\u001b[0;34m:\u001b[0m\u001b[0mtrain_input_ids\u001b[0m\u001b[0;34m,\u001b[0m\u001b[0;34m\u001b[0m\u001b[0;34m\u001b[0m\u001b[0m\n\u001b[0m\u001b[1;32m    626\u001b[0m                \u001b[0;34m'mask'\u001b[0m\u001b[0;34m:\u001b[0m\u001b[0mtrain_mask\u001b[0m\u001b[0;34m,\u001b[0m\u001b[0;34m\u001b[0m\u001b[0;34m\u001b[0m\u001b[0m\n\u001b[1;32m    627\u001b[0m                \u001b[0;34m'segs'\u001b[0m\u001b[0;34m:\u001b[0m\u001b[0mtrain_segs\u001b[0m\u001b[0;34m,\u001b[0m\u001b[0;34m\u001b[0m\u001b[0;34m\u001b[0m\u001b[0m\n",
      "\u001b[0;31mUnboundLocalError\u001b[0m: local variable 'train_input_ids' referenced before assignment"
     ]
    }
   ],
   "metadata": {}
  },
  {
   "cell_type": "code",
   "execution_count": 8,
   "source": [
    "for k in range(len(text)):\n",
    "    for i in r[k]:\n",
    "        try:\n",
    "            text[k][i]\n",
    "        except:\n",
    "            print(k,i)\n",
    "            continue"
   ],
   "outputs": [
    {
     "output_type": "stream",
     "name": "stdout",
     "text": [
      "7 tensor(18)\n"
     ]
    }
   ],
   "metadata": {}
  },
  {
   "cell_type": "code",
   "execution_count": 4,
   "source": [
    "ME=fats.Make_Extractive(cpu=5).make_encoding(text=text,tokenizer=tok,training=False)\n",
    "(torch.Tensor(ME['input'])==torch.tensor(5)).int()"
   ],
   "outputs": [
    {
     "output_type": "execute_result",
     "data": {
      "text/plain": [
       "tensor([[1, 0, 0,  ..., 0, 0, 0],\n",
       "        [1, 0, 0,  ..., 0, 0, 0],\n",
       "        [1, 0, 0,  ..., 0, 0, 0],\n",
       "        ...,\n",
       "        [1, 0, 0,  ..., 0, 0, 0],\n",
       "        [1, 0, 0,  ..., 0, 0, 0],\n",
       "        [1, 0, 0,  ..., 0, 0, 0]], dtype=torch.int32)"
      ]
     },
     "metadata": {},
     "execution_count": 4
    }
   ],
   "metadata": {}
  },
  {
   "cell_type": "code",
   "execution_count": null,
   "source": [],
   "outputs": [],
   "metadata": {}
  }
 ],
 "metadata": {
  "kernelspec": {
   "name": "python3",
   "display_name": "Python 3.6.7 64-bit ('venv': venv)"
  },
  "language_info": {
   "codemirror_mode": {
    "name": "ipython",
    "version": 3
   },
   "file_extension": ".py",
   "mimetype": "text/x-python",
   "name": "python",
   "nbconvert_exporter": "python",
   "pygments_lexer": "ipython3",
   "version": "3.6.7"
  },
  "interpreter": {
   "hash": "e34048b0732ca5da544928c261c6b0ec51b7f57de61b26cf2eebb756a9ee889a"
  }
 },
 "nbformat": 4,
 "nbformat_minor": 5
}