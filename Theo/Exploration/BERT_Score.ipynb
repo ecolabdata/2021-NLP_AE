{
 "cells": [
  {
   "cell_type": "markdown",
   "source": [
    "# Notebook du développement de BERTScore\r\n",
    "\r\n",
    "Processus de développement du modèle BERTScore"
   ],
   "metadata": {}
  },
  {
   "cell_type": "code",
   "execution_count": 5,
   "source": [
    "import time\r\n",
    "import pickle\r\n",
    "from pathlib import Path\r\n",
    "# !pip install gensim\r\n",
    "import gensim\r\n",
    "import pandas as pd\r\n",
    "import numpy as np\r\n",
    "import sklearn\r\n",
    "import re\r\n",
    "#from unidecode import unidecode\r\n",
    "import functools\r\n",
    "import operator\r\n",
    "import psutil\r\n",
    "from joblib import Parallel,delayed\r\n",
    "from functools import partial\r\n",
    "import time"
   ],
   "outputs": [
    {
     "output_type": "stream",
     "name": "stdout",
     "text": [
      "Requirement already satisfied: gensim in /opt/conda/lib/python3.7/site-packages (4.0.1)\n",
      "Requirement already satisfied: numpy>=1.11.3 in /opt/conda/lib/python3.7/site-packages (from gensim) (1.18.1)\n",
      "Requirement already satisfied: scipy>=0.18.1 in /opt/conda/lib/python3.7/site-packages (from gensim) (1.4.1)\n",
      "Requirement already satisfied: smart-open>=1.8.1 in /opt/conda/lib/python3.7/site-packages (from gensim) (5.1.0)\n"
     ]
    }
   ],
   "metadata": {}
  },
  {
   "cell_type": "code",
   "execution_count": 7,
   "source": [
    "# !pip install torch\r\n",
    "import torch\r\n",
    "import torch.nn as nn\r\n",
    "from tqdm import tqdm"
   ],
   "outputs": [
    {
     "output_type": "stream",
     "name": "stdout",
     "text": [
      "Collecting torch\n",
      "  Downloading torch-1.8.1-cp37-cp37m-manylinux1_x86_64.whl (804.1 MB)\n",
      "\u001b[K     |████████████████████████████████| 804.1 MB 4.1 kB/s  eta 0:00:01     |█████▊                          | 143.0 MB 14.0 MB/s eta 0:00:48     |██████▎                         | 158.4 MB 5.7 MB/s eta 0:01:54     |█████████▏                      | 231.4 MB 7.4 MB/s eta 0:01:18     |██████████████████████          | 554.4 MB 15.3 MB/s eta 0:00:17\n",
      "\u001b[?25hRequirement already satisfied: numpy in /opt/conda/lib/python3.7/site-packages (from torch) (1.18.1)\n",
      "Requirement already satisfied: typing-extensions in /opt/conda/lib/python3.7/site-packages (from torch) (3.7.4.3)\n",
      "Installing collected packages: torch\n",
      "Successfully installed torch-1.8.1\n"
     ]
    }
   ],
   "metadata": {}
  },
  {
   "cell_type": "code",
   "execution_count": 8,
   "source": [
    "embedding_section_W2V=pickle.load(open('embedding_section_W2V.pickle','rb'))\r\n",
    "embedding_section_bert=pickle.load(open('embedding_section_bert.pickle','rb'))\r\n",
    "print(type(embedding_section_bert),type(embedding_section_bert[0]),type(embedding_section_bert[0][0]))\r\n",
    "len(embedding_section_bert)"
   ],
   "outputs": [
    {
     "output_type": "stream",
     "name": "stdout",
     "text": [
      "<class 'list'> <class 'list'> <class 'torch.Tensor'>\n"
     ]
    },
    {
     "output_type": "execute_result",
     "data": {
      "text/plain": [
       "405"
      ]
     },
     "metadata": {},
     "execution_count": 8
    }
   ],
   "metadata": {}
  },
  {
   "cell_type": "code",
   "execution_count": 17,
   "source": [
    "print(\"Il y a \",len(embedding_section_bert),\"articles\")\r\n",
    "section_mean=round(np.mean([len(i) for i in embedding_section_bert]),2)\r\n",
    "print(\"avec en moyenne\",section_mean,\"phrases\")\r\n",
    "print(\"chaque phrase de dimension\",embedding_section_bert[0][0].shape)"
   ],
   "outputs": [
    {
     "output_type": "stream",
     "name": "stdout",
     "text": [
      "Il y a  405 articles\n",
      "avec en moyenne 20.86 phrases\n",
      "chaque phrase de dimension torch.Size([768])\n"
     ]
    }
   ],
   "metadata": {}
  },
  {
   "cell_type": "code",
   "execution_count": 46,
   "source": [
    "ARTBERT=[torch.as_tensor([embedding_section_bert[k][i].tolist() for i in range(len(embedding_section_bert[k]))]) for k in range(len(embedding_section_bert))]\r\n",
    "#ARTBERT=torch.as_tensor(ARTBERT)\r\n",
    "len(ARTBERT),len(ARTBERT[0]),len(ARTBERT[0][0])"
   ],
   "outputs": [
    {
     "output_type": "execute_result",
     "data": {
      "text/plain": [
       "(405, 41, 768)"
      ]
     },
     "metadata": {},
     "execution_count": 46
    }
   ],
   "metadata": {}
  },
  {
   "cell_type": "code",
   "execution_count": 47,
   "source": [
    "# On crée le Vecteur Sémantique Principal, proxy de l'idée principale du paragraphe\r\n",
    "VSP=[i.mean(dim=0) for i in ARTBERT]\r\n",
    "len(VSP),VSP[0].shape"
   ],
   "outputs": [
    {
     "output_type": "execute_result",
     "data": {
      "text/plain": [
       "(405, torch.Size([768]))"
      ]
     },
     "metadata": {},
     "execution_count": 47
    }
   ],
   "metadata": {}
  },
  {
   "cell_type": "code",
   "execution_count": 54,
   "source": [
    "# Définition de la fonction de similarité\r\n",
    "cos_sim=torch.nn.CosineSimilarity(dim=-1)\r\n",
    "cos_sim(ARTBERT[0][:3],VSP[0])"
   ],
   "outputs": [
    {
     "output_type": "execute_result",
     "data": {
      "text/plain": [
       "tensor([0.9893, 0.9104, 0.9858])"
      ]
     },
     "metadata": {},
     "execution_count": 54
    }
   ],
   "metadata": {}
  },
  {
   "cell_type": "code",
   "execution_count": 55,
   "source": [
    "# Tests\r\n",
    "cos_sim=torch.nn.CosineSimilarity(dim=0)\r\n",
    "cos_sim(ARTBERT[0][0],VSP[0]),cos_sim(ARTBERT[0][1],VSP[0]),cos_sim(ARTBERT[0][2],VSP[0])"
   ],
   "outputs": [
    {
     "output_type": "execute_result",
     "data": {
      "text/plain": [
       "(tensor(0.9893), tensor(0.9104), tensor(0.9858))"
      ]
     },
     "metadata": {},
     "execution_count": 55
    }
   ],
   "metadata": {}
  },
  {
   "cell_type": "code",
   "execution_count": 58,
   "source": [
    "# Calcul de similarité de chaque phrase pour chaque paragraphe\r\n",
    "cos_sim=torch.nn.CosineSimilarity(dim=-1)\r\n",
    "similarite=[cos_sim(ARTBERT[i][:],VSP[i]) for i in range(len(VSP))]"
   ],
   "outputs": [],
   "metadata": {}
  },
  {
   "cell_type": "code",
   "execution_count": 65,
   "source": [
    "# On récupère, pour chaque paragraphe, les phrases les plus similaires au proxy \r\n",
    "top_similarite=[i.topk(k=3)[1] if i.shape[0]>3 else torch.as_tensor([0,1,2]) for i in similarite]\r\n"
   ],
   "outputs": [],
   "metadata": {}
  },
  {
   "cell_type": "code",
   "execution_count": 66,
   "source": [
    "pickle.dump(top_similarite,open(\"OrangeSum_BERT_Score.pickle\",'wb'))"
   ],
   "outputs": [],
   "metadata": {}
  },
  {
   "cell_type": "code",
   "execution_count": null,
   "source": [],
   "outputs": [],
   "metadata": {}
  }
 ],
 "metadata": {
  "kernelspec": {
   "display_name": "Python 3",
   "language": "python",
   "name": "python3"
  },
  "language_info": {
   "codemirror_mode": {
    "name": "ipython",
    "version": 3
   },
   "file_extension": ".py",
   "mimetype": "text/x-python",
   "name": "python",
   "nbconvert_exporter": "python",
   "pygments_lexer": "ipython3",
   "version": "3.7.6"
  }
 },
 "nbformat": 4,
 "nbformat_minor": 4
}