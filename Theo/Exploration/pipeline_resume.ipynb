{
 "cells": [
  {
   "cell_type": "code",
   "execution_count": null,
   "metadata": {},
   "outputs": [],
   "source": [
    "!pip install gensim==3.8.3\n",
    "!pip install unidecode\n",
    "!pip install torch\n",
    "!pip install sentencepiece\n",
    "!pip install transformers==4.5.0"
   ]
  },
  {
   "cell_type": "code",
   "execution_count": 1,
   "metadata": {},
   "outputs": [],
   "source": [
    "from joblib.parallel import cpu_count\n",
    "import pandas as pd\n",
    "import numpy as np\n",
    "import torch\n",
    "import pickle\n",
    "import time\n",
    "import functools\n",
    "import operator\n",
    "from joblib import Parallel,delayed\n",
    "from functools import partial\n",
    "import sentencepiece as spm \n",
    "import psutil\n",
    "from tqdm import tqdm\n",
    "import pickle\n",
    "import os\n",
    "import re\n",
    "from unidecode import unidecode\n",
    "from bs4 import BeautifulSoup\n",
    "import gensim\n",
    "\n",
    "from fats import BERTScore,TextRank,Random_summary,Lead_3,SMHA_Linear_classifier\n",
    "from fats import Make_Extractive,Word_Cleaning, Make_Embedding"
   ]
  },
  {
   "cell_type": "code",
   "execution_count": 2,
   "metadata": {},
   "outputs": [],
   "source": [
    "base=pd.read_csv('MLSUM_fr_val.csv',sep=\";\")\n",
    "Paragraphes= base.iloc[0,1].split('.') #introduisez ici une suite de phrases non-nettoyées dans une liste\n",
    "\n",
    "# Paragraphes = [ phrase1, phrase2, ..., phraseN ]\n",
    "#Paragraphes"
   ]
  },
  {
   "cell_type": "code",
   "execution_count": 3,
   "metadata": {},
   "outputs": [],
   "source": [
    "WC=Word_Cleaning(n_jobs=1,sentence=True,threshold=True,seuil=2,lemma=False,seuil_carac=3)\n",
    "Paragraphes=WC.remove_empty(Paragraphes)\n",
    "text=WC.make_documents(Paragraphes)\n",
    "text=WC.remove_empty(text)\n",
    "#text"
   ]
  },
  {
   "cell_type": "code",
   "execution_count": 4,
   "metadata": {},
   "outputs": [],
   "source": [
    "W2V=gensim.models.Word2Vec.load(\"W2V_all.model\")\n",
    "\n",
    "from transformers import CamembertTokenizer, CamembertModel, CamembertConfig\n",
    "tok=CamembertTokenizer(\"MLSUM_tokenizer.model\")\n",
    "\n",
    "ME=Make_Extractive(cpu=1)\n",
    "#sentence=ME.make_w2v_sentences(text)\n",
    "#text=Parallel(n_jobs=cpu_max)(delayed(ME.make_splitting)(s) for s in text)\n",
    "\n",
    "dico=ME.make_encoding(text,tokenizer='MLSUM_tokenizer.model',voc_size=12000,split=1,training=False)\n",
    "input_ids=dico['input']\n",
    "att_mask=dico['mask']\n",
    "camem=CamembertModel.from_pretrained(\"camembert-base\")\n",
    "ME=Make_Embedding(tok,cpu=1)\n",
    "embeddings=ME.emb_phrase(input_ids,att_mask,camem)"
   ]
  },
  {
   "cell_type": "code",
   "execution_count": 5,
   "metadata": {},
   "outputs": [
    {
     "data": {
      "text/plain": [
       "dict_keys(['input_ids', 'attention_mask'])"
      ]
     },
     "execution_count": 5,
     "metadata": {},
     "output_type": "execute_result"
    }
   ],
   "source": [
    "from transformers import CamembertTokenizer, CamembertModel, CamembertConfig\n",
    "tok=CamembertTokenizer(\"MLSUM_tokenizer.model\")\n",
    "ME=Make_Embedding(tok,cpu=1)\n",
    "\n",
    "dico=ME.make_tokens(text,cpu=1)\n",
    "dico.keys()"
   ]
  },
  {
   "cell_type": "code",
   "execution_count": 6,
   "metadata": {},
   "outputs": [],
   "source": [
    "def emb_phrase(input_id,att_mask,cam):\n",
    "    embedding=cam(torch.tensor(input_id).squeeze(1),torch.tensor(att_mask).squeeze(1))\n",
    "    return embedding.last_hidden_state.mean(dim=0)"
   ]
  },
  {
   "cell_type": "code",
   "execution_count": 27,
   "metadata": {},
   "outputs": [],
   "source": [
    "x=camem(torch.tensor(dico['input_ids']).squeeze(1),torch.tensor(dico['attention_mask']).squeeze(1))\n",
    "y=x.last_hidden_state.mean(dim=0)"
   ]
  },
  {
   "cell_type": "code",
   "execution_count": null,
   "metadata": {},
   "outputs": [],
   "source": [
    "y"
   ]
  },
  {
   "cell_type": "code",
   "execution_count": 7,
   "metadata": {},
   "outputs": [
    {
     "data": {
      "text/plain": [
       "tensor([[ 0.0227,  0.1509,  0.0521,  ..., -0.0226,  0.0191, -0.0921],\n",
       "        [ 0.0375,  0.0652, -0.1596,  ...,  0.0345,  0.0453, -0.1225],\n",
       "        [ 0.0136,  0.1050, -0.0628,  ...,  0.0289,  0.0500, -0.1180],\n",
       "        ...,\n",
       "        [-0.0235,  0.1691, -0.0033,  ...,  0.0187, -0.0276, -0.1260],\n",
       "        [-0.0235,  0.1691, -0.0033,  ...,  0.0187, -0.0276, -0.1260],\n",
       "        [-0.0235,  0.1691, -0.0033,  ...,  0.0187, -0.0276, -0.1260]],\n",
       "       grad_fn=<MeanBackward1>)"
      ]
     },
     "execution_count": 7,
     "metadata": {},
     "output_type": "execute_result"
    }
   ],
   "source": [
    "emb_phrase(dico['input_ids'],dico['attention_mask'],camem)"
   ]
  },
  {
   "cell_type": "code",
   "execution_count": 4,
   "metadata": {},
   "outputs": [],
   "source": [
    "nphrase=2\n",
    "TR=TextRank(tok_path='MLSUM_tokenizer.model',cpu=1)\n",
    "BS=BERTScore('MLSUM_tokenizer.model')"
   ]
  },
  {
   "cell_type": "code",
   "execution_count": 5,
   "metadata": {},
   "outputs": [],
   "source": [
    "TRB=TR.make_resume(text,'bert',k=nphrase,get_score_only=True)"
   ]
  },
  {
   "cell_type": "code",
   "execution_count": 6,
   "metadata": {},
   "outputs": [
    {
     "data": {
      "text/plain": [
       "[426, 334]"
      ]
     },
     "execution_count": 6,
     "metadata": {},
     "output_type": "execute_result"
    }
   ],
   "source": [
    "TRB"
   ]
  },
  {
   "cell_type": "code",
   "execution_count": null,
   "metadata": {},
   "outputs": [],
   "source": [
    "TRW=TR.make_resume(text,'word2vec',W2V=W2V,k=nphrase)\n",
    "BSR=BS.make_summary(text,k=nphrase)\n",
    "L3=Lead_3(text,k=2)\n",
    "RS=Random_summary(text)"
   ]
  },
  {
   "cell_type": "code",
   "execution_count": null,
   "metadata": {},
   "outputs": [],
   "source": []
  }
 ],
 "metadata": {
  "kernelspec": {
   "display_name": "Python 3",
   "language": "python",
   "name": "python3"
  },
  "language_info": {
   "codemirror_mode": {
    "name": "ipython",
    "version": 3
   },
   "file_extension": ".py",
   "mimetype": "text/x-python",
   "name": "python",
   "nbconvert_exporter": "python",
   "pygments_lexer": "ipython3",
   "version": "3.7.6"
  }
 },
 "nbformat": 4,
 "nbformat_minor": 4
}
