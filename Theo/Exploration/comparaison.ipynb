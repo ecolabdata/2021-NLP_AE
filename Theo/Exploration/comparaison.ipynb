{
 "cells": [
  {
   "cell_type": "code",
   "execution_count": null,
   "metadata": {},
   "outputs": [],
   "source": [
    "# A faire tourner que si vous n'avez pas déjà installé les packages nécessaires\n",
    "!pip install gensim==3.8.3\n",
    "!pip install unidecode\n",
    "!pip install torch\n",
    "!pip install sentencepiece\n",
    "!pip install transformers\n",
    "!pip install bs4\n",
    "!pip install networkx"
   ]
  },
  {
   "cell_type": "code",
   "execution_count": null,
   "metadata": {},
   "outputs": [],
   "source": [
    "from joblib.parallel import cpu_count\n",
    "import pandas as pd\n",
    "import numpy as np\n",
    "import torch\n",
    "import pickle\n",
    "import time\n",
    "import functools\n",
    "import operator\n",
    "from joblib import Parallel,delayed\n",
    "from functools import partial\n",
    "import sentencepiece as spm \n",
    "import psutil\n",
    "from tqdm import tqdm\n",
    "import pickle\n",
    "import os\n",
    "import re\n",
    "from transformers.utils.dummy_pt_objects import CamembertModel\n",
    "from transformers.utils.dummy_sentencepiece_objects import CamembertTokenizer\n",
    "from unidecode import unidecode\n",
    "from bs4 import BeautifulSoup\n",
    "import gensim\n",
    "import sys\n",
    "import gc\n",
    "import fats"
   ]
  },
  {
   "cell_type": "code",
   "execution_count": 98,
   "metadata": {},
   "outputs": [
    {
     "data": {
      "text/plain": [
       "['Net_sortie_3.pickle',\n",
       " 'TRW_sortie.pickle',\n",
       " 'TRB_sortie_finale.pickle',\n",
       " 'SMHA_sortie_3.pickle',\n",
       " 'L3_sortie.pickle',\n",
       " 'BSR_sortie.pickle',\n",
       " 'Simple_sortie_finale.pickle',\n",
       " 'RS_sortie.pickle',\n",
       " 'Multi_sortie_finale.pickle']"
      ]
     },
     "execution_count": 98,
     "metadata": {},
     "output_type": "execute_result"
    }
   ],
   "source": [
    "N=[f for f in os.listdir() if (f.split('.')[-1]=='pickle') and ('sortie' in f)]\n",
    "N=N[1:]\n",
    "N"
   ]
  },
  {
   "cell_type": "code",
   "execution_count": 58,
   "metadata": {},
   "outputs": [],
   "source": [
    "index_2=pickle.load(open('index_2.pickle','rb'))\n",
    "trace=pickle.load(open('trace_test.pickle','rb'))\n",
    "score=pickle.load(open('score.pickle','rb'))\n",
    "score=[score[i] for i in index_2]\n",
    "assert len(score)==len(trace)\n",
    "s=Parallel(5)(delayed(fats.make_new_paragraphes)(i,j) for i,j in zip(score,trace))\n",
    "s=functools.reduce(operator.iconcat,s,[])\n",
    "P=pickle.load(open('Paragraphes_.pickle','rb'))\n",
    "assert len(P)==len(s)"
   ]
  },
  {
   "cell_type": "code",
   "execution_count": 79,
   "metadata": {},
   "outputs": [
    {
     "name": "stdout",
     "output_type": "stream",
     "text": [
      "L3_sortie_.pickle\n",
      "Net_sortie_3.pickle\n",
      "SMHA_sortie_3.pickle\n",
      "BSR_sortie.pickle\n",
      "RS_sortie.pickle\n"
     ]
    }
   ],
   "source": [
    "for n in N:\n",
    "    SMHA=pickle.load(open(n,'rb'))\n",
    "    try:\n",
    "        Parallel(5)(delayed(fats.make_new_sortie)(i,j) for i,j in zip(s,SMHA))\n",
    "    except:\n",
    "        print(n)"
   ]
  },
  {
   "cell_type": "code",
   "execution_count": 84,
   "metadata": {},
   "outputs": [
    {
     "data": {
      "text/plain": [
       "9.714294718265473"
      ]
     },
     "execution_count": 84,
     "metadata": {},
     "output_type": "execute_result"
    }
   ],
   "source": [
    "np.mean([len(i) for i in s])/2"
   ]
  },
  {
   "cell_type": "code",
   "execution_count": 82,
   "metadata": {},
   "outputs": [
    {
     "data": {
      "text/plain": [
       "22152"
      ]
     },
     "execution_count": 82,
     "metadata": {},
     "output_type": "execute_result"
    }
   ],
   "source": [
    "BSR=pickle.load(open('BSR_sortie.pickle','rb'))\n",
    "np.sum([1 for i in range(len(s)) if len(s[i])!=len(BSR[i])])"
   ]
  },
  {
   "cell_type": "code",
   "execution_count": 75,
   "metadata": {},
   "outputs": [
    {
     "data": {
      "text/plain": [
       "([2, 3],\n",
       " tensor([0.1555, 0.0826, 0.1421, 0.0972, 0.1317, 0.0945, 0.1363, 0.0868, 0.0838,\n",
       "         0.0979, 0.0958, 0.0903, 0.0905, 0.0478, 0.0964, 0.1024, 0.0928]))"
      ]
     },
     "execution_count": 75,
     "metadata": {},
     "output_type": "execute_result"
    }
   ],
   "source": [
    "sortie=pickle.load(open(N[3],'rb'))\n",
    "sortie[0],s[0]"
   ]
  },
  {
   "cell_type": "code",
   "execution_count": 91,
   "metadata": {},
   "outputs": [
    {
     "data": {
      "text/plain": [
       "tensor([0])"
      ]
     },
     "execution_count": 91,
     "metadata": {},
     "output_type": "execute_result"
    }
   ],
   "source": [
    "L3=pickle.load(open(N[0],'rb'))\n",
    "l=[i for i in range(len(s)) if len(s[i])==1]\n",
    "for i in l:\n",
    "    L3[i]=L3[i][:1]\n",
    "\n",
    "    pickle.dump(L3,open('L3_sortie.pickle','wb'))\n",
    "L3[l[0]]"
   ]
  },
  {
   "cell_type": "code",
   "execution_count": 105,
   "metadata": {},
   "outputs": [
    {
     "data": {
      "text/plain": [
       "dict_keys(['phrase', 'score', 'erreur', 'trace'])"
      ]
     },
     "execution_count": 105,
     "metadata": {},
     "output_type": "execute_result"
    }
   ],
   "source": [
    "Net=pickle.load(open('Net_sortie_3.pickle','rb'))\n",
    "dico=pickle.load(open('dico_comparaison.pickle','rb'))\n",
    "dico.keys()"
   ]
  },
  {
   "cell_type": "code",
   "execution_count": 106,
   "metadata": {},
   "outputs": [
    {
     "data": {
      "text/plain": [
       "5034"
      ]
     },
     "execution_count": 106,
     "metadata": {},
     "output_type": "execute_result"
    }
   ],
   "source": [
    "len(dico['erreur'])"
   ]
  },
  {
   "cell_type": "code",
   "execution_count": 118,
   "metadata": {},
   "outputs": [
    {
     "data": {
      "text/plain": [
       "23799"
      ]
     },
     "execution_count": 118,
     "metadata": {},
     "output_type": "execute_result"
    }
   ],
   "source": [
    "np.sum([len(dico_sortie['Simple_sortie_finale'][i])==len(s[i]) for i in range(len(s))])"
   ]
  },
  {
   "cell_type": "code",
   "execution_count": 102,
   "metadata": {},
   "outputs": [
    {
     "data": {
      "text/plain": [
       "[201]"
      ]
     },
     "execution_count": 102,
     "metadata": {},
     "output_type": "execute_result"
    }
   ],
   "source": [
    "erreur=[]\n",
    "B=pickle.load(open('BSR_sortie.pickle','rb'))\n",
    "BSR=[]\n",
    "for i in range(len(s)):\n",
    "    try:\n",
    "        BSR.append(fats.make_new_sortie(s[i],B[i]))\n",
    "    except:\n",
    "        erreur.append(i)\n",
    "erreur"
   ]
  },
  {
   "cell_type": "code",
   "execution_count": 97,
   "metadata": {},
   "outputs": [
    {
     "ename": "UnpicklingError",
     "evalue": "invalid load key, '\\x00'.",
     "output_type": "error",
     "traceback": [
      "\u001b[0;31m---------------------------------------------------------------------------\u001b[0m",
      "\u001b[0;31mUnpicklingError\u001b[0m                           Traceback (most recent call last)",
      "\u001b[0;32m<ipython-input-97-841a9c14298a>\u001b[0m in \u001b[0;36m<module>\u001b[0;34m\u001b[0m\n\u001b[1;32m      1\u001b[0m \u001b[0mdico_sortie\u001b[0m\u001b[0;34m=\u001b[0m\u001b[0;34m{\u001b[0m\u001b[0;34m}\u001b[0m\u001b[0;34m\u001b[0m\u001b[0;34m\u001b[0m\u001b[0m\n\u001b[1;32m      2\u001b[0m \u001b[0;32mfor\u001b[0m \u001b[0mn\u001b[0m \u001b[0;32min\u001b[0m \u001b[0mN\u001b[0m\u001b[0;34m:\u001b[0m\u001b[0;34m\u001b[0m\u001b[0;34m\u001b[0m\u001b[0m\n\u001b[0;32m----> 3\u001b[0;31m     \u001b[0msortie\u001b[0m\u001b[0;34m=\u001b[0m\u001b[0mpickle\u001b[0m\u001b[0;34m.\u001b[0m\u001b[0mload\u001b[0m\u001b[0;34m(\u001b[0m\u001b[0mopen\u001b[0m\u001b[0;34m(\u001b[0m\u001b[0mn\u001b[0m\u001b[0;34m,\u001b[0m\u001b[0;34m'rb'\u001b[0m\u001b[0;34m)\u001b[0m\u001b[0;34m)\u001b[0m\u001b[0;34m\u001b[0m\u001b[0;34m\u001b[0m\u001b[0m\n\u001b[0m\u001b[1;32m      4\u001b[0m     \u001b[0;32mtry\u001b[0m\u001b[0;34m:\u001b[0m\u001b[0;34m\u001b[0m\u001b[0;34m\u001b[0m\u001b[0m\n\u001b[1;32m      5\u001b[0m         \u001b[0mdico_sortie\u001b[0m\u001b[0;34m[\u001b[0m\u001b[0mn\u001b[0m\u001b[0;34m.\u001b[0m\u001b[0msplit\u001b[0m\u001b[0;34m(\u001b[0m\u001b[0;34m'.'\u001b[0m\u001b[0;34m)\u001b[0m\u001b[0;34m[\u001b[0m\u001b[0;36m0\u001b[0m\u001b[0;34m]\u001b[0m\u001b[0;34m]\u001b[0m\u001b[0;34m=\u001b[0m\u001b[0mParallel\u001b[0m\u001b[0;34m(\u001b[0m\u001b[0;36m5\u001b[0m\u001b[0;34m)\u001b[0m\u001b[0;34m(\u001b[0m\u001b[0mdelayed\u001b[0m\u001b[0;34m(\u001b[0m\u001b[0mfats\u001b[0m\u001b[0;34m.\u001b[0m\u001b[0mmake_new_sortie\u001b[0m\u001b[0;34m)\u001b[0m\u001b[0;34m(\u001b[0m\u001b[0mi\u001b[0m\u001b[0;34m,\u001b[0m\u001b[0mj\u001b[0m\u001b[0;34m)\u001b[0m \u001b[0;32mfor\u001b[0m \u001b[0mi\u001b[0m\u001b[0;34m,\u001b[0m\u001b[0mj\u001b[0m \u001b[0;32min\u001b[0m \u001b[0mzip\u001b[0m\u001b[0;34m(\u001b[0m\u001b[0ms\u001b[0m\u001b[0;34m,\u001b[0m\u001b[0msortie\u001b[0m\u001b[0;34m)\u001b[0m\u001b[0;34m)\u001b[0m\u001b[0;34m\u001b[0m\u001b[0;34m\u001b[0m\u001b[0m\n",
      "\u001b[0;31mUnpicklingError\u001b[0m: invalid load key, '\\x00'."
     ]
    }
   ],
   "source": [
    "dico_sortie={}\n",
    "for n in N:\n",
    "    sortie=pickle.load(open(n,'rb'))\n",
    "    try:\n",
    "        dico_sortie[n.split('.')[0]]=Parallel(5)(delayed(fats.make_new_sortie)(i,j) for i,j in zip(s,sortie))\n",
    "    except:\n",
    "        continue\n",
    "dico_sortie.keys()"
   ]
  },
  {
   "cell_type": "code",
   "execution_count": null,
   "metadata": {},
   "outputs": [],
   "source": [
    "def comparaison(f,j=2):\n",
    "    dico=pickle.load(open(dico,'rb'))\n",
    "    l=[i for i in range(len(dico['score'])) if len(dico['phrase'][i])==len(dico['score'][i]) ]\n",
    "    score_vrai=[dico['score'][i] for i in l]\n",
    "#     fichiers=[i for i in os.listdir() if (name in i) and ('.pickle' in i)]\n",
    "    sortie=pickle.load(open(f,'rb'))\n",
    "    if len(sortie)==23799:\n",
    "        simple=[sortie[i] for i in range(len(sortie)) if i not in dico['erreur']]\n",
    "        simple2=[simple[i] for i in l]\n",
    "        simple3=Parallel(j)(delayed(make_new_sortie)(i,j) for i,j in zip(score_vrai,simple2))\n",
    "    \n",
    "    assert len(simple3)==len(score_vrai)\n",
    "        \n",
    "    F1=F1_score()\n",
    "    tp=[]\n",
    "    fp=[]\n",
    "    fn=[]\n",
    "    p=[]\n",
    "    r=[]\n",
    "    f=[]\n",
    "    \n",
    "    for i in tqdm(range(len(simple3))):\n",
    "        tp.append(F1.true_positive_mean(simple3[i],score_vrai[i]))\n",
    "        fp.append(F1.false_positive_mean(simple3[i],score_vrai[i]))\n",
    "        fn.append(F1.false_negative_mean(simple3[i],score_vrai[i]))\n",
    "        p.append(F1.precision(simple3[i],score_vrai[i]))\n",
    "        r.append(F1.recall(simple3[i],score_vrai[i]))\n",
    "        f.append(F1(simple3[i],score_vrai[i]))\n",
    "        \n",
    "    mtp=torch.mean(torch.tensor(tp))\n",
    "    mfp=torch.mean(torch.tensor(fp))\n",
    "    mfn=torch.mean(torch.tensor(fn))\n",
    "    mp=torch.mean(torch.tensor(p))\n",
    "    mr=torch.mean(torch.tensor(r))\n",
    "    mf=torch.mean(torch.tensor(f))\n",
    "    resultat=[mtp,mfp,mfn,mp,mr,mf]\n",
    "    \n",
    "    return resultat"
   ]
  }
 ],
 "metadata": {
  "kernelspec": {
   "display_name": "Python 3",
   "language": "python",
   "name": "python3"
  },
  "language_info": {
   "codemirror_mode": {
    "name": "ipython",
    "version": 3
   },
   "file_extension": ".py",
   "mimetype": "text/x-python",
   "name": "python",
   "nbconvert_exporter": "python",
   "pygments_lexer": "ipython3",
   "version": "3.7.6"
  }
 },
 "nbformat": 4,
 "nbformat_minor": 4
}
