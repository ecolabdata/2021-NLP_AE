{
 "cells": [
  {
   "cell_type": "markdown",
   "id": "11fb4a5c",
   "metadata": {},
   "source": [
    "## Imports"
   ]
  },
  {
   "cell_type": "code",
   "execution_count": 15,
   "id": "5513cd2c",
   "metadata": {},
   "outputs": [],
   "source": [
    "import numpy as np\n",
    "import pandas as pd\n",
    "import joblib\n",
    "import seaborn as sns\n",
    "from warnings import filterwarnings\n",
    "filterwarnings('ignore')"
   ]
  },
  {
   "cell_type": "markdown",
   "id": "a2bf91fc",
   "metadata": {},
   "source": [
    "## Chargement du  jeu de données"
   ]
  },
  {
   "cell_type": "code",
   "execution_count": 2,
   "id": "b27ed1fe",
   "metadata": {},
   "outputs": [],
   "source": [
    "df = joblib.load(open('../../df_sections.pickle','rb'))"
   ]
  },
  {
   "cell_type": "code",
   "execution_count": 13,
   "id": "5b4155a7",
   "metadata": {},
   "outputs": [
    {
     "data": {
      "text/html": [
       "<div>\n",
       "<style scoped>\n",
       "    .dataframe tbody tr th:only-of-type {\n",
       "        vertical-align: middle;\n",
       "    }\n",
       "\n",
       "    .dataframe tbody tr th {\n",
       "        vertical-align: top;\n",
       "    }\n",
       "\n",
       "    .dataframe thead th {\n",
       "        text-align: right;\n",
       "    }\n",
       "</style>\n",
       "<table border=\"1\" class=\"dataframe\">\n",
       "  <thead>\n",
       "    <tr style=\"text-align: right;\">\n",
       "      <th></th>\n",
       "      <th>index</th>\n",
       "      <th>titres</th>\n",
       "      <th>section_html</th>\n",
       "      <th>num_etude</th>\n",
       "      <th>section_clean_1</th>\n",
       "    </tr>\n",
       "  </thead>\n",
       "  <tbody>\n",
       "    <tr>\n",
       "      <th>0</th>\n",
       "      <td>0</td>\n",
       "      <td>1. PRESENTATION DU DEMANDEUR</td>\n",
       "      <td>&lt;/span&gt;&lt;/h3&gt;\\n&lt;p&gt;&lt;span class=\"font20\"&gt;Commune ...</td>\n",
       "      <td>100689</td>\n",
       "      <td>commune de saint yrieix la perche etude d impact</td>\n",
       "    </tr>\n",
       "    <tr>\n",
       "      <th>1</th>\n",
       "      <td>1</td>\n",
       "      <td>1.1. Présentation du groupe URBASOLAR</td>\n",
       "      <td>&lt;/span&gt;&lt;/h5&gt;\\n&lt;p&gt;&lt;span class=\"font45\"&gt;La Socié...</td>\n",
       "      <td>100689</td>\n",
       "      <td>la societe urba est une societe de projet qui ...</td>\n",
       "    </tr>\n",
       "    <tr>\n",
       "      <th>2</th>\n",
       "      <td>2</td>\n",
       "      <td>1.2. Références et expérience</td>\n",
       "      <td>&lt;/span&gt;&lt;br&gt;&lt;br&gt;&lt;span class=\"font47\" style=\"fon...</td>\n",
       "      <td>100689</td>\n",
       "      <td></td>\n",
       "    </tr>\n",
       "    <tr>\n",
       "      <th>3</th>\n",
       "      <td>3</td>\n",
       "      <td>1.2.1. Les Appels d'Offres</td>\n",
       "      <td>&lt;/span&gt;&lt;/h5&gt;&lt;/li&gt;&lt;/ul&gt;\\n&lt;p&gt;&lt;span class=\"font45...</td>\n",
       "      <td>100689</td>\n",
       "      <td>le groupe urbasolar est un des principaux laur...</td>\n",
       "    </tr>\n",
       "    <tr>\n",
       "      <th>4</th>\n",
       "      <td>4</td>\n",
       "      <td>1.2.2. Les Centrales au Sol</td>\n",
       "      <td>&lt;/span&gt;&lt;/h5&gt;\\n&lt;/div&gt;&lt;br clear=\"all\"&gt;\\n&lt;div&gt;&lt;im...</td>\n",
       "      <td>100689</td>\n",
       "      <td>parc solaire avec trackers mwc vallerargues fo...</td>\n",
       "    </tr>\n",
       "  </tbody>\n",
       "</table>\n",
       "</div>"
      ],
      "text/plain": [
       "   index                                 titres  \\\n",
       "0      0           1. PRESENTATION DU DEMANDEUR   \n",
       "1      1  1.1. Présentation du groupe URBASOLAR   \n",
       "2      2          1.2. Références et expérience   \n",
       "3      3             1.2.1. Les Appels d'Offres   \n",
       "4      4            1.2.2. Les Centrales au Sol   \n",
       "\n",
       "                                        section_html  num_etude  \\\n",
       "0  </span></h3>\\n<p><span class=\"font20\">Commune ...     100689   \n",
       "1  </span></h5>\\n<p><span class=\"font45\">La Socié...     100689   \n",
       "2  </span><br><br><span class=\"font47\" style=\"fon...     100689   \n",
       "3  </span></h5></li></ul>\\n<p><span class=\"font45...     100689   \n",
       "4  </span></h5>\\n</div><br clear=\"all\">\\n<div><im...     100689   \n",
       "\n",
       "                                     section_clean_1  \n",
       "0   commune de saint yrieix la perche etude d impact  \n",
       "1  la societe urba est une societe de projet qui ...  \n",
       "2                                                     \n",
       "3  le groupe urbasolar est un des principaux laur...  \n",
       "4  parc solaire avec trackers mwc vallerargues fo...  "
      ]
     },
     "execution_count": 13,
     "metadata": {},
     "output_type": "execute_result"
    }
   ],
   "source": [
    "df.head()"
   ]
  },
  {
   "cell_type": "markdown",
   "id": "c40296e3",
   "metadata": {},
   "source": [
    "## KeyBoost"
   ]
  },
  {
   "cell_type": "code",
   "execution_count": 4,
   "id": "564f0313",
   "metadata": {},
   "outputs": [],
   "source": [
    "from keyBoost import *\n",
    "import spacy"
   ]
  },
  {
   "cell_type": "code",
   "execution_count": 5,
   "id": "017a6bf9",
   "metadata": {},
   "outputs": [],
   "source": [
    "# stopwords\n",
    "nlp = spacy.load('fr_core_news_sm')\n",
    "stopwords = nlp.Defaults.stop_words"
   ]
  },
  {
   "cell_type": "code",
   "execution_count": 6,
   "id": "2556b74d",
   "metadata": {},
   "outputs": [],
   "source": [
    "keyboost = KeyBoost(transformers_model='distilbert-base-nli-mean-tokens')"
   ]
  },
  {
   "cell_type": "code",
   "execution_count": 8,
   "id": "92eb4b70",
   "metadata": {},
   "outputs": [],
   "source": [
    "initial_text = \"\"\"\n",
    "         Supervised learning is the machine learning task of learning a function that\n",
    "         maps an input to an output based on example input-output pairs.[1] It infers a\n",
    "         function from labeled training data consisting of a set of training examples.[2]\n",
    "         In supervised learning, each example is a pair consisting of an input object\n",
    "         (typically a vector) and a desired output value (also called the supervisory signal).\n",
    "         A supervised learning algorithm analyzes the training data and produces an inferred function,\n",
    "         which can be used for mapping new examples. An optimal scenario will allow for the\n",
    "         algorithm to correctly determine the class labels for unseen instances. This requires\n",
    "         the learning algorithm to generalize from the training data to unseen situations in a\n",
    "         'reasonable' way (see inductive bias).\n",
    "      \"\"\"\n"
   ]
  },
  {
   "cell_type": "code",
   "execution_count": 9,
   "id": "855be88b",
   "metadata": {},
   "outputs": [
    {
     "name": "stderr",
     "output_type": "stream",
     "text": [
      "C:\\Users\\zakaria.bekkar\\Anaconda3\\lib\\site-packages\\sklearn\\feature_extraction\\text.py:388: UserWarning: Your stop_words may be inconsistent with your preprocessing. Tokenizing the stop words generated tokens ['neuf', 'qu', 'quelqu'] not in stop_words.\n",
      "  warnings.warn('Your stop_words may be inconsistent with '\n"
     ]
    }
   ],
   "source": [
    "keywords = keyboost.extract_keywords(text=initial_text,\n",
    "                       language='fr',\n",
    "                       n_top=6,\n",
    "                       keyphrases_ngram_max=2,\n",
    "                       stopwords=stopwords)"
   ]
  },
  {
   "cell_type": "code",
   "execution_count": 11,
   "id": "77044e75",
   "metadata": {},
   "outputs": [
    {
     "data": {
      "text/plain": [
       "['learning algorithm',\n",
       " 'input-output pairs.',\n",
       " 'Supervised learning',\n",
       " 'that maps',\n",
       " 'machine learning',\n",
       " 'algorithm analyzes']"
      ]
     },
     "execution_count": 11,
     "metadata": {},
     "output_type": "execute_result"
    }
   ],
   "source": [
    "[k[0] for k in keywords]"
   ]
  },
  {
   "cell_type": "code",
   "execution_count": 33,
   "id": "85037e4c",
   "metadata": {},
   "outputs": [],
   "source": [
    "def apply_keyboost(text,language='fr',n_top=6,stopwords=stopwords):\n",
    "  \n",
    "    try:\n",
    "        keywords = keyboost.extract_keywords(text=text,\n",
    "                       language='fr',\n",
    "                       n_top=6,\n",
    "                       keyphrases_ngram_max=2,\n",
    "                       stopwords=stopwords)\n",
    "        return [k[0] for k in keywords]\n",
    "        \n",
    "    except:\n",
    "        \n",
    "        return None\n",
    "    \n",
    "    \n",
    "    "
   ]
  },
  {
   "cell_type": "code",
   "execution_count": 23,
   "id": "dac8f395",
   "metadata": {},
   "outputs": [],
   "source": [
    "ok_study = [100689,100707,102316,106168,110277,114799,118071,120638] "
   ]
  },
  {
   "cell_type": "code",
   "execution_count": 24,
   "id": "a68d4417",
   "metadata": {},
   "outputs": [
    {
     "data": {
      "text/html": [
       "<div>\n",
       "<style scoped>\n",
       "    .dataframe tbody tr th:only-of-type {\n",
       "        vertical-align: middle;\n",
       "    }\n",
       "\n",
       "    .dataframe tbody tr th {\n",
       "        vertical-align: top;\n",
       "    }\n",
       "\n",
       "    .dataframe thead th {\n",
       "        text-align: right;\n",
       "    }\n",
       "</style>\n",
       "<table border=\"1\" class=\"dataframe\">\n",
       "  <thead>\n",
       "    <tr style=\"text-align: right;\">\n",
       "      <th></th>\n",
       "      <th>index</th>\n",
       "      <th>titres</th>\n",
       "      <th>section_html</th>\n",
       "      <th>num_etude</th>\n",
       "      <th>section_clean_1</th>\n",
       "    </tr>\n",
       "  </thead>\n",
       "  <tbody>\n",
       "    <tr>\n",
       "      <th>0</th>\n",
       "      <td>0</td>\n",
       "      <td>1. PRESENTATION DU DEMANDEUR</td>\n",
       "      <td>&lt;/span&gt;&lt;/h3&gt;\\n&lt;p&gt;&lt;span class=\"font20\"&gt;Commune ...</td>\n",
       "      <td>100689</td>\n",
       "      <td>commune de saint yrieix la perche etude d impact</td>\n",
       "    </tr>\n",
       "    <tr>\n",
       "      <th>1</th>\n",
       "      <td>1</td>\n",
       "      <td>1.1. Présentation du groupe URBASOLAR</td>\n",
       "      <td>&lt;/span&gt;&lt;/h5&gt;\\n&lt;p&gt;&lt;span class=\"font45\"&gt;La Socié...</td>\n",
       "      <td>100689</td>\n",
       "      <td>la societe urba est une societe de projet qui ...</td>\n",
       "    </tr>\n",
       "    <tr>\n",
       "      <th>2</th>\n",
       "      <td>2</td>\n",
       "      <td>1.2. Références et expérience</td>\n",
       "      <td>&lt;/span&gt;&lt;br&gt;&lt;br&gt;&lt;span class=\"font47\" style=\"fon...</td>\n",
       "      <td>100689</td>\n",
       "      <td></td>\n",
       "    </tr>\n",
       "  </tbody>\n",
       "</table>\n",
       "</div>"
      ],
      "text/plain": [
       "   index                                 titres  \\\n",
       "0      0           1. PRESENTATION DU DEMANDEUR   \n",
       "1      1  1.1. Présentation du groupe URBASOLAR   \n",
       "2      2          1.2. Références et expérience   \n",
       "\n",
       "                                        section_html  num_etude  \\\n",
       "0  </span></h3>\\n<p><span class=\"font20\">Commune ...     100689   \n",
       "1  </span></h5>\\n<p><span class=\"font45\">La Socié...     100689   \n",
       "2  </span><br><br><span class=\"font47\" style=\"fon...     100689   \n",
       "\n",
       "                                     section_clean_1  \n",
       "0   commune de saint yrieix la perche etude d impact  \n",
       "1  la societe urba est une societe de projet qui ...  \n",
       "2                                                     "
      ]
     },
     "execution_count": 24,
     "metadata": {},
     "output_type": "execute_result"
    }
   ],
   "source": [
    "df[df['num_etude'].isin(ok_study)][:3]"
   ]
  },
  {
   "cell_type": "code",
   "execution_count": 28,
   "id": "492111d7",
   "metadata": {},
   "outputs": [
    {
     "data": {
      "text/plain": [
       "0    [yrieix perche, saint yrieix, commune, impact,...\n",
       "1    [groupe urbasolar, panneaux photovoltaiques, c...\n",
       "2                                                 None\n",
       "Name: section_clean_1, dtype: object"
      ]
     },
     "execution_count": 28,
     "metadata": {},
     "output_type": "execute_result"
    }
   ],
   "source": [
    "df[df['num_etude'].isin(ok_study)][:3]['section_clean_1'].apply(apply_keyboost)"
   ]
  },
  {
   "cell_type": "code",
   "execution_count": 30,
   "id": "e6c6d5ae",
   "metadata": {},
   "outputs": [],
   "source": [
    "df_demoday = df[df['num_etude'].isin(ok_study)]"
   ]
  },
  {
   "cell_type": "code",
   "execution_count": null,
   "id": "41fc3607",
   "metadata": {},
   "outputs": [
    {
     "name": "stdout",
     "output_type": "stream",
     "text": [
      "Warning! Exception: object of type 'NoneType' has no len() generated by the following text: 'None' \n",
      "Warning! Exception: object of type 'NoneType' has no len() generated by the following text: 'None' \n"
     ]
    }
   ],
   "source": [
    "df_demoday['keywords'] = df_demoday['section_clean_1'].apply(apply_keyboost)"
   ]
  },
  {
   "cell_type": "code",
   "execution_count": 32,
   "id": "35ca1b2c",
   "metadata": {},
   "outputs": [
    {
     "data": {
      "text/html": [
       "<div>\n",
       "<style scoped>\n",
       "    .dataframe tbody tr th:only-of-type {\n",
       "        vertical-align: middle;\n",
       "    }\n",
       "\n",
       "    .dataframe tbody tr th {\n",
       "        vertical-align: top;\n",
       "    }\n",
       "\n",
       "    .dataframe thead th {\n",
       "        text-align: right;\n",
       "    }\n",
       "</style>\n",
       "<table border=\"1\" class=\"dataframe\">\n",
       "  <thead>\n",
       "    <tr style=\"text-align: right;\">\n",
       "      <th></th>\n",
       "      <th>index</th>\n",
       "      <th>titres</th>\n",
       "      <th>section_html</th>\n",
       "      <th>num_etude</th>\n",
       "      <th>section_clean_1</th>\n",
       "    </tr>\n",
       "  </thead>\n",
       "  <tbody>\n",
       "    <tr>\n",
       "      <th>0</th>\n",
       "      <td>0</td>\n",
       "      <td>1. PRESENTATION DU DEMANDEUR</td>\n",
       "      <td>&lt;/span&gt;&lt;/h3&gt;\\n&lt;p&gt;&lt;span class=\"font20\"&gt;Commune ...</td>\n",
       "      <td>100689</td>\n",
       "      <td>commune de saint yrieix la perche etude d impact</td>\n",
       "    </tr>\n",
       "    <tr>\n",
       "      <th>1</th>\n",
       "      <td>1</td>\n",
       "      <td>1.1. Présentation du groupe URBASOLAR</td>\n",
       "      <td>&lt;/span&gt;&lt;/h5&gt;\\n&lt;p&gt;&lt;span class=\"font45\"&gt;La Socié...</td>\n",
       "      <td>100689</td>\n",
       "      <td>la societe urba est une societe de projet qui ...</td>\n",
       "    </tr>\n",
       "    <tr>\n",
       "      <th>2</th>\n",
       "      <td>2</td>\n",
       "      <td>1.2. Références et expérience</td>\n",
       "      <td>&lt;/span&gt;&lt;br&gt;&lt;br&gt;&lt;span class=\"font47\" style=\"fon...</td>\n",
       "      <td>100689</td>\n",
       "      <td></td>\n",
       "    </tr>\n",
       "    <tr>\n",
       "      <th>3</th>\n",
       "      <td>3</td>\n",
       "      <td>1.2.1. Les Appels d'Offres</td>\n",
       "      <td>&lt;/span&gt;&lt;/h5&gt;&lt;/li&gt;&lt;/ul&gt;\\n&lt;p&gt;&lt;span class=\"font45...</td>\n",
       "      <td>100689</td>\n",
       "      <td>le groupe urbasolar est un des principaux laur...</td>\n",
       "    </tr>\n",
       "    <tr>\n",
       "      <th>4</th>\n",
       "      <td>4</td>\n",
       "      <td>1.2.2. Les Centrales au Sol</td>\n",
       "      <td>&lt;/span&gt;&lt;/h5&gt;\\n&lt;/div&gt;&lt;br clear=\"all\"&gt;\\n&lt;div&gt;&lt;im...</td>\n",
       "      <td>100689</td>\n",
       "      <td>parc solaire avec trackers mwc vallerargues fo...</td>\n",
       "    </tr>\n",
       "    <tr>\n",
       "      <th>...</th>\n",
       "      <td>...</td>\n",
       "      <td>...</td>\n",
       "      <td>...</td>\n",
       "      <td>...</td>\n",
       "      <td>...</td>\n",
       "    </tr>\n",
       "    <tr>\n",
       "      <th>4354</th>\n",
       "      <td>158</td>\n",
       "      <td>France de Beaucouzé (49) - données 1981 à 2010)</td>\n",
       "      <td>&lt;/span&gt;&lt;/p&gt;\\n&lt;div&gt;\\n&lt;ul style=\"list-style:none...</td>\n",
       "      <td>120638</td>\n",
       "      <td>jours de brouillard jours d orage jours de nei...</td>\n",
       "    </tr>\n",
       "    <tr>\n",
       "      <th>4355</th>\n",
       "      <td>159</td>\n",
       "      <td>Mérimée)</td>\n",
       "      <td>&lt;/span&gt;&lt;/p&gt;\\n&lt;table border=\"1\"&gt;\\n&lt;tr&gt;&lt;td style...</td>\n",
       "      <td>120638</td>\n",
       "      <td>parametre unite methode valeur limite de l ap ...</td>\n",
       "    </tr>\n",
       "    <tr>\n",
       "      <th>4356</th>\n",
       "      <td>160</td>\n",
       "      <td>(Source : 2B RECYCLAGE)</td>\n",
       "      <td>correspondent d’une part aux composantes de l...</td>\n",
       "      <td>120638</td>\n",
       "      <td>correspondent d une part aux composantes de l ...</td>\n",
       "    </tr>\n",
       "    <tr>\n",
       "      <th>4357</th>\n",
       "      <td>161</td>\n",
       "      <td>dynamiques d’évolution</td>\n",
       "      <td>&lt;/span&gt;&lt;/p&gt;&lt;/li&gt;&lt;/ul&gt;\\n&lt;p&gt;&lt;span class=\"font5\" ...</td>\n",
       "      <td>120638</td>\n",
       "      <td>legende sans objet sensibilite faible sensibil...</td>\n",
       "    </tr>\n",
       "    <tr>\n",
       "      <th>4358</th>\n",
       "      <td>162</td>\n",
       "      <td>(source : 2B RECYCLAGE)</td>\n",
       "      <td>None</td>\n",
       "      <td>120638</td>\n",
       "      <td>None</td>\n",
       "    </tr>\n",
       "  </tbody>\n",
       "</table>\n",
       "<p>2204 rows × 5 columns</p>\n",
       "</div>"
      ],
      "text/plain": [
       "      index                                           titres  \\\n",
       "0         0                     1. PRESENTATION DU DEMANDEUR   \n",
       "1         1            1.1. Présentation du groupe URBASOLAR   \n",
       "2         2                    1.2. Références et expérience   \n",
       "3         3                       1.2.1. Les Appels d'Offres   \n",
       "4         4                      1.2.2. Les Centrales au Sol   \n",
       "...     ...                                              ...   \n",
       "4354    158  France de Beaucouzé (49) - données 1981 à 2010)   \n",
       "4355    159                                         Mérimée)   \n",
       "4356    160                          (Source : 2B RECYCLAGE)   \n",
       "4357    161                           dynamiques d’évolution   \n",
       "4358    162                          (source : 2B RECYCLAGE)   \n",
       "\n",
       "                                           section_html  num_etude  \\\n",
       "0     </span></h3>\\n<p><span class=\"font20\">Commune ...     100689   \n",
       "1     </span></h5>\\n<p><span class=\"font45\">La Socié...     100689   \n",
       "2     </span><br><br><span class=\"font47\" style=\"fon...     100689   \n",
       "3     </span></h5></li></ul>\\n<p><span class=\"font45...     100689   \n",
       "4     </span></h5>\\n</div><br clear=\"all\">\\n<div><im...     100689   \n",
       "...                                                 ...        ...   \n",
       "4354  </span></p>\\n<div>\\n<ul style=\"list-style:none...     120638   \n",
       "4355  </span></p>\\n<table border=\"1\">\\n<tr><td style...     120638   \n",
       "4356   correspondent d’une part aux composantes de l...     120638   \n",
       "4357  </span></p></li></ul>\\n<p><span class=\"font5\" ...     120638   \n",
       "4358                                               None     120638   \n",
       "\n",
       "                                        section_clean_1  \n",
       "0      commune de saint yrieix la perche etude d impact  \n",
       "1     la societe urba est une societe de projet qui ...  \n",
       "2                                                        \n",
       "3     le groupe urbasolar est un des principaux laur...  \n",
       "4     parc solaire avec trackers mwc vallerargues fo...  \n",
       "...                                                 ...  \n",
       "4354  jours de brouillard jours d orage jours de nei...  \n",
       "4355  parametre unite methode valeur limite de l ap ...  \n",
       "4356  correspondent d une part aux composantes de l ...  \n",
       "4357  legende sans objet sensibilite faible sensibil...  \n",
       "4358                                               None  \n",
       "\n",
       "[2204 rows x 5 columns]"
      ]
     },
     "execution_count": 32,
     "metadata": {},
     "output_type": "execute_result"
    }
   ],
   "source": [
    "df_demoday"
   ]
  },
  {
   "cell_type": "markdown",
   "id": "4e0ab12d",
   "metadata": {},
   "source": [
    "###### index normalization"
   ]
  },
  {
   "cell_type": "code",
   "execution_count": 41,
   "id": "7781a1e1",
   "metadata": {},
   "outputs": [],
   "source": [
    "df.index = range(len(df))"
   ]
  },
  {
   "cell_type": "markdown",
   "id": "4dfdc115",
   "metadata": {},
   "source": [
    "##### informations about some key properties of the df"
   ]
  },
  {
   "cell_type": "code",
   "execution_count": 42,
   "id": "d0dc8e17",
   "metadata": {},
   "outputs": [
    {
     "name": "stdout",
     "output_type": "stream",
     "text": [
      "<class 'pandas.core.frame.DataFrame'>\n",
      "RangeIndex: 21769 entries, 0 to 21768\n",
      "Data columns (total 5 columns):\n",
      " #   Column           Non-Null Count  Dtype \n",
      "---  ------           --------------  ----- \n",
      " 0   index            21769 non-null  int64 \n",
      " 1   titres           21769 non-null  object\n",
      " 2   section_html     21655 non-null  object\n",
      " 3   num_etude        21769 non-null  int64 \n",
      " 4   section_clean_1  21655 non-null  object\n",
      "dtypes: int64(2), object(3)\n",
      "memory usage: 850.5+ KB\n"
     ]
    }
   ],
   "source": [
    "df.info()"
   ]
  },
  {
   "cell_type": "markdown",
   "id": "2730d59e",
   "metadata": {},
   "source": [
    "##### diagnostic on missing values  and dropping"
   ]
  },
  {
   "cell_type": "code",
   "execution_count": 43,
   "id": "2739c055",
   "metadata": {},
   "outputs": [
    {
     "data": {
      "text/plain": [
       "index                0\n",
       "titres               0\n",
       "section_html       114\n",
       "num_etude            0\n",
       "section_clean_1    114\n",
       "dtype: int64"
      ]
     },
     "execution_count": 43,
     "metadata": {},
     "output_type": "execute_result"
    }
   ],
   "source": [
    "df.isna().sum()"
   ]
  },
  {
   "cell_type": "code",
   "execution_count": 44,
   "id": "bd0f798d",
   "metadata": {},
   "outputs": [],
   "source": [
    "df.dropna(inplace=True)"
   ]
  },
  {
   "cell_type": "markdown",
   "id": "30c85b63",
   "metadata": {},
   "source": [
    "#### diagnostic on sections propreties"
   ]
  },
  {
   "cell_type": "markdown",
   "id": "2d4169f3",
   "metadata": {},
   "source": [
    "###### word count"
   ]
  },
  {
   "cell_type": "code",
   "execution_count": 47,
   "id": "b9843255",
   "metadata": {},
   "outputs": [],
   "source": [
    "df['section_clean_wc'] = df['section_clean_1'].apply(\n",
    "    lambda x : len(x.split(' ')))"
   ]
  },
  {
   "cell_type": "code",
   "execution_count": 48,
   "id": "ed69eca2",
   "metadata": {},
   "outputs": [
    {
     "data": {
      "text/plain": [
       "<seaborn.axisgrid.FacetGrid at 0x227245e3580>"
      ]
     },
     "execution_count": 48,
     "metadata": {},
     "output_type": "execute_result"
    },
    {
     "data": {
      "image/png": "[encoded data removed]",
      "text/plain": [
       "<Figure size 360x360 with 1 Axes>"
      ]
     },
     "metadata": {
      "needs_background": "light"
     },
     "output_type": "display_data"
    }
   ],
   "source": [
    "sns.displot(df['section_clean_wc'],log_scale=True)"
   ]
  },
  {
   "cell_type": "code",
   "execution_count": 49,
   "id": "a02cb64a",
   "metadata": {},
   "outputs": [
    {
     "data": {
      "text/plain": [
       "0.20609558993304086"
      ]
     },
     "execution_count": 49,
     "metadata": {},
     "output_type": "execute_result"
    }
   ],
   "source": [
    "len(df[df['section_clean_wc'].between(100,1000)])/len(df)"
   ]
  },
  {
   "cell_type": "markdown",
   "id": "8e91bd0e",
   "metadata": {},
   "source": [
    "###### empty section"
   ]
  },
  {
   "cell_type": "code",
   "execution_count": 56,
   "id": "75f5f104",
   "metadata": {},
   "outputs": [
    {
     "data": {
      "text/plain": [
       "0.3660124682521358"
      ]
     },
     "execution_count": 56,
     "metadata": {},
     "output_type": "execute_result"
    }
   ],
   "source": [
    "len(df[df['section_clean_1'] == ''])/len(df)\n",
    "\n",
    "# 36% of detected sections are empty"
   ]
  },
  {
   "cell_type": "code",
   "execution_count": 57,
   "id": "56e3fd51",
   "metadata": {},
   "outputs": [],
   "source": [
    "# dropping empty sections\n",
    "\n",
    "df = df[df['section_clean_1'] != '']"
   ]
  },
  {
   "cell_type": "code",
   "execution_count": 58,
   "id": "b7b48bf9",
   "metadata": {},
   "outputs": [
    {
     "data": {
      "text/plain": [
       "<seaborn.axisgrid.FacetGrid at 0x226260bf550>"
      ]
     },
     "execution_count": 58,
     "metadata": {},
     "output_type": "execute_result"
    },
    {
     "data": {
      "image/png": "[encoded data removed]",
      "text/plain": [
       "<Figure size 360x360 with 1 Axes>"
      ]
     },
     "metadata": {
      "needs_background": "light"
     },
     "output_type": "display_data"
    }
   ],
   "source": [
    "sns.displot(df['section_clean_wc'],log_scale=True)"
   ]
  },
  {
   "cell_type": "markdown",
   "id": "51b5d1b8",
   "metadata": {},
   "source": [
    "###### tiny section"
   ]
  },
  {
   "cell_type": "code",
   "execution_count": 59,
   "id": "e170a7ca",
   "metadata": {},
   "outputs": [
    {
     "data": {
      "text/html": [
       "<div>\n",
       "<style scoped>\n",
       "    .dataframe tbody tr th:only-of-type {\n",
       "        vertical-align: middle;\n",
       "    }\n",
       "\n",
       "    .dataframe tbody tr th {\n",
       "        vertical-align: top;\n",
       "    }\n",
       "\n",
       "    .dataframe thead th {\n",
       "        text-align: right;\n",
       "    }\n",
       "</style>\n",
       "<table border=\"1\" class=\"dataframe\">\n",
       "  <thead>\n",
       "    <tr style=\"text-align: right;\">\n",
       "      <th></th>\n",
       "      <th>index</th>\n",
       "      <th>titres</th>\n",
       "      <th>section_html</th>\n",
       "      <th>num_etude</th>\n",
       "      <th>section_clean_1</th>\n",
       "      <th>section_clean_wc</th>\n",
       "    </tr>\n",
       "  </thead>\n",
       "  <tbody>\n",
       "    <tr>\n",
       "      <th>0</th>\n",
       "      <td>0</td>\n",
       "      <td>1. PRESENTATION DU DEMANDEUR</td>\n",
       "      <td>&lt;/span&gt;&lt;/h3&gt;\\n&lt;p&gt;&lt;span class=\"font20\"&gt;Commune ...</td>\n",
       "      <td>100689</td>\n",
       "      <td>commune de saint yrieix la perche etude d impact</td>\n",
       "      <td>9</td>\n",
       "    </tr>\n",
       "    <tr>\n",
       "      <th>109</th>\n",
       "      <td>109</td>\n",
       "      <td>Etude d'impact</td>\n",
       "      <td>&lt;/span&gt;&lt;/p&gt;\\n&lt;ul style=\"list-style:none;\"&gt;&lt;li&gt;...</td>\n",
       "      <td>100689</td>\n",
       "      <td>contexte paysager</td>\n",
       "      <td>2</td>\n",
       "    </tr>\n",
       "    <tr>\n",
       "      <th>287</th>\n",
       "      <td>287</td>\n",
       "      <td>4.</td>\n",
       "      <td>&lt;/span&gt;&lt;span class=\"font20\" style=\"font-style:...</td>\n",
       "      <td>100689</td>\n",
       "      <td>analyse comparative</td>\n",
       "      <td>2</td>\n",
       "    </tr>\n",
       "    <tr>\n",
       "      <th>300</th>\n",
       "      <td>300</td>\n",
       "      <td>6.2.2.1. Définition</td>\n",
       "      <td>non</td>\n",
       "      <td>100689</td>\n",
       "      <td>non</td>\n",
       "      <td>1</td>\n",
       "    </tr>\n",
       "    <tr>\n",
       "      <th>603</th>\n",
       "      <td>283</td>\n",
       "      <td>4.</td>\n",
       "      <td>&lt;/span&gt;&lt;span class=\"font24\" style=\"font-style:...</td>\n",
       "      <td>100707</td>\n",
       "      <td>analyse comparative</td>\n",
       "      <td>2</td>\n",
       "    </tr>\n",
       "    <tr>\n",
       "      <th>...</th>\n",
       "      <td>...</td>\n",
       "      <td>...</td>\n",
       "      <td>...</td>\n",
       "      <td>...</td>\n",
       "      <td>...</td>\n",
       "      <td>...</td>\n",
       "    </tr>\n",
       "    <tr>\n",
       "      <th>21497</th>\n",
       "      <td>233</td>\n",
       "      <td>6.3.2.2. MESURES</td>\n",
       "      <td>&lt;/span&gt;&lt;/p&gt;&lt;/li&gt;&lt;/ul&gt;\\n&lt;p&gt;&lt;a name=\"bookmark872...</td>\n",
       "      <td>2381564</td>\n",
       "      <td>aucune mesure n est envisagee</td>\n",
       "      <td>5</td>\n",
       "    </tr>\n",
       "    <tr>\n",
       "      <th>21498</th>\n",
       "      <td>234</td>\n",
       "      <td>6.3.2.3. INCIDENCES RESIDUELLES</td>\n",
       "      <td>&lt;/span&gt;&lt;/p&gt;&lt;/li&gt;&lt;/ul&gt;\\n&lt;p&gt;&lt;a name=\"bookmark874...</td>\n",
       "      <td>2381564</td>\n",
       "      <td>l incidence residuelle est qualifiee de neglig...</td>\n",
       "      <td>7</td>\n",
       "    </tr>\n",
       "    <tr>\n",
       "      <th>21659</th>\n",
       "      <td>395</td>\n",
       "      <td>TABL. 32 - METHODOLOGIES ET CALENDRIER DES PRO...</td>\n",
       "      <td>&lt;/span&gt;&lt;/a&gt;&lt;/p&gt;\\n&lt;p&gt;&lt;span class=\"font24\" styl...</td>\n",
       "      <td>2381564</td>\n",
       "      <td>figures</td>\n",
       "      <td>1</td>\n",
       "    </tr>\n",
       "    <tr>\n",
       "      <th>21735</th>\n",
       "      <td>471</td>\n",
       "      <td>2</td>\n",
       "      <td>-5 et suivants du code de l’Environnement &lt;/sp...</td>\n",
       "      <td>2381564</td>\n",
       "      <td>et suivants du code de l environnement</td>\n",
       "      <td>7</td>\n",
       "    </tr>\n",
       "    <tr>\n",
       "      <th>21757</th>\n",
       "      <td>493</td>\n",
       "      <td>1</td>\n",
       "      <td>364\"&gt;&lt;/a&gt;&lt;/p&gt;\\n&lt;p&gt;&lt;span class=\"font</td>\n",
       "      <td>2381564</td>\n",
       "      <td>span class font</td>\n",
       "      <td>3</td>\n",
       "    </tr>\n",
       "  </tbody>\n",
       "</table>\n",
       "<p>2410 rows × 6 columns</p>\n",
       "</div>"
      ],
      "text/plain": [
       "       index                                             titres  \\\n",
       "0          0                       1. PRESENTATION DU DEMANDEUR   \n",
       "109      109                                     Etude d'impact   \n",
       "287      287                                                 4.   \n",
       "300      300                                6.2.2.1. Définition   \n",
       "603      283                                                 4.   \n",
       "...      ...                                                ...   \n",
       "21497    233                                   6.3.2.2. MESURES   \n",
       "21498    234                    6.3.2.3. INCIDENCES RESIDUELLES   \n",
       "21659    395  TABL. 32 - METHODOLOGIES ET CALENDRIER DES PRO...   \n",
       "21735    471                                                  2   \n",
       "21757    493                                                  1   \n",
       "\n",
       "                                            section_html  num_etude  \\\n",
       "0      </span></h3>\\n<p><span class=\"font20\">Commune ...     100689   \n",
       "109    </span></p>\\n<ul style=\"list-style:none;\"><li>...     100689   \n",
       "287    </span><span class=\"font20\" style=\"font-style:...     100689   \n",
       "300                                                  non     100689   \n",
       "603    </span><span class=\"font24\" style=\"font-style:...     100707   \n",
       "...                                                  ...        ...   \n",
       "21497  </span></p></li></ul>\\n<p><a name=\"bookmark872...    2381564   \n",
       "21498  </span></p></li></ul>\\n<p><a name=\"bookmark874...    2381564   \n",
       "21659   </span></a></p>\\n<p><span class=\"font24\" styl...    2381564   \n",
       "21735  -5 et suivants du code de l’Environnement </sp...    2381564   \n",
       "21757                364\"></a></p>\\n<p><span class=\"font    2381564   \n",
       "\n",
       "                                         section_clean_1  section_clean_wc  \n",
       "0       commune de saint yrieix la perche etude d impact                 9  \n",
       "109                                    contexte paysager                 2  \n",
       "287                                  analyse comparative                 2  \n",
       "300                                                  non                 1  \n",
       "603                                  analyse comparative                 2  \n",
       "...                                                  ...               ...  \n",
       "21497                      aucune mesure n est envisagee                 5  \n",
       "21498  l incidence residuelle est qualifiee de neglig...                 7  \n",
       "21659                                            figures                 1  \n",
       "21735             et suivants du code de l environnement                 7  \n",
       "21757                                    span class font                 3  \n",
       "\n",
       "[2410 rows x 6 columns]"
      ]
     },
     "execution_count": 59,
     "metadata": {},
     "output_type": "execute_result"
    }
   ],
   "source": [
    "df[df['section_clean_wc'] <=10]"
   ]
  },
  {
   "cell_type": "code",
   "execution_count": 60,
   "id": "105449b3",
   "metadata": {},
   "outputs": [],
   "source": [
    "# dropping less than 10 words artefact sections\n",
    "\n",
    "df = df[df['section_clean_wc']>10]\n"
   ]
  },
  {
   "cell_type": "code",
   "execution_count": 61,
   "id": "ac5cb272",
   "metadata": {},
   "outputs": [
    {
     "data": {
      "text/plain": [
       "<seaborn.axisgrid.FacetGrid at 0x22724d21700>"
      ]
     },
     "execution_count": 61,
     "metadata": {},
     "output_type": "execute_result"
    },
    {
     "data": {
      "image/png": "[encoded data removed]",
      "text/plain": [
       "<Figure size 360x360 with 1 Axes>"
      ]
     },
     "metadata": {
      "needs_background": "light"
     },
     "output_type": "display_data"
    }
   ],
   "source": [
    "sns.displot(df['section_clean_wc'],log_scale=True)"
   ]
  },
  {
   "cell_type": "markdown",
   "id": "6df945f4",
   "metadata": {},
   "source": []
  },
  {
   "cell_type": "code",
   "execution_count": 62,
   "id": "194aedd0",
   "metadata": {},
   "outputs": [],
   "source": [
    "# taking a random sample of 30 sections to check their postprocessing \n",
    "# qualitative properties "
   ]
  },
  {
   "cell_type": "code",
   "execution_count": 63,
   "id": "edd0eaa3",
   "metadata": {},
   "outputs": [],
   "source": [
    "df.drop(axis=1,labels=['index'],inplace=True)\n",
    "df.index = range(len(df))"
   ]
  },
  {
   "cell_type": "code",
   "execution_count": 64,
   "id": "7f00e9f8",
   "metadata": {},
   "outputs": [
    {
     "data": {
      "text/plain": [
       "'vi a mesures liees dans le cadre de la pac vi b mesures prises independamment vii gestion et valorisation des effluents vi la production d effluents vii a effluents lies a l elevage existant vii b effluents lies a l elevage en projet vii cconclusion vi capacite de stockage des effluents vii a evacuation du fumier avicole vii b compostage au champ et epandage du fumier ovin chapitre conditions de remise en etat du site i cadre reglementaire des conditions de remise en etat ii procedures applicables a la remise en etat du site ll l procedure de remise en etat au cours de la vie de l installation procedure de remise en etat suite a l arret definitif de l installation operations de remise en etat du site procedure prealable a l autorisation du site titre ii etude d impact chapitre description des facteurs de l environnement susceptibles d etre affectes de maniere notable par le projet i definition du perimetre de l etude ii environnement humain population cadre de vie et activites socio economiques ii a la commune de bressuire ii la b la commune d argentonnay ii c la commune de coulonges thouarsais ii d la commune de luche thouarsais ii e la commune de geay patrimoine culturel ii st a sites classes et inscrits ii b monuments historiques ii c archeologie tourisme et loisirs appellations d origine plans et schemas susceptibles d etre affectes par le projet ii a urbanisme et planification du territoire ii b plans relatifs a la ressource en eau recensement des projets existants ou approuves ii a cadre reglementaire ii b enquetes publiques relatives aux documents d incidence ii c avis de l autorite environnementale sur etude d impact iii environnement physique topographie et relief geologie iii a intrusions magmatiques massif leucogranitique de bressuire iii b formations metamorphiques formations d age proterozoique superieur a cambrien de l unite sud du haut bocage il hydrogeologie iii a nappes presentes sur la zone d etude iii b les captages d alimentation en eau potable contexte hydrologique iii a les eaux superficielles iii b zones humides iii gestion des ressources en eau dans les environs du site iii a sdage et sage iii b les zones vulnerables aux nitrates iii c les zones sensibles a l eutrophisation iii d les zones de repartition des eaux iii climatologie iii a la rose des vents iii b temperatures et precipitations iii c bilan climatique qualite de l air iii a gestion et surveillance de la qualite de l air iii b principaux polluants caracteristiques et reglementation iii c emissions atmospheriques dans les deux sevres iii d indice journalier de la qualite de l air iii risques naturels iii a inondations iii b risque sismique iii c alea retrait gonflement des argiles iii d mouvements de terrain iii e feu de foret iii f phenomenes meteorologiques iii risques technologiques iii a etablissements seveso iii b risques relatifs au transport de matieres dangereuses tmd iii c sites industriels et pollues iii d risque de rupture de barrage iv environnement naturel biodiversite iv les zones remarquables et de protection du milieu naturel iv a les zones natura iv b les zones naturelles d interets ecologique faunistique et floristique znieff iv c autres zones naturelles chapitre description des incidences notables du projet sur l environnement i analyse des effets temporaires du projet sur l environnement humain physique et naturel nuisances sonores emissions atmospheriques vibrations materiaux et dechets de chantier gestion des eaux faune et flore ii analyse des effets permanents du projet sur l environnement humain ll l effets sur les biens materiels et le patrimoine historique et culturel effets sur le cadre de vie a trafic routier ii b niveaux sonores ii c le cadre reglementaire des elevages ii d sources sonores de l elevage de la scea les grandes versennes effets sur la production de dechets ii a types de dechets produits sur l elevage ii b les dind ii c les did d dechets d activite de soin et dechets d animaux e bilan sur la production de dechets effets sur la sante humaine ii a contexte et objectif ii b inventaire des emissions de l installation ii c evaluation des risques sanitaires ers ii d conclusion iii analyse des effets permanents du projet sur l environnement physique iii effets sur la ressource en eau iii a compatibilite avec le sdage iii b compatibilite avec les sage ii i c prelevements et consommation d eau iii d presentation du fumier avicole et ovin produit sur le site iii e impacts de l activite sur les eaux souterraines et superficielles il effets sur le climat et vulnerabilite du projet au changement climatique iii a agriculture et gaz a effet de serre iii b elevage et gaz a effet de serre ii i c bilan des emissions de gaz a effet de serre de l elevage effets sur la qualite de l air iii a production d odeurs et de gaz iii b rejets atmospheriques iii a declarations des emissions atmospheriques d ammoniac a l echelle de l exploitation iii effets sur le sol et le sous sol iv analyse des effets permanents du projet sur l environnement naturel iv effets sur le paysage iv a role du relief iv b choix du materiel de construction iv c role de la vegetation iv flore habitats iv a sur le site d exploitation iv b concernant la faune iv effets sur les continuites et equilibres ecologiques chapitre mesures erc et mesures d accompagnement eviter reduire compenser les effets negatifs notables du projet sur l environnement i introduction et definition ii mesures relatives aux effets temporaires du projet niveaux sonores emissions atmospheriques materiaux et dechets de chantier gestion des eaux securite faune et flore iii mesures relatives a l effet permanent du projet sur l environnement humain iii mesures prises pour preserver le cadre de vie iii a mesures prises pour limiter les nuisances sonores iii mesures prises pour optimiser la gestion de dechets iii ge g generalites iii b mesures prises pour optimiser la gestion des dind iii c mesures prises pour optimiser la gestion des did iii d mesures prises pour optimiser la gestion des dechets veterinaires et animaux iii mesures prises pour preserver la sante humaine iii a tracabilite iii b preservation de la sante animale ii i c production de poussieres mesures prises pour preserver la securite liee aux prescriptions relatives au stockage de gaz soumis a declaration iv mesures relatives aux effets permanents du projet sur l environnement physique iv mesures prises pour preserver la ressource en eau iv a economies d eau iv b gestion des eaux du site iv c implantation du site iv d collecte et stockage des effluents d elevage iv e limitation des rejets azotes et phosphates iv mesures prises pour limiter l impact sur la qualite de l air iv a au niveau des batiments iv mesures de protection du sol et du sous sol i v mesures prises pour les economies d energie v mesures relatives aux effets permanents du projet sur l environnement naturel et le paysage v l mesures de protection du paysage v mesures de protection de la faune et de la flore vi estimation des couts lies a la protection de l environnement vii installations relevant de la directive ied vi reglementation propre aux ied vii a contexte vii b reglementation sur les meilleures techniques disponibles vii c cas de la scea grandes versennes vi bilan sur les mtd vii a determination des meilleures techniques disponibles vii b application a l elevage de la scea les grandes versennes viii justification des choix retenus viii recapitulatif des mesures erc mises en oeuvre par le projet chapitre scenario de reference et evolutions i identification du scenario de reference aspects pertinents etudies ii dynamiques d evolution du scenario de reference ll l en cas de mise en oeuvre du projet en l absence de mise en oeuvre du projet synthese chapitre methodes utilisees pour la realisation de l etude d impact i sources d information ii etablissement de l etat initial ll l ressource en eau nuisances olfactives milieu naturel iii impacts sur l eau iii iii composition du fumier synthese des donnees sur les ressources en eau les batiments iv impacts sur l air nuisances olfactives v impacts sur le paysage et le milieu naturel v l effets sur le paysage v effets sur le milieu naturel vi impacts sur le traffic la voirie vii impacts sur la sante humaine vii i impacts sur le climat ix evaluation ied et bilan sur les mtd x difficultes rencontrees titre iii etude de dangers chapitre introduction i objectifs et cadre reglementaire de l etude de dangers ii methodologie employee chapitre identifications des potentiels de dangers i potentiels de dangers lies a l environnement du site risques d origine naturelle lia risque foudre i l b risque sismique ile risque inondation i d risques lies aux temperatures et evenements climatiques extremes risques d origine humaine et industrielle i a activites voisines i b intrusion actes de malveillance i c voies de circulation ii potentiels de dangers lies aux produits ll l dangers lies au stockage de fioul dangers lies au stockage de gaz dangers lies aux effluents d elevage iii potentiels de dangers lies au procede et aux equipements dangers lies aux equipements dangers lies a l exploitation du site il dangers lies a l electricite iv reduction des potentiels de dangers chapitre accidentologie et retour d experience i accidents survenus sur des installations similaires la base de donnees aria accidents et incidents dans les activites d elevage ii bilan et enseignements tires iii analyse de risques chapitre moyens de preventions et de protection mis en oeuvre i moyens de prevention generale ii moyens de prevention contre l incendie ll l consignes specifiques en cas d incendie consignes d exploitation controle des installations iii moyens de prevention contre l explosion iii stockage de fioul stockage de gaz iv moyens de prevention contre la pollution du milieu iv les ouvrages et vehicules iv le stockage de fioul gaz et des produits veterinaires et d entretien iv l elimination des dechets chapitre moyens de lutte contre l incendie i les issues de secours ii la detection incendie iii les moyens d alerte iv la voie d acces pompiers v les moyens d extinction v l extincteurs v besoins en eau pour la defense incendie du site v la gestion des eaux d extinction d incendie liste des annexes liste des figures figure etapes et acteurs de la procedure d instruction de la demande d autorisation environnementale figure photos de la parcelle du futur batiment figure prises de vue sur site photos extraites du permis de construire figure photo ndeg vue de facade des batiments ovins a droite et a gauche figure photo ndeg chemins d acces aux batiments volaille mare a gauche figure vue d interieur du batiment bergerie figure vue en plan du batiment en projet extrait du permis de construire figure vue de facade du batiment en projet extrait du permis de construire figure vue de pignon du batiment en projet extrait du permis de construire figure plan d ensemble du batiment au eme figure topographie des environs du site figure localisation de la masse d eau le thoue par rapport au site du projet figure caracteristiques de la masse d eau souterraine presente sur le site figure classification de l etat ecologique des eaux souterraines et superficielles figure panorama du site d etude figure schema et photographies du profil de sol figure sondages pedologiques figure rose des vents de la zone d etude source meteo france figure diagramme ombrothermique de la zone d etude figure repartition des emissions atmospheriques dans les deux sevres en figure repartition des emissions atmospheriques dans la ca du niortais en d apres les donnees d atmo pc figure echelle de l indice atmo figure repartition des indices de qualite de l air a niort de a figure niveau keraunique en france nombre de jours d orage par an figure echelle des bruits exprimes en db indications des perceptions auditives figure attenuation du bruit avec la distance figure schema des etapes de l analyse de risques figure modele conceptuel general d exposition des populations cibles figure bilan gaz a effet de serre de grandes cultures source unifa figure schema de propagation des odeurs figure distances specifiques d implantation de l elevage figure carte du risque sismique en france entree en vigueur le er mai figure exemple de panneau d affichage des procedures d urgence liste des tableaux tableau elevages de la scea les grandes versennes tableau rubriques concernees de la nomenclature des icpe tableau detail de la production de volailles du batiment en projet tableau exemple de composition type proteines brutes et phosphore tableau estimation de la consommation d eau actuelle et future donnees itavi et institut de l elevage tableau assolement de la scea les grandes versennes sur la campagne tableau estimation de la production d effluents actuelle de la scea les grandes versennes tableau estimation de la production d effluents suite a la creation du nouveau batiment tableau perimetres d etudes par facteur tableau situation des communes de la zone d etude vis a vis du projet tableau evolution de la population par tranches d age a bressuire tableau evolution de la population par tranches d age a argentonnay tableau evolution de la population par tranches d age a coulonges thouarsais tableau evolution de la population par tranche d age a luche thouarsais tableau evolution de la population par tranche d age a geay tableau monuments historiques sur la commune concernee par le projet tableau appellations d origine des communes du secteur d etude tableau recensement des avis d ouverture d enquete publique des projets ayant fait l objet d une etude d incidence tableau recensement des avis de l ae sur les communes concernees tableau limites des classes d etat chimique tableau objectifs de qualite tableau qualite de la madoire a sanzay station ndeg tableau temperatures et precipitations sur la zone de bressuire donnees meteo france tableau evapotranspiration moyenne sur la station de niort source meteo france tableau objectifs seuils et valeurs limites des polluants atmospheriques tableau les risques naturels sur la commune d etude tableau etablissements seveso dans un rayon de km de la zone d etude tableau zone natura dans un rayon de km autour du site tableau znieff dans un rayon de km autour du site tableau estimation des frequences de livraison sur site suite a realisation des travaux tableau calcul de niveau de bruit addition de plusieurs bruits tableau niveaux de bruit admissibles en limite de propriete icpe tableau emergences maximales admissibles en limite de propriete des tiers tableau zoonoes liees a la volaille tableau dangers et transferts potentiels zone concernee tableau caracterisation du niveau de risque en fonction des potentiels de danger et d exposition tableau compatibilite du projet avec le sdage loire bretagne tableau compatibilite du projet avec le sage du thouet tableau emissions agricoles en france tableau repartition des ges et pouvoir de rechauffement global prg suivant les elevages source solagro tableau bilan gaz a effet de serre de l elevage de la scea les grandes versennes tableau synthese des emissions de l elevage poste par poste tableau synthese des emissions d ammoniac par batiment tableau projection du futur batiment sur la parcelle extrait du permis de construire tableau inventaire des dechets de l elevage stockage et elimination tableau estimation des couts lies a la protection de l environnement tableau recapitulatif des mesures erc mises en oeuvre par le projet tableau liste des aspects pertinents de l environnement et etat actuel tableau evolutions probables des aspects pertinents de l environnement tableau risques lies aux equipements tableau grille de probabilite annexe de l arrete du tableau classification des risques sur l elevage liste des cartes carte carte de situation au eme carte plan des abords de l installation au eme carte extrait du plan cadastral du site et description de ses environs a l echelle carte assolement de la scea les grandes versennes eme carte carte geologique au du site d elevage et de ses environs carte aires de captage du departement des deux sevres carte pre localisations des zones humides dans les environs du site carte cartographie des risques de remontee de nappe source georisques gouv carte cartographie de l alea retrait gonflement des argiles carte carte des zones natura par rapport au site d elevage carte carte des znieff par rapport au site d elevage carte plan de gestion des risques avant propos le present dossier de demande d autorisation environnementale a pour objectif de presenter les caracteristiques du projet par rapport aux prescriptions relatives a la reglementation des installations classees pour la protection de l environnement il a ete etabli en application des articles l a l du code de l environnement livre v chapitre ii du titre ier le titre ier presente les pieces administratives et techniques relatives au projet le titre ii presente l etude d impact necessaire en application de l article r du code de l environnement livre er chapitre ii du titre ii modifie par le decret du avril reprenant la description de l environnement chapitre les incidences notables du projet chapitre les mesures erc et d accompagnement afin d eviter reduire compenser les effets attendus chapitre ainsi que le scenario de reference et les evolutions chapitre et les methodes utilisees pour la realisation de l etude d impact chapitre le titre iii presente l etude de danger prevue a l article l a l du code de l environnement l exploitation n employant pas de salaries il n est pas necessaire de presente de notice d hygiene et securite de la meme facon le fumier de l atelier avicole etant integralement exportes vers une plateforme de compostage aucun plan d epandage n a ete integre dans le dossier lettre de demande d autorisation environnementale prefecture des deux sevres a l attention de monsieur le prefet des deux sevres rue du guesclin bp niort cedex nom du demandeur scea les grandes versennes gerant deborde olivier et eugenie siege social le grand champ noirterre bressuire telephone statut juridique societe civile d exploitation agricole creation ndeg siret rcs niort monsieur le prefet conformement et en application des articles l et r a du code de l environnement relatifs aux installations classees pour la protection de l environnement j ai l honneur de solliciter l autorisation d exploiter un elevage avicole de emplacements sur la commune de bressuire au lieu dit le grand champ cette demande s accompagne d un permis de construire pour le nouveau batiment le terrain vise par l implantation du projet se situe sur la parcelle ndeg section a du cadastre de la commune de bressuire au lieu dit le grand champ vous trouverez ci dessous les details des effectifs ndeg de la rubrique designation des activites situation avant projet situation apres projet obligation administrative volailles gibier a plumes activite d elevage vente etc plus de emplacements autorisation obtenue pour emplacements m de batiments emplacements m de batiments m autorisation les effluents produits seront exportes au sein de la plateforme de compostage fertil eveil icpe agreee sous le ndeg drcle en charge de la transformation et de la commercialisation des composts vous trouverez ci apres le dossier etabli en application des articles r a du code de l environnement et du decret du decembre constitue de l ensemble des plans demandes la description du projet l etude d impact l etude de dangers et le resume non technique je vous remercie par avance de l attention que vous voudrez bien porter a l examen de ce dossier et vous prie de croire monsieur le prefet en l assurance de ma haute consideration a bressuire le le gerant de la scea les grandes versennes recepisse de depot d une demande de permis de construire lib rte hstrw republique francaise recepisse de depot d une demande de permis de construire ou de permis d amenager ministere charge de l urban ism f madame monsieur vous avez depose une demande de permis de construire ou d amenager le delai d instruction de votre dossier est de trois mois et si vous ne recevez pas de courrier de l administration dans ce dela vous beneficierez d un permis tacite toutefois dans le mois qui suit le depot de votre dossier l administration peut vous ecrire soit pour vous avertir quun autre delai est applicable lorsque le code de l urbanisme l a prevu pour permettre les consultations j necessaires si votre projet necessite la consultation d autres services soit pour vous indiquer qu il manque une ou plusieurs pieces a vcltre dossier soit pour vous informer que votre projet correspond a un des cas ou un permis tacite n est pas possible si vous recevez une telle lettre avant la fin du premier mois celle ci remplacera le present recepisse si vous n avez rien recu a la fin du premier mois suivant le depot le delai de trois mois ne pourra plus etre modifie si aucun courrier de l administration ne vous est parvenu a l issue de ce delai de trois mois vous pourrez commencer les travaux apres avoir adresse au maire en trois exemplaires une declaration d ouverture de chantier vous trouverez un modele de declaration cerfa ndeg a la mairie ou sur le site officiel de l administration francaise http www service public fr affiche sur le terrain ce recepisse sur lequel la mairie a mis son cachet pour attester la date de depot installe sur le terrain pendant toute la duree du chantier un panneau visible de la voie publique decrivant le projet vous trouverez le modele de panneau a la mairie sur le site officiel de ijadministration francaise http www service public fr ainsi que dans la plupart des magasins de materiaux j attention le permis n est definitif qu en l absence de recours pu de retrait dans le delai de deux mois a compter de son affichage sur le terrain sa legalite peut etre contestee par un tiers dans ce cas i l auteur du recours est tenu de vous en informer au plus tard quinze jours apres le depot du recours dans le delai de trois mois apres la date du permis l autorite competente peut le retirer si elle l estime illegal elle est tenue j de vous en informer prealablement et de vous permettre de repondre a ses observations i i certains travaux ne peuvent pas etre commences des la delivrance du permis et doivent etre differes c est le cas des travaux situes dans un site classe des transforma lions de logements en un autre usage dans les communes de plus de habitants et jlans les departements de paris des hauts de seine de la seine saint denis a i et du val de marne ou des installations classees pour la protection de l environnement voue pouvez verifier aupres de la mairie que votre projet n entre pas dans ces cas j cachet de la mairie a remplir par la mairie le projet ayant fait l objet d une demande de permis n pcu deposee a la mairie le uaexi x jtt i par sc a deo g rcxhca co mairie de dhes sufkl service urbanisme fera l objet d un permis tacite a defaut de reponse de l administration trois mois apres cette date les travaux pourront alors etre executes apres affichage sur le terrain du present recepisse et d un panneau decrivant le projet conforme au modele reglementaire rrive le maire ou e prefet en delivre certificat sur simple demande delais et voies de recours le permis peut taire l objet d un recours gracieux ou d un recours contentieux dans un delai de deux mois a compter du premier jour d une periode continue de deux mois d affichage sur le terrain d un panneau decrivant le projet et visible de la voie publique article r du code de l urbanisme l auteur du recours est tenu a peine d irrecevabilite de notifier copie de cc lui ci a l auteur de la decision et au titulaire de i autorisation article r du code de l urbanisme le permis est delivre sous reserve du droit des tiers il verifie la conformite du projet aux regles et servitudes d urbanisme il ne verifie pas si le projet respecte les autres reglementations et les regles de droit prive jtoute personne s estimant lesee par la meconnaissance du droit de propriete ou d autres dispositions de droit prive peut donc faire valoir ses droits en saisissant les tribunaux civils meme si ie permis de construire respecte les regles d urbanisme i r lr lettre de demande de derogation pour changement d echelles de plans scea les grandes versennes le grand champ noirterre bressuire monsieur le prefet dans le cadre de la demande d autorisation environnementale plusieurs plans doivent etre fournis une carte de situation au ou a defaut au le plan est fourni au un plan des abords de l installation a l echelle un plan cadastral est fourni au un plan d ensemble a l echelle de un plan est fourni au ces echelles ont ete retenues pour des raisons pratiques de format de presentation je vous saurai gre de bien vouloir accepter cette modification qui ne remet pas en cause les informations exposees sur ces plans je vous prie de croire monsieur le prefet en l assurance de ma haute consideration a bressuire le le gerant de la scea les grandes versennes lettre d engagement a payer les frais d enquete publique scea les grandes versennes le grand champ noirterre bressuire je soussigne le gerant de la scea les grandes versennes m engage a payer les frais inherents a l enquete publique affichage en mairie parution dans deux journaux dans le cadre de la demande d enregistrement pour un elevage de volailles de emplacements sur la commune de bressuire dossier de demande ci joint a bressuire le le gerant de la scea les grandes versennes titre i pieces administratives et techniques chapitre introduction i identite du demandeur nom du demandeur scea les grandes versennes gerants deborde olivier et eugenie siege social le grand champ noirterre bressuire telephone statut juridique societe civile d exploitation agricole creation ndeg siret rcs niort ii caracteristiques du projet implantation departement deux sevres communes bressuire references cadastrales parcelle no section am nature et volume des activites nature de l installation elevage avicole poulets de chair et dindes capacite finale de l elevage animaux equivalents valorisation des effluents future export vers une plateforme de compostage certifiee la scea les grandes versennes est une exploitation de polyculture elevage de ha possedant deux batiments volailles de m et m ainsi qu un elevage ovin de brebis l exploitation est autorisee par arrete prefectoral pour animaux equivalents annexe arrete autorisant la scea grand champ pour un elevage de volaille de animaux equivalent le projet qui fait l objet de cette demande consiste en la creation d un batiment volailles de m en complement des batiments volailles existants pouvant accueillir des poulets de chair ou des dindes avec un effectif superieur a emplacements ce projet s inscrit dans le cadre d un environnement economique social et societal de l agriculture et de l elevage qui a beaucoup evolue depuis quelques annees nous integrons a notre demarche d eleveur maillon d une filiere de production avicole en developpement un role de gestionnaire de l environnement pour un elevage integre dans son territoire rural et une mission de developpement durable dans le contexte de hausse actuelle de la consommation de viande de volaille en france ce projet repond a objectifs complementaires produire une volaille locale et de qualite dans un elevage parfaitement aux normes sur le plan de l environnement et du bien etre animal garantir un etat sanitaire des animaux alliant des performances techniques et economiques optimums valoriser la production de volailles de chair et de dindes de la scea les grandes versennes afin d assurer la rentabilite et la perennite de cette derniere valoriser la production regionale de cereales et produire un engrais naturel compostable l investissement dans le nouveau batiment d elevage a pour objectif de securiser le revenu de l entreprise en misant sur un marche porteur il permettra en outre a la conjointe de monsieur deborde de s installer avec la creation du batiment en prenant en compte les effectifs existants auparavant et ceux induits par la construction du nouveau batiment les emplacements demandes sont decrits dans le tableau suivant surface batiment m nombre d emplacements volailles m date de construction creation surface batiment m nombre d animaux date de construction brebis inconnue agneaux tableau elevages de la scea les grandes versennes en prenant en compte les batiments deja existants la demande d autorisation porte donc sur un nombre maximum de emplacements volailles a raison de m soit plus de emplacements c est une modification substantielle augmentation de de l arrete d elevage etabli en qui justifie la revision du dossier d autorisation environnementale la demande d autorisation porte donc sur un effectif total de emplacements la localisation du site d elevage est donnee sur la carte au eme presentee en page avec les communes concernees par l enquete publique en accompagnement de la lettre de demande l etude d impact a ete realisee pour a la fois exposer les contraintes les nuisances potentielles et les effets d un tel outil de production et la facon la plus efficace de traiter les effets negatifs pour proteger le milieu naturel et les tiers le petitionnaire mettra en oeuvre un ensemble de mesures efficaces pour eviter reduire voire compenser les eventuels effets negatifs notables et connait la rigueur a appliquer dans la gestion d un elevage chapitre rubriques icpe concernees par le projet i reglementation relative aux icpe les principaux textes de loi applicables sont les suivants arrete du decembre relatif aux prescriptions generales applicables aux installations relevant de l autorisation au titre de la rubrique ndeg de la nomenclature des installations classees pour la protection de l environnement l annexe a l article r du code de l environnement constituant la nomenclature des installations classees depuis la publication du decret ndeg du octobre creant le livre v de la partie reglementaire du code de l environnement le tableau suivant liste les rubriques de la nomenclature des installations classees susceptibles de s appliquer au site d exploitation de la scea les grandes versennes a autorisation tableau rubriques concernees de la nomenclature des icpe ndeg de la rubrique intitule de la rubrique et seuils caracteristiques sur l unite regime rayon d enquete elevage intensif de volailles ou de porcs avec plus de emplacements pour les volailles avec plus de emplacements pour les porcs de production de plus de kg avec plus de emplacements pour les truies existant emplacements m en projet emplacements m total emplacements m a km volailles gibier a plumes activite d elevage vente etc de a l exclusion d activites specifiques visees a d autres rubriques installations dont les activites sont classees au titre de la rubrique autres installations que celles visees au et detenant un nombre d emplacements pour les volailles et gibier a plumes superieur a autres installations que celles visees au et au et detenant un nombre d animaux equivalents superieur a existant emplacements m en projet emplacements m total emplacements m a km silos et installations de stockage en vrac de cereales grains produits alimentaires ou tout produit organique degageant des poussieres inflammables y compris les stockages sous tente ou structure gonflable volume total de stockage silos plats a m e b m mais m dc autres installations a m a b m mais m dc stockage d aliments existant silo de m silos m en projet silos de m total silos volume total de m nc a installations de combustion fioul domestique gaz biomasse charbon etc puissance thermique maximale superieure ou egale a mw a superieure a mw mais inferieure a mw d existant groupe electrogene kva en projet remplacement par un groupe electrogene kva nc liquides inflammables de categorie et la quantite totale susceptible d etre presente dans les installations y compris dans les cavites souterraines etant t a t mais t e t mais t dc fioul t stocke en cuve double paroi nc gaz inflammables liquefies de categorie et la quantite totale susceptible d etre presente dans les installations y compris dans les cavites souterraines strates naturelles aquiferes cavites salines et mines desaffectees etant t a t mais t dc existant stockage de gaz x t en projet cuves de t total t dc ii reglementation relative a la presence dans une icpe d une activite non icpe comme precise dans le tableau elevages de la scea les grandes versennes precedemment la scea les grandes versennes possede egalement un batiment dedie a l elevage d un cheptel ovin viande l activite n etant pas soumise a la reglementation icpe l administration des deux sevres a ete concertee afin de preciser le niveau de detail attendu dans le traitement de cet atelier il apparait qu en elevage il est possible de ne pas globaliser les differents elevages sur un seul et meme acte administratif des lors que cela est sans impact pour les interets vises a l article l du code de l environnement autrement dit il est necessaire de s assurer qu il n existe pas de source synergique entre les deux ateliers pouvant aggraver les nuisances dangers et inconvenients de l installation dans ce cas de figure les deux ateliers presentent des productions differentes sont organises sur des calendriers differents et tous deux sont localisees dans des batiments isoles les uns des autres par ailleurs ils exploitent chacun des ressources differentes pour l alimentation produite dans le cas des ovins importee dans le cas des volailles et beneficient d un traitement des effluents differencie egalement exportation dans le cas des volailles epandage dans le cas des ovins ces parametres suggerent que les deux ateliers travaillent sur deux circuits totalement separes et isoles des lors on peut raisonnablement considerer que leur dissociation sera sans impact pour les interets vises a l article l du code de l environnement l elevage de volailles est la seule activite soumise a autorisation le stockage de gaz naturel est une activite soumise a declaration avec controle periodique les activites liees a l elevage ovin seront dissociees des aspects relatifs a la reglementation icpe iii reglementation relative a la demande d autorisation environnementale le present dossier de demande d autorisation d exploiter a ete etabli en application des articles r a du code de l environnement livre v chapitre ii du titre ier l etude d impact requise s appuie sur les dispositions du decret du decembre portant reforme des etudes d impact des projets de travaux d ouvrages ou d amenagements lequel est integre au code de l environnement dans ses articles r et suivants l etude de dangers prevue a l article l du meme code est redigee selon les dispositions suivantes de l article r du code de l environnement iii l etude d impact piece essentielle du dossier la presente etude d impact fait partie du dossier de demande d autorisation environnementale ddae etabli en application des articles r a du code de l environnement livre ier titre viii chapitre unique les projets qui par leur nature leur dimension ou leur localisation sont susceptibles d avoir des incidences notables sur l environnement ou la sante humaine font l objet d une evaluation environnementale en fonction de criteres et de seuils definis par voie reglementaire et pour certains d entre eux apres un examen au cas par cas effectue par l autorite environnementale ordonnance ndeg du aout relative a la modification des regles applicables a l evaluation environnementale des projets plans et programmes decret ndeg du aout relatif a la modification des regles applicables a l evaluation environnementale des projets plans et programmes l evaluation environnementale est un processus constitue de l elaboration par le maitre d ouvrage d un rapport d evaluation des incidences sur l environnement etude d impact de la realisation des consultations ainsi que de l examen par l autorite competente de l ensemble des informations presentees dans l etude d impact et recues dans le cadre des consultations effectuees et du maitre d ouvrage article l l etude d impact requise est regie par le code de l environnement plus precisement par les articles l a l de la partie legislative et par les articles r a r de la partie reglementaire son contenu repond aux dispositions des articles r et r du code de l environnement ainsi l etude d impact est principalement constituee des elements suivants une description du projet de ses caracteristiques techniques et en phase operationnelle une description des facteurs de l environnement susceptibles d etre affectes de maniere notable par le projet une description des incidences notables du projet sur l environnement portant sur les effets indirects secondaires cumulatifs transfrontaliers a court moyen et long termes permanents et temporaires positifs et negatifs une description des incidences negatives notables du projet sur l environnement resultant de sa vulnerabilite a des risques d accidents ou catastrophes majeurs en rapport avec le projet une description des solutions de substitution raisonnables examinees par le maitre d ouvrage et une indication des raisons pour lesquelles le projet presente a ete retenu notamment au regard des incidences sur l environnement et la sante humaine les mesures prevues par le maitre d ouvrage pour eviter reduire voire compenser les effets negatifs notables du projet sur l environnement ou la sante humaine ainsi que l estimation des depenses correspondantes les effets attendus et les modalites de suivi de ces mesures et de leurs effets un scenario de reference et ses evolutions en cas de mise en oeuvre et en l absence du projet une description des methodes utilisees pour evaluer les incidences notables du projet sur l environnement un resume non technique afin de faciliter la prise de connaissance par le public des informations contenues dans l etude document independant iii instruction du dossier la procedure d instruction d un dossier de demande d autorisation environnementale d une installation soumise a autorisation definie par le decret ndeg du janvier relatif a l autorisation environnementale est presentee dans le schema qui suit le dossier est examine par le service instructeur coordonnateur dans le cas present l inspection des installations classees de la direction departementale de la cohesion sociale et de la protection des populations ddcspp des deux sevres sur la forme verification des pieces et instruit sur le fond verification du contenu les services de l etat concernes services instructeurs contributeurs sont consultes lors de cet examen de maniere a ce que le dossier mis a l enquete publique soit juge complet l avis de l autorite environnementale emis dans ce cadre accompagne le dossier mis a l enquete publique a la fin de l instruction le projet d arrete prefectoral est envoye au petitionnaire qui peut presenter ses remarques dans un delai de jours la version definitive est ensuite portee a la signature du prefet phases et delais etapes de la procedure principaux acteurs phase amont phase d examen mois annonces mois si avis d une autorite ou instance nationale phase d enquete publique mois annonces phase de decision mois annonces mois le silence de l administration vaut rejet de la demande iv l enquete publique iv l textes et procedures regissant l enquete publique cette enquete a pour but d informer le public et de recueillir ses appreciations suggestions et contre propositions apres le depot de l etude d impact aupres de l autorite competente en matiere d environnement elle s inscrit au sein d une procedure administrative relative a la demande d autorisation d exploiter dont le deroulement de l instruction est presente dans les articles r a du code de l environnement les principaux textes regissant l enquete publique sont les suivants loi ndeg du juillet portant engagement national pour l environnement dite loi grenelle ii decret ndeg du decembre portant reforme de l enquete publique relative aux operations susceptibles d affecter l environnement articles l a du code de l environnement articles r a du code de l environnement iv les communes concernees par l enquete publique les communes concernees par l enquete publique sont celles concernees par les risques et inconvenients dont l etablissement peut etre la source et au moins celles dont une partie du territoire est situee a une distance prise a partir du perimetre de l installation inferieure au rayon d affichage fixe dans la nomenclature des installations classees pour la rubrique dont l installation releve ainsi d apres les rubriques citees dans le paragraphe precedent le rayon de l enquete sera de km autour des limites de l installation a l interieur de ce rayon communes sont concernees bressuire argentonnay coulonges thouarsais luche thouarsais et geay ces communes sont figurees sur carte plan de situation au eme dans ces communes il sera procede a l affichage de l avis au public prevu au i de l article r du code de l environnement v autres reglementations applicables l elevage respectera les prescriptions en matiere d hygiene et de sante animale et humaine fixees par la reglementation en vigueur dont l arrete du decembre precite de plus une visite annuelle obligatoire du veterinaire permettra de valider la conformite de l elevage par rapport a cette reglementation chapitre contexte du projet i historique de l exploitation et motivations par rapport au projet la scea les grandes versennes est une exploitation de polyculture elevage situee sur la commune de bressuire au lieu dit le grand champ de noirterre elle est geree actuellement par olivier deborde la ferme familiale est exploitee depuis par les parents de mme deborde la surface est modeste pas plus de ha en propriete de monsieur deborde composee essentiellement de prairies et occupee par un troupeau ovin de brebis agnelles rouge de l ouest en complement de cette activite l entreprise dispose de deux batiments volailles en novembre olivier deborde ingenieur agricole diplome de l esa d angers et ancien conseiller de gestion au cer s installe sur l exploitation de ses beaux parents suite a un parrainage d un an par les parents de madame deborde en il diversifie son entreprise en optant pour la construction d une centrale photovoltaique de m produisant kwh par an c est en qu il cree la scea les grandes versennes afin d y integrer sa femme eugenie deborde en tant qu associee non exploitante cette derniere sera de plus en plus active sur l exploitation et deviendra salariee de la scea a partir du er octobre les terres de l exploitation sont acquises l annee de l installation d olivier dans le bocage du bressuirais les terres ont un faible potentiel du principalement a leur caractere sechant il faut y ajouter une meteo parfois capricieuse comme au printemps tres pluvieux qui n a permis de recolter qu un fourrage de tres mauvaise qualite jusqu ici ce handicap lie aux conditions naturelles d exploitation de cette zone donnait droit a des aides specifiques pour compenser le revenu dans le cadre d un classement en zone defavorisee mais un redecoupage a eu lieu dernierement excluant des communes en zone defavorisee des deux sevres pour n en conserver que dont malheureusement bressuire ne fait pas partie la scea les grandes versennes a donc perdu son acces a l ichn indemnite compensatoire de handicaps naturels pourtant vitale pour ce type d exploitation le projet de m et mme deborde consiste tout d abord a securiser toutes les productions actuelles de l entreprise pour capter le maximum de plus value optimiser la valorisation du secteur ovin par la vente d agneaux en label et d agnelles reproductrices mais c est aussi circonscrire les charges d exploitation au plus juste en s appuyant sur toutes les possibilites offertes pour rationaliser ou pour baisser les charges la scea les grandes versennes souhaite pouvoir installer un deuxieme actif a temps plein sur l exploitation et a besoin pour cela de securiser le revenu de celle ci olivier deborde gerant de l exploitation a choisi de miser sur la production de volailles de chair et de dindes dont la demande est en croissance depuis plusieurs annees le projet de construction d un batiment de m s inscrit donc dans une motivation a la fois economique et sociale puisqu elle permet de perenniser l exploitation tout en creant de l emploi supplementaire dans un secteur l elevage peu dynamique dans sa globalite dans la mesure ou il s agit d un agrandissement le projet de la scea les grandes versennes sera ici detaille en y integrant l elevage existant chaque partie de la presentation verra donc une description de l etat de l existant suivie des transformations amenees par le projet ii description de l exploitation existante et des environs comme montre sur la carte qui suit dans le chapitre la scea les grandes versennes possede deja differents batiments adaptes a l elevage ovin et de volailles de chair le site est situe en bordure de lieu dit dans une zone agricole les differents batiments sont relies entre eux par des chemins empierres les details des differents batiments sont donnes ci apres les premiers tiers sont presents a metres du site de construction du nouveau batiment les premiers tiers et m et mme deborde entretiennent de tres bonnes relations de voisinage l exploitation agricole ayant toujours existe le nouveau batiment n est pas susceptible d engendrer de changement significatif dans les activites du lieudit et des relations avec les tiers batiment ndeg batiment en projet le terrain vise pour l implantation se situe sur la parcelle cadastrale ndeg de la commune de bressuire d une surface totale de m sa localisation est donnee sur la carte en page suivante ses caracteristiques sont decrites par la suite la scea les grandes versennes est proprietaire de la parcelle comme en atteste les statuts de la scea aux pages et cf annexe batiment ndeg elevage de volailles m type louisiane consacre a l elevage de volailles de chair d une superficie de m construit en sur sol en terre battue avec soubassement longrines bardage en panneaux sandwich et fibrociment avec isolation mousse de polyurethane et ossature metallique ventilation dynamique couverture type bac acier avec isolation styrodur batiment ndeg elevage de volailles m consacre a l elevage de volailles de chair d une superficie de m construit en sur sol en terre battue avec soubassement parpaings bardage en panneaux sandwich en bois avec isolation polystyrene et charpente bois ventilation dynamique de type colorado avec turbines de m h ventilateurs de m h et deux ventilateurs m h couverture type everite avec isolation styrodur batiment ndeg engraissement ovins de m consacre a l engraissement des agneaux d une superficie de m construit en avec soubassements parpaings bardage en panneaux sandwich bois isolation polystyrene et charpente bois possedant une ventilation statique couverture en toles galvanises avec isolation en laine de verre et styrodur batiment ndeg bergerie de m bergerie utilisee mois par an d une superficie de m sur sol en terre battue bardage en parpaings ventilation statique couverture type everite avec isolation styrodur iii reportage photographique un reperage des lieux fut effectue afin de prendre note des elements de terrain les photos presentees ci dessous correspondent aux prises de vue figurees sur le plan cadastral chapitre pages suivantes figure photos de la parcelle du futur batiment figure photo ndeg vue de facade des batiments ovins a droite et a gauche figure photo ndeg chemins d acces aux batiments volaille mare a gauche figure vue d interieur du batiment bergerie chapitre plans et elements graphiques carte carte de situation au eme scea les grandes versennes bressuire dossier de demande d autorisation environnementale localisation du site d etude et des communes concernees par l enquete publique legende cours d eau a proximpite du site site de la scea les grandes versennes tampon km enquete publique limites communales echelle realisation nca environnement avril km source ig n realisation nca environnement mars nca environnement allee jean monnet neuville de poitou tel fax environnement email accueil nca env fr argentonnay scea les grandes versennes bressuire plan des abords de l installation legende bressuire site de la scea grandes versennes realisation nca environnement mars m bergerie engraissment siege exploitant dossier de demande d autorisation d exploiter nca f allee jean monnet v i neuville de poitou environnement carte plan des abords de l installation au eme carte extrait du plan cadastral du site et description de ses environs a l echelle chapitre capacites techniques et financieres i capacites techniques m deborde est eleveur de volailles depuis il travaille regulierement avec differents partenaires techniciens et conseillers en environnement qui apportent egalement leur experience technique en cas de besoin il dispose en outre d un diplome d ingenieur au grade de master delivre en par l ecole superieure d agriculture d angers esa mme deborde dispose quant a elle d un brevet professionnel option responsable d exploitation agricole delivre en par la direction regionale de l alimentation de l agriculture et de la foret de la region poitou charentes annexe diplomes de monsieur et madame deborde en plus du travail quotidien assure par l exploitant l elevage est suivi par un veterinaire des fournisseurs de matieres premieres et le technicien du groupe bellavol l abonnement a des revues specialisees et des visites d elevages renforcent la formation continue de l eleveur la scea les grandes versennes disposera donc des capacites techniques necessaires a la conduite de cette exploitation dans les meilleures conditions grace a ses competences acquises par une longue experience du metier et a celles des intervenants de la filiere ii capacites financieres la scea les grandes versennes est un elevage deja existant pour qui le projet de construction presente ici consiste en un agrandissement des capacites de production de l atelier volaille l examen des trois derniers bilans avril a avril donne une image precise de la situation financiere de la scea grandes versennes et de son evolution les grands postes de l actif et du passif figurent ici dans le tableau ci joint les capitaux propres representant la synthese des postes capital et reserves comptes courants et subventions le total de bilan se situe en moyenne a un peu plus de keur durant les deux premiers exercices avant d amorcer une hausse tres significative en raison du doublement de la valeur habituelle des stocks au a l actif les immobilisations representent scea grandes versennes un peu plus de de la valeur totale de l actif la valeur residuelle est en diminution progressive sous l effet des en keur actif amortissements annuels des installations et du materiel d autant que les investissements sont plutot restreints sur immos stocks real dispo total cette periode triennale passif c est un niveau assez satisfaisant pour une k propres dettes lmt entreprise de polyculture elevage dettes ct disposant de ha de sau principalement total occupes par de la prairie d un atelier ovin de brebis et d un atelier ratios volaille de m endettement endett ct les stocks varient peu sur les deux endett lmt premiers exercices avant de voir leur valeur auton fin doublee sous l effet d une bande de fdr dindons en finition presente fin avril fdr stocks le realisable et disponible est assez stable d une annee sur l autre et oscille entre et keur selon les exercices le passif revele une sante financiere fragile de l entreprise mais qui s assainit meme si l evolution positive de l endettement ne se confirme pas sur pour des raisons exceptionnelles la presence en fin d exercice d un stock important de dindes desequilibre momentanement la tresorerie de l exploitation cette derniere n ayant pas le fond de roulement necessaire pour assumer la couverture des besoins ceci se traduit en par un endettement a court terme fournisseurs principalement de meme niveau que l endettement moyen terme cet examen revele une entreprise fragile mais saine geree avec competence il demeure neanmoins que pour consolider le resultat le developpement en surface ou en brebis est peu probable d autant que des aides specifiques semblent etre remises en cause la scea grandes versennes doit donc dorenavant passer a la vitesse superieure pour consolider sa rentabilite en deployant l activite hors sol dans ce but il est envisage de creer un batiment supplementaire de m qui s ajoutera aux deja presents c est dans cette politique de recherche de revenu supplementaire que s inscrit ce projet qui doit permettre a la scea les grandes versennes de degager les ressources necessaires pour couvrir ses prelevements prives tout en faisant face a ses remboursements d emprunts iii financement du projet le montant de financement total du projet est de eur ce montant sera auto finance a hauteur de eur subventions bellavol par la scea les grandes versennes et pour le reste sous forme de pret le mode de financement sous forme d un pret du projet de la scea les grandes versennes est assure et valide par un organisme bancaire credit agricole charente maritime deux sevres l accord de pret pour un total de euros est joint en annexe au present dossier annexe accord de pret en outre la scea les grandes versennes a fait effectuer une etude previsionnelle economique par cer france bureau de conseil aux entreprises afin d evaluer la faisabilite economique du projet cette etude considere le projet comme viable et detaille des marges de manoeuvre economique eventuelles cette etude est jointe au present dossier annexe etude economique du cefrance la scea les grandes versennes dispose donc de garanties financieres solides pour la bonne realisation du projet du nouveau batiment volailles chapitre caracteristiques techniques de l elevage i description du batiment en projet le nouveau batiment projete par olivier deborde disposera d une surface utile de m il sera implante sur la parcelle cadastrale a proximite du batiment volailles type louisiane construit en voir carte de situation ses dimensions seront de metres de longueur par metres de largeur soit m divise en travees de metres chacune la hauteur sous plafond sera de metres en bord de batiment a metres au centre les plans qui suivent decrivent l aspect projete du futur batiment un document attestant de la maitrise fonciere du terrain est egalement joint en annexe annexe statuts de la scea les grandes versennes jupes d aeration gris fonce bardage bac acier laque beige porte gris fonce porte bardage bac acier imitation bois portail bac acier laque gris fonce bardage bac acier imitation bois fiirl d architecture hermant jean pierre v fiera tant jean pierre architecte d e sj l siege mh lal agence z l des xicloiies xern il anjou tel fax e mail ai cliitecnue het niant twanadoo fi aexpertis igam expertise comptable echelle le cale ne ml qu indicarivet de meme que le ente prevues pour ici cqmpaixas iuifrimi qu a vu due rttififcs par le maitre de l ouvrage nvam loi defaut d cxeoutton vue en plan scea les grandes versennes le grand champ noirterre bressuire figure vue en plan du batiment en projet extrait du permis de construire figure vue de facade du batiment en projet extrait du permis de construire figure vue de pignon du batiment en projet extrait du permis de construire figure plan d ensemble du batiment au eme legende nstructi iaux installation de stoc projet de batiment avicole atimem avieol poche de m si r s sas zone empierree de la mare batiment avicole echelle section am noirterre bressuire plan de masse pc scea les grandes versennes le grand champ noirterre bressuire hermajnt jean pierre architecte d e s a siege social agence z l des victoires vern d anjou tel fax e mail aitliitecture lierinanttf wanadoo fr projet de ci ateliers ani xxare ex ii recapitulatif des animaux du futur batiment d elevage l elevage dans le batiment en projet sera conduit en bande unique c est a dire que tous les animaux presents ont le meme age et arrivent de ce fait en meme temps le tableau suivant detaille la duree d elevage le poids de sortie et la production annuelle pour chaque type de volaille en presence simultanee le nouveau batiment de mz pourra accueillir au maximum poulets avec un chargement de poulets m ou dindes avec un chargement de dindes m tableau detail de la production de volailles du batiment en projet espece duree d elevage poids de sortie nombre de bandes production annuelle dindes jours kg poulets standard jours kg iii conduite de l elevage dans cette partie seront decrites la conduite de l elevage de volailles sur l elevage existant ainsi que sur celui en projet la conduite de l elevage ovin different en de nombreux points sera abordee a la fin de cette partie suite au projet la scea les grandes versennes produira plusieurs sortes de volailles dindes et poulets de chair standard les animaux seront fournis par le groupe bellavol et arriveront sur l elevage a l age d un jour le type d animaux produit pourra evoluer suivant les besoins du marche en veillant a respecter le nombre maximum d emplacements ainsi l introduction de pintades a l avenir dans l elevage est une option que l eleveur n exclue pas il est interessant de noter que le groupe bellavol a mis en place du couvoir jusqu a l abattage des animaux en passant par l elevage une methode de tracabilite de chaque lot cette tracabilite est decrite dans le chapitre iii iii eclairage l eclairage est module au cours des differents stades de developpement des animaux pendant la periode de demarrage stade poussin la duree d eclairement et surtout l intensite de la lumiere sont plus importantes que pour les stades suivants iii a batiments existants dans les batiments existants l eclairage est assure par de la lumiere naturelle provenant des rideaux thermiques batiment ainsi que par de la lumiere blanche provenant neons leds il est fractionne et module selon les stades physiologiques des animaux grace a des programmateurs iii b batiment en projet l eclairage du nouveau batiment sera assure par rampes de reglettes led agrilight avec variation de a afin de pouvoir moduler l intensite selon les stades des animaux par ailleurs le nouveau batiment beneficiera de l eclairage naturel permis par les fenetres presentes tout le long iii ventilation iii ba a batiments existants la ventilation des batiments volailles est de type dynamique pour tous les batiments elle s effectue grace a des ventilateurs qui generent des mouvements d air entrant et sortant du batiment pour creer une aeration transversale pour le batiment durant les stades juveniles des volailles la ventilation pourra etre periodiquement statique transversale de type louisiane peu de degagement de chaleur batiment de m ventilateurs lateraux d une puissance totale de m h et turbines de m h chacune batiment de m turbines d une puissance de m h chacune le fonctionnement de ces ventilateurs n est pas continu ils se declenchent grace a un programmateur en fonction du besoin d air des animaux lors des phases les plus precoces puis de la chaleur relevee dans le batiment l ordinateur de gestion de l elevage determine alors le temps de ventilation necessaire et le nombre de ventilateurs a faire fonctionner simultanement les dispositifs de ventilation doivent permettre de maintenir un renouvellement de l air maximum en evitant l apparition des condensations et le chargement de l atmosphere en ammoniac la ventilation apporte ainsi de l oxygene aux animaux et evacue l air vicie mais elle regle aussi le niveau des apports et des pertes de chaleur dans le batiment elle contribue donc a maintenir la temperature et l hygrometrie dans des limites souhaitables d autre part une bonne ventilation doit balayer toute la zone d elevage sans mouvement d air apparent il est tres important particulierement durant les deux premieres semaines de vie du poussin d eviter les courants d air surtout en hiver une vitesse d air trop elevee peut ralentir la croissance voire meme entrainer la mort la ventilation est donc modulee en fonction du stade animal iii ba b batiment en projet la ventilation du nouveau batiment sera de type dynamique elle s effectuera grace a des ventilateurs qui generent des mouvements d air entrant et sortant du batiment pour creer une aeration longitudinale l extraction se fera par ventilateurs de m h sur les cotes ventilateurs en pignon de m h et turbines de m h chauffage pour repondre aux exigences de confort des animaux et limiter la lutte contre le froid qui entraine une surconsommation d aliments et des risques sanitaires surtout pendant la periode de demarrage les aviculteurs mettent en place des systemes de chauffage la temperature doit etre maitrisee en particulier durant les premiers jours de vie du poussin ces jeunes animaux ne reglent pas eux memes la temperature de leur corps jusqu a l age de jours et ils ne s adaptent veritablement aux variations de temperature qu a partir de deux semaines iii a batiments existants le batiment de m est chauffe par un systeme de radiants de watts chacun et d un canon de watt repartis sur la surface du batiment fonctionnant au gaz le batiment de m est chauffe par radians de watts chacun la temperature est modulee en fonction des stades de developpement des animaux et des conditions climatiques l ensemble des radians avec le canon est alimente grace a citernes de gaz de t iii b batiment en projet l interieur sera chauffe par un systeme de canons interieurs suspendus installes au centre du batiment la temperature sera modulee en fonction des stades de developpement des animaux et des conditions climatiques ils seront alimentes au gaz propane les deux reservoirs de tonnes chacun seront disposes conformement aux prescriptions applicables aux installations soumises a declaration sous la rubrique metres de tout stockage de produits inflammables metres des ouvertures de batiment isolation iii a batiments existants le batiment beneficie d un bardage en panneaux sandwich avec isolation en mousse de polyurethane alors que le batiment possede un bardage en panneaux sandwich avec isolation en polystyrene et charpente bois iii b batiment en projet concernant le batiment en projet les murs seront isoles par des panneaux de type polyurethane d une epaisseur de mm apportant une bonne isolation thermique et acoustique le sol des batiments sera en terre battue recouvert d une litiere composee de copeaux de bois celle ci assurera l isolation thermique des animaux au sol en minimisant les pertes par conduction principalement au niveau des pattes iii alimentation l alimentation en elevage avicole est la base des performances techniques en outre une alimentation raisonnee en fonction des besoins a chaque stade physiologique permet une reduction des rejets azotes et phosphates au niveau des effluents la qualite de l alimentation determine les parametres suivants l indice de consommation le taux de mortalite bonne sante des animaux le rendement le poids d abattage la vitesse de croissance l indice de consommation est en moyenne pres de kg d aliments par kg de poulets produits et kg d aliments par kg de dindes produites iii a nature des aliments et distribution l alimentation disponible a volonte est adaptee en fonction de l age des animaux c est une alimentation dite multi phases elle est composee de lignes d alimentation automatique dans le batiment lignes dans le batiment et de lignes d alimentation automatique dans le batiment en projet les aliments sont fournis par le groupe bellavol ils sont composes de cereales de produits et sous produits de graines oleagineuses legumineuses et cerealieres de mineraux d acides amines et de vitamines dont a et e les details de l alimentation par phase sont disponibles en annexe tableau exemple de composition type proteines brutes et phosphore volailles stade physiologique teneurs en proteines brutes teneurs totales en phosphore poulet standard demarrage croissance engraissement finition dinde demarrage croissance croissance engraissement finition finition engraissement annexe composition des aliments bellavol les caracteristiques propres a l alimentation nature et composition du nouvel elevage seront similaires a celle de l elevage existant dans le nouveau batiment les animaux seront alimentes par lignes de chaines d alimentation qui permettront une distribution automatique et a volonte iii b stockage et livraison les aliments necessaires a la consommation de l elevage existant sont stockes dans silos de m chacun tonnes et un silo de m tonnes les aliments pour le nouveau batiment seront stockes dans trois nouveaux silos exterieurs de m chacun les livraisons s accroitront avec l augmentation du nombre de silos a remplir passage de a elles passeront d une semi remorque de tonnes tous les jours actuellement a une tous les jours a l avenir iii abreuvement une alimentation en eau potable et fraiche disponible en quantite suffisante propre et facilement accessible aux volailles sans gaspillage est indispensable les animaux de l elevage existant ont acces a l eau via un systeme de pipettes ce systeme sera repris dans le batiment en projet avec acces a lignes de pipettes a relevage electriques pour les poulets et lignes special dindes a relevage manuel les animaux des trois batiments disposeront ainsi de lignes pipettes avec systeme de recuperation a coupelle dont l utilisation evite les gaspillages et l humidification du sol au niveau des zones d abreuvement l estimation de la consommation est fournie dans le tableau ci apres les ratios sont issus des donnees des chambres d agriculture de pays de la loire et bretagne la consommation d eau pour le nettoyage de batiments est estimee tableau estimation de la consommation d eau actuelle et future donnees itavi et institut de l elevage elevage actuel abreuvement categorie nombre en presence simultanee consommation d eau l tete bande ou jour nombre de bandes ou jours par an consommation d eau pour la production m poulets dindes total nettoyage categorie surface de batiment consommation d eau l m bande nombre de bandes par an consommation d eau par an m poulets dindes total consommation actuelle batiment en projet abreuvement categorie nombre en presence simultanee consommation d eau par bande l tete bande nombre de bandes par an consommation d eau pour la production m poulets dindes total nettoyage categorie surface de batiment consommation d eau l m bande nombre de bandes par an consommation d eau par an m poulets dindes total consommation liee au projet consommation totale projetee un releve des consommations d eau est fourni en annexe reprenant les consommations d eau sur les deux derniers semestres de ces factures font etat d un volume consomme sur l elevage existant de m annexe factures de consommation d eau environ m par an seront donc necessaires a l elevage des animaux du nouveau batiment portant le besoin total en eau pour l elevage a m cette consommation represente un prelevement journalier moyen de m le site d elevage est raccorde au reseau public d alimentation en eau potable gere par le syndicat du val de loire svl iv consommation electrique gaz et fioul de l elevage iv l chiffres globaux la consommation d energie electrique sera proportionnelle au nombre d animaux sur le site mais dans une moindre mesure grace aux plus faibles consommations en energie du nouveau batiment ainsi la consommation d energie electrique utilisee pour la ventilation et le pompage est directement liee au nombre d animaux presents dans les elevages avicoles le chauffage est le poste le plus consommateur d energie a lui seul il peut representer jusqu a de la depense energetique totale itavi la ventilation et l eclairage sont les postes les plus consommateurs en energie electrique avec respectivement a de la consommation dediee l eclairage et a dedie a la ventilation selon les elevages a noter que la consommation d un elevage a l autre peut varier enormement allant de kwh m an jusqu a kwh m an la consommation moyenne de fioul est estimee a l m an soit kwh m an elevage comprenant tracteur et groupe electrogene iv travaux realises sur la scea les grandes versennes afin de mieux maitriser les consommations de l elevage dans le cadre du plan de performance energetique ppe en l exploitant a modernise ses installations existantes afin de les rendre plus economes en consommation notamment l isolation des poulaillers existants a ete refaite et l alimentation et la ventilation se sont modernisees batiment isolation des combles par cm de laine de roche refection des pignons et pose de nouveaux portails isoles pose de trappes kan air mieux isoles et plus precises que l ancien volet pour une meilleure gestion de la ventilation changement avec un boitier de regulation de la ventilation derniere generation tuffigo avitouch pose d une regulation progressive de gaz pose d une sonde hygrometrique exterieure pour meilleure regulation ambiance interieure batiment changement pour un boitier de regulation de la ventilation derniere generation tuffigo avitouch fourniture de rideaux thermiques systel isolation couches a la place des anciens rideaux faiblement isolants pose d une centrale meteo pour une meilleure regulation de l ambiance lors de la phase de ventilation statique a ces amenagements d autres sont venus se greffer en batiment passage en eclairage led pose d un canon a gaz moins consommateur que les radians existants pose de la derniere generation d alarme tuffigo vigebox sur les batiments avec gestion de toutes les commandes a distance changement des lignes d alimentation et utilisation d assiettes anti gaspillage leroy batiment passage eclairage led changement des lignes d alimentation avec assiettes anti gaspillage leroy les nombreux investissements passes ces dernieres annees ont donc permis a l exploitation de moderniser les poulaillers existants afin de pouvoir suivre maitriser et limiter les diverses consommations de l elevage en energie v conduite de l elevage ovin v l gestion de troupeau l atelier d elevage ovin est compose d une bergerie batiment et d un atelier d engraissement des agneaux batiment de m le cheptel est constitue de brebis et agnelles avec un taux de reproduction de agnelage par an une production annuelle de agnelles pour le renouvellement et l engraissement de agneaux les animaux sont en batiment sur une periode de a mois environ suivant leur age et les conditions climatiques et le reste de l annee dans les paturages de l exploitation les logements sont de type litiere accumulee l ensemble de la production d agneau est elevee suivant les cahiers des charges du label rouge le diamandin et de l igp poitou charentes deux appellations garantissant une viande de qualite v la production d agneau sous label v a l agneau fermier label rouge le diamandin l agneau fermier label rouge le diamandin est un agneau eleve sous la mere pendant un minimum de jours pendant cette periode il est nourri au lait maternel ensuite selon la saison et les disponibilites en herbe il est mis a l herbe et ou nourri aux foins et complements a base de cereales chaque elevage doit produire son alimentation fourragere et concentree pour couvrir au minimum des besoins du troupeau ovin dans tous les cas l alimentation est garantie vegetaux mineraux vitamines sans ogm seules les meilleures carcasses sont selectionnees en fonction de leur conformation e u r et de leur etat d engraissement v b l agneau igp du poitou charentes seules sept races a viande et leurs croisements font partie du cahier des charges vendeen charollais rouge de l ouest texel suffolk charmoise et ile de france le mode d elevage du troupeau est caracteristique de la region les brebis paturent sept mois minimums par an l agneau est obligatoirement ne et eleve dans un meme elevage situe en poitou charentes ou dans ses cantons limitrophes l elevage se nourrit d herbe et de fourrages produits exclusivement dans la zone igp et d aliments complementaires references sans ogm v alimentation et abreuvement l alimentation est composee essentiellement de foin de patures et de concentre cereales produites sur l exploitation l eau est disponible dans des abreuvoirs a niveau constant repartis dans le batiment elle provient du reseau public d adduction en eau potable syndicat val de loire v i les productions vegetales de la scea les grandes versennes v i assolement la ferme dispose d un assolement majoritairement prairial ainsi sa surface agricole utile sau qui represente un total de hectares est composee pour plus de moitie de prairies paturees la totalite de la production cerealiere et fourragere est intra consommee au sein de l atelier ovin notamment afin de se conformer aux cahiers des charges de la production sous label les cereales sont utilisees comme complements et les cultures fourrageres sont paturees et fauchees pour servir pour l hiver le tableau ci dessous detaille l assolement de l exploitation sur la campagne cet assolement est figure dans la carte qui suit culture surface totale ha rendement qx ha ou tms ha triticale orge d hiver prairies permanentes paturees prairies temporaires prairies rotation longue luzerne sainfoin surface non exploitee stockage enrubannage total sau tableau assolement de la scea les grandes versennes sur la campagne v i'"
      ]
     },
     "execution_count": 64,
     "metadata": {},
     "output_type": "execute_result"
    }
   ],
   "source": [
    "# All DF ( except abnormally tiny sections)\n",
    "df['section_clean_1'].sample(30).values[0]"
   ]
  },
  {
   "cell_type": "code",
   "execution_count": null,
   "id": "3b7e3ffb",
   "metadata": {},
   "outputs": [],
   "source": []
  },
  {
   "cell_type": "code",
   "execution_count": 79,
   "id": "948f22dc",
   "metadata": {},
   "outputs": [
    {
     "data": {
      "text/plain": [
       "'identification des principales sources d emissions atmospheriques registre des emissions polluantes selon les donnees du registre francais des emissions polluantes irep seule la societe psa peugeot citro n centre technique de la garenne colombes est recensee a proximite du site mais ses derniers rejets atmospheriques declares datent de reseaux de transports le reseau routier est le principal point d etude de la partie air du projet le projet est situe en bordure du boulevard national rd dont le trafic atteint pratiquement vehicules quotidiennement le transport routier apparait comme le secteur preponderant dans les emissions franciliennes d oxydes d azote et comme la deuxieme source d emission de particules fines pm derriere le secteur residentiel tertiaire ce secteur qui comprend notamment le chauffage est quant a lui le premier emetteur de particules fines pm et d hydrocarbures dans la region ainsi que la deuxieme source d oxydes d azote sur le territoire de la commune de la garenne colombes le trafic routier constitue a la fois le principal emetteur d oxydes d azote et une importante source de particules'"
      ]
     },
     "execution_count": 79,
     "metadata": {},
     "output_type": "execute_result"
    }
   ],
   "source": [
    "# Target sections\n",
    "df[df['section_clean_wc'].between(100,1000)]['section_clean_1'].sample(30).values[0]"
   ]
  },
  {
   "cell_type": "markdown",
   "id": "1d04400f",
   "metadata": {},
   "source": [
    "###### Study Level Statistics"
   ]
  },
  {
   "cell_type": "code",
   "execution_count": 86,
   "id": "a6b62d40",
   "metadata": {},
   "outputs": [
    {
     "data": {
      "text/plain": [
       "103"
      ]
     },
     "execution_count": 86,
     "metadata": {},
     "output_type": "execute_result"
    }
   ],
   "source": [
    "\n",
    "df['num_etude'].nunique()"
   ]
  },
  {
   "cell_type": "markdown",
   "id": "1c62d3f3",
   "metadata": {},
   "source": [
    "103 studies in total"
   ]
  },
  {
   "cell_type": "code",
   "execution_count": 90,
   "id": "b2d5b43d",
   "metadata": {},
   "outputs": [
    {
     "data": {
      "text/html": [
       "<div>\n",
       "<style scoped>\n",
       "    .dataframe tbody tr th:only-of-type {\n",
       "        vertical-align: middle;\n",
       "    }\n",
       "\n",
       "    .dataframe tbody tr th {\n",
       "        vertical-align: top;\n",
       "    }\n",
       "\n",
       "    .dataframe thead th {\n",
       "        text-align: right;\n",
       "    }\n",
       "</style>\n",
       "<table border=\"1\" class=\"dataframe\">\n",
       "  <thead>\n",
       "    <tr style=\"text-align: right;\">\n",
       "      <th></th>\n",
       "      <th># of detected sections</th>\n",
       "    </tr>\n",
       "    <tr>\n",
       "      <th>num_etude</th>\n",
       "      <th></th>\n",
       "    </tr>\n",
       "  </thead>\n",
       "  <tbody>\n",
       "    <tr>\n",
       "      <th>100689</th>\n",
       "      <td>240</td>\n",
       "    </tr>\n",
       "    <tr>\n",
       "      <th>100707</th>\n",
       "      <td>239</td>\n",
       "    </tr>\n",
       "    <tr>\n",
       "      <th>102316</th>\n",
       "      <td>368</td>\n",
       "    </tr>\n",
       "    <tr>\n",
       "      <th>103429</th>\n",
       "      <td>109</td>\n",
       "    </tr>\n",
       "    <tr>\n",
       "      <th>106168</th>\n",
       "      <td>30</td>\n",
       "    </tr>\n",
       "    <tr>\n",
       "      <th>...</th>\n",
       "      <td>...</td>\n",
       "    </tr>\n",
       "    <tr>\n",
       "      <th>2224067</th>\n",
       "      <td>45</td>\n",
       "    </tr>\n",
       "    <tr>\n",
       "      <th>2272599</th>\n",
       "      <td>70</td>\n",
       "    </tr>\n",
       "    <tr>\n",
       "      <th>2297011</th>\n",
       "      <td>377</td>\n",
       "    </tr>\n",
       "    <tr>\n",
       "      <th>2320930</th>\n",
       "      <td>41</td>\n",
       "    </tr>\n",
       "    <tr>\n",
       "      <th>2381564</th>\n",
       "      <td>290</td>\n",
       "    </tr>\n",
       "  </tbody>\n",
       "</table>\n",
       "<p>103 rows × 1 columns</p>\n",
       "</div>"
      ],
      "text/plain": [
       "           # of detected sections\n",
       "num_etude                        \n",
       "100689                        240\n",
       "100707                        239\n",
       "102316                        368\n",
       "103429                        109\n",
       "106168                         30\n",
       "...                           ...\n",
       "2224067                        45\n",
       "2272599                        70\n",
       "2297011                       377\n",
       "2320930                        41\n",
       "2381564                       290\n",
       "\n",
       "[103 rows x 1 columns]"
      ]
     },
     "execution_count": 90,
     "metadata": {},
     "output_type": "execute_result"
    }
   ],
   "source": [
    "num_detected_sections = pd.DataFrame(df.groupby('num_etude').apply(lambda x: len(x)),columns=['# of detected sections'])\n",
    "num_detected_sections"
   ]
  },
  {
   "cell_type": "code",
   "execution_count": 93,
   "id": "c725dda0",
   "metadata": {},
   "outputs": [
    {
     "data": {
      "text/plain": [
       "<seaborn.axisgrid.FacetGrid at 0x22724ae4c40>"
      ]
     },
     "execution_count": 93,
     "metadata": {},
     "output_type": "execute_result"
    },
    {
     "data": {
      "image/png": "[encoded data removed]",
      "text/plain": [
       "<Figure size 360x360 with 1 Axes>"
      ]
     },
     "metadata": {
      "needs_background": "light"
     },
     "output_type": "display_data"
    }
   ],
   "source": [
    "sns.displot(num_detected_sections['# of detected sections'],log_scale=True)"
   ]
  },
  {
   "cell_type": "code",
   "execution_count": 96,
   "id": "0b5f2e81",
   "metadata": {},
   "outputs": [
    {
     "data": {
      "text/plain": [
       "109.89320388349515"
      ]
     },
     "execution_count": 96,
     "metadata": {},
     "output_type": "execute_result"
    }
   ],
   "source": [
    "num_detected_sections['# of detected sections'].sum()/len(num_detected_sections)"
   ]
  },
  {
   "cell_type": "markdown",
   "id": "e8821f5f",
   "metadata": {},
   "source": [
    "110 sections detected in average"
   ]
  },
  {
   "cell_type": "code",
   "execution_count": 101,
   "id": "9b702650",
   "metadata": {},
   "outputs": [
    {
     "data": {
      "text/plain": [
       "True"
      ]
     },
     "execution_count": 101,
     "metadata": {},
     "output_type": "execute_result"
    }
   ],
   "source": [
    "999 in range(100,1001)"
   ]
  },
  {
   "cell_type": "code",
   "execution_count": 106,
   "id": "2a9d1aaf",
   "metadata": {},
   "outputs": [],
   "source": [
    "def acceptable_sections_count(x):\n",
    "    \n",
    "    return sum([1 if wc in range(100,1001) else 0 for wc in x['section_clean_wc']])\n",
    "  \n",
    "                                  \n",
    "    "
   ]
  },
  {
   "cell_type": "code",
   "execution_count": 107,
   "id": "84d79929",
   "metadata": {},
   "outputs": [
    {
     "data": {
      "text/html": [
       "<div>\n",
       "<style scoped>\n",
       "    .dataframe tbody tr th:only-of-type {\n",
       "        vertical-align: middle;\n",
       "    }\n",
       "\n",
       "    .dataframe tbody tr th {\n",
       "        vertical-align: top;\n",
       "    }\n",
       "\n",
       "    .dataframe thead th {\n",
       "        text-align: right;\n",
       "    }\n",
       "</style>\n",
       "<table border=\"1\" class=\"dataframe\">\n",
       "  <thead>\n",
       "    <tr style=\"text-align: right;\">\n",
       "      <th></th>\n",
       "      <th># of acceptable sections</th>\n",
       "    </tr>\n",
       "    <tr>\n",
       "      <th>num_etude</th>\n",
       "      <th></th>\n",
       "    </tr>\n",
       "  </thead>\n",
       "  <tbody>\n",
       "    <tr>\n",
       "      <th>100689</th>\n",
       "      <td>128</td>\n",
       "    </tr>\n",
       "    <tr>\n",
       "      <th>100707</th>\n",
       "      <td>135</td>\n",
       "    </tr>\n",
       "    <tr>\n",
       "      <th>102316</th>\n",
       "      <td>156</td>\n",
       "    </tr>\n",
       "    <tr>\n",
       "      <th>103429</th>\n",
       "      <td>27</td>\n",
       "    </tr>\n",
       "    <tr>\n",
       "      <th>106168</th>\n",
       "      <td>14</td>\n",
       "    </tr>\n",
       "    <tr>\n",
       "      <th>...</th>\n",
       "      <td>...</td>\n",
       "    </tr>\n",
       "    <tr>\n",
       "      <th>2224067</th>\n",
       "      <td>18</td>\n",
       "    </tr>\n",
       "    <tr>\n",
       "      <th>2272599</th>\n",
       "      <td>6</td>\n",
       "    </tr>\n",
       "    <tr>\n",
       "      <th>2297011</th>\n",
       "      <td>197</td>\n",
       "    </tr>\n",
       "    <tr>\n",
       "      <th>2320930</th>\n",
       "      <td>11</td>\n",
       "    </tr>\n",
       "    <tr>\n",
       "      <th>2381564</th>\n",
       "      <td>158</td>\n",
       "    </tr>\n",
       "  </tbody>\n",
       "</table>\n",
       "<p>103 rows × 1 columns</p>\n",
       "</div>"
      ],
      "text/plain": [
       "           # of acceptable sections\n",
       "num_etude                          \n",
       "100689                          128\n",
       "100707                          135\n",
       "102316                          156\n",
       "103429                           27\n",
       "106168                           14\n",
       "...                             ...\n",
       "2224067                          18\n",
       "2272599                           6\n",
       "2297011                         197\n",
       "2320930                          11\n",
       "2381564                         158\n",
       "\n",
       "[103 rows x 1 columns]"
      ]
     },
     "execution_count": 107,
     "metadata": {},
     "output_type": "execute_result"
    }
   ],
   "source": [
    "ok_sections = pd.DataFrame(df.groupby('num_etude').apply(acceptable_sections_count),columns=['# of acceptable sections'])\n",
    "ok_sections"
   ]
  },
  {
   "cell_type": "code",
   "execution_count": 113,
   "id": "0b46f917",
   "metadata": {},
   "outputs": [
    {
     "data": {
      "text/html": [
       "<div>\n",
       "<style scoped>\n",
       "    .dataframe tbody tr th:only-of-type {\n",
       "        vertical-align: middle;\n",
       "    }\n",
       "\n",
       "    .dataframe tbody tr th {\n",
       "        vertical-align: top;\n",
       "    }\n",
       "\n",
       "    .dataframe thead th {\n",
       "        text-align: right;\n",
       "    }\n",
       "</style>\n",
       "<table border=\"1\" class=\"dataframe\">\n",
       "  <thead>\n",
       "    <tr style=\"text-align: right;\">\n",
       "      <th></th>\n",
       "      <th># of detected sections</th>\n",
       "      <th># of acceptable sections</th>\n",
       "      <th>% of acceptable sections</th>\n",
       "    </tr>\n",
       "    <tr>\n",
       "      <th>num_etude</th>\n",
       "      <th></th>\n",
       "      <th></th>\n",
       "      <th></th>\n",
       "    </tr>\n",
       "  </thead>\n",
       "  <tbody>\n",
       "    <tr>\n",
       "      <th>100689</th>\n",
       "      <td>240</td>\n",
       "      <td>128</td>\n",
       "      <td>53.333333</td>\n",
       "    </tr>\n",
       "    <tr>\n",
       "      <th>100707</th>\n",
       "      <td>239</td>\n",
       "      <td>135</td>\n",
       "      <td>56.485356</td>\n",
       "    </tr>\n",
       "    <tr>\n",
       "      <th>102316</th>\n",
       "      <td>368</td>\n",
       "      <td>156</td>\n",
       "      <td>42.391304</td>\n",
       "    </tr>\n",
       "    <tr>\n",
       "      <th>103429</th>\n",
       "      <td>109</td>\n",
       "      <td>27</td>\n",
       "      <td>24.770642</td>\n",
       "    </tr>\n",
       "    <tr>\n",
       "      <th>106168</th>\n",
       "      <td>30</td>\n",
       "      <td>14</td>\n",
       "      <td>46.666667</td>\n",
       "    </tr>\n",
       "    <tr>\n",
       "      <th>...</th>\n",
       "      <td>...</td>\n",
       "      <td>...</td>\n",
       "      <td>...</td>\n",
       "    </tr>\n",
       "    <tr>\n",
       "      <th>2224067</th>\n",
       "      <td>45</td>\n",
       "      <td>18</td>\n",
       "      <td>40.000000</td>\n",
       "    </tr>\n",
       "    <tr>\n",
       "      <th>2272599</th>\n",
       "      <td>70</td>\n",
       "      <td>6</td>\n",
       "      <td>8.571429</td>\n",
       "    </tr>\n",
       "    <tr>\n",
       "      <th>2297011</th>\n",
       "      <td>377</td>\n",
       "      <td>197</td>\n",
       "      <td>52.254642</td>\n",
       "    </tr>\n",
       "    <tr>\n",
       "      <th>2320930</th>\n",
       "      <td>41</td>\n",
       "      <td>11</td>\n",
       "      <td>26.829268</td>\n",
       "    </tr>\n",
       "    <tr>\n",
       "      <th>2381564</th>\n",
       "      <td>290</td>\n",
       "      <td>158</td>\n",
       "      <td>54.482759</td>\n",
       "    </tr>\n",
       "  </tbody>\n",
       "</table>\n",
       "<p>103 rows × 3 columns</p>\n",
       "</div>"
      ],
      "text/plain": [
       "           # of detected sections  # of acceptable sections  \\\n",
       "num_etude                                                     \n",
       "100689                        240                       128   \n",
       "100707                        239                       135   \n",
       "102316                        368                       156   \n",
       "103429                        109                        27   \n",
       "106168                         30                        14   \n",
       "...                           ...                       ...   \n",
       "2224067                        45                        18   \n",
       "2272599                        70                         6   \n",
       "2297011                       377                       197   \n",
       "2320930                        41                        11   \n",
       "2381564                       290                       158   \n",
       "\n",
       "           % of acceptable sections  \n",
       "num_etude                            \n",
       "100689                    53.333333  \n",
       "100707                    56.485356  \n",
       "102316                    42.391304  \n",
       "103429                    24.770642  \n",
       "106168                    46.666667  \n",
       "...                             ...  \n",
       "2224067                   40.000000  \n",
       "2272599                    8.571429  \n",
       "2297011                   52.254642  \n",
       "2320930                   26.829268  \n",
       "2381564                   54.482759  \n",
       "\n",
       "[103 rows x 3 columns]"
      ]
     },
     "execution_count": 113,
     "metadata": {},
     "output_type": "execute_result"
    }
   ],
   "source": [
    "study_analysis = pd.concat(axis=1,objs=[num_detected_sections,ok_sections])\n",
    "study_analysis['% of acceptable sections'] = study_analysis['# of acceptable sections']/study_analysis['# of detected sections'] * 100\n",
    "study_analysis"
   ]
  },
  {
   "cell_type": "code",
   "execution_count": 114,
   "id": "a292b1bf",
   "metadata": {},
   "outputs": [
    {
     "data": {
      "text/plain": [
       "<seaborn.axisgrid.FacetGrid at 0x22755959a30>"
      ]
     },
     "execution_count": 114,
     "metadata": {},
     "output_type": "execute_result"
    },
    {
     "data": {
      "image/png": "[encoded data removed]",
      "text/plain": [
       "<Figure size 360x360 with 1 Axes>"
      ]
     },
     "metadata": {
      "needs_background": "light"
     },
     "output_type": "display_data"
    }
   ],
   "source": [
    "sns.displot(study_analysis['% of acceptable sections'])"
   ]
  },
  {
   "cell_type": "code",
   "execution_count": 117,
   "id": "caf344dc",
   "metadata": {},
   "outputs": [
    {
     "data": {
      "text/plain": [
       "26"
      ]
     },
     "execution_count": 117,
     "metadata": {},
     "output_type": "execute_result"
    }
   ],
   "source": [
    "len(study_analysis[study_analysis['% of acceptable sections'] >= 50])"
   ]
  },
  {
   "cell_type": "markdown",
   "id": "7d680c20",
   "metadata": {},
   "source": [
    "26 studies out of 103 have more than half of their detected sections as \"acceptable\"\n",
    "\n",
    "(The 100% acceptable sections study is an artefact, only 2 sections are detected)"
   ]
  },
  {
   "cell_type": "code",
   "execution_count": 118,
   "id": "a2e0d4ac",
   "metadata": {},
   "outputs": [
    {
     "data": {
      "text/plain": [
       "77"
      ]
     },
     "execution_count": 118,
     "metadata": {},
     "output_type": "execute_result"
    }
   ],
   "source": [
    "len(study_analysis[study_analysis['% of acceptable sections'] < 50])"
   ]
  },
  {
   "cell_type": "markdown",
   "id": "b4e06b0b",
   "metadata": {},
   "source": [
    "77 studies out of 103 have less than half of their detected sections as \"acceptable\""
   ]
  },
  {
   "cell_type": "code",
   "execution_count": 77,
   "id": "c051bb2a",
   "metadata": {},
   "outputs": [
    {
     "data": {
      "text/plain": [
       "['cleaned_working_basis_sections.joblib']"
      ]
     },
     "execution_count": 77,
     "metadata": {},
     "output_type": "execute_result"
    }
   ],
   "source": [
    "joblib.dump(df,filename = 'cleaned_working_basis_sections.joblib')"
   ]
  },
  {
   "cell_type": "code",
   "execution_count": 55,
   "id": "56d5bd39",
   "metadata": {},
   "outputs": [],
   "source": [
    "df_undersample = df[df['section_clean_wc']<10000]"
   ]
  },
  {
   "cell_type": "code",
   "execution_count": null,
   "id": "3d15be2d",
   "metadata": {},
   "outputs": [],
   "source": []
  },
  {
   "cell_type": "code",
   "execution_count": 50,
   "id": "d2d1405e",
   "metadata": {},
   "outputs": [],
   "source": [
    "import tqdm"
   ]
  },
  {
   "cell_type": "code",
   "execution_count": null,
   "id": "7e45d427",
   "metadata": {},
   "outputs": [],
   "source": []
  },
  {
   "cell_type": "code",
   "execution_count": 57,
   "id": "e8d339a7",
   "metadata": {},
   "outputs": [
    {
     "name": "stderr",
     "output_type": "stream",
     "text": [
      "100%|█████████████████████████████████████████████████████████████████████████████| 9277/9277 [00:11<00:00, 835.49it/s]\n"
     ]
    }
   ],
   "source": [
    "for i in tqdm.tqdm(range(len(df_undersample))):\n",
    "    \n",
    "    txt = open('corpus/section{}.txt'.format(i),'w')\n",
    "    txt.write(df_undersample['section_clean_1'].values[i])\n",
    "    txt.close()"
   ]
  },
  {
   "cell_type": "code",
   "execution_count": null,
   "id": "05234291",
   "metadata": {},
   "outputs": [],
   "source": []
  }
 ],
 "metadata": {
  "kernelspec": {
   "display_name": "Python 3",
   "language": "python",
   "name": "python3"
  },
  "language_info": {
   "codemirror_mode": {
    "name": "ipython",
    "version": 3
   },
   "file_extension": ".py",
   "mimetype": "text/x-python",
   "name": "python",
   "nbconvert_exporter": "python",
   "pygments_lexer": "ipython3",
   "version": "3.8.8"
  }
 },
 "nbformat": 4,
 "nbformat_minor": 5
}
