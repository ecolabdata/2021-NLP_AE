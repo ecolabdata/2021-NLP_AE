{
 "cells": [
  {
   "cell_type": "code",
   "execution_count": 1,
   "id": "418492c0",
   "metadata": {},
   "outputs": [],
   "source": [
    "from keyBoost_lib.models.keybert import keybert_extraction"
   ]
  },
  {
   "cell_type": "code",
   "execution_count": 2,
   "id": "2056e6fe",
   "metadata": {},
   "outputs": [],
   "source": [
    "doc = \"\"\"\n",
    "         Supervised learning is the machine learning task of learning a function that\n",
    "         maps an input to an output based on example input-output pairs.[1] It infers a\n",
    "         function from labeled training data consisting of a set of training examples.[2]\n",
    "         In supervised learning, each example is a pair consisting of an input object\n",
    "         (typically a vector) and a desired output value (also called the supervisory signal). \n",
    "         A supervised learning algorithm analyzes the training data and produces an inferred function, \n",
    "         which can be used for mapping new examples. An optimal scenario will allow for the \n",
    "         algorithm to correctly determine the class labels for unseen instances. This requires \n",
    "         the learning algorithm to generalize from the training data to unseen situations in a \n",
    "         'reasonable' way (see inductive bias).\n",
    "      \"\"\""
   ]
  },
  {
   "cell_type": "code",
   "execution_count": 3,
   "id": "269d6dce",
   "metadata": {},
   "outputs": [],
   "source": [
    "kb = keybert_extraction(text=doc,\n",
    "                  keyphrases_ngram_max=2,\n",
    "                  n_top=100)"
   ]
  },
  {
   "cell_type": "code",
   "execution_count": 4,
   "id": "31d2c791",
   "metadata": {},
   "outputs": [],
   "source": [
    "from keyBoost_lib.models.yake import yake_extraction"
   ]
  },
  {
   "cell_type": "code",
   "execution_count": 5,
   "id": "8fc23f7e",
   "metadata": {},
   "outputs": [],
   "source": [
    "yk = yake_extraction(text=doc,\n",
    "               language='en',\n",
    "               keyphrases_ngram_max=2,\n",
    "               n_top=100)"
   ]
  },
  {
   "cell_type": "markdown",
   "id": "2a923bfb",
   "metadata": {},
   "source": [
    "## Statistical Consensus"
   ]
  },
  {
   "cell_type": "code",
   "execution_count": 6,
   "id": "49859f49",
   "metadata": {},
   "outputs": [],
   "source": [
    "import warnings\n",
    "import numpy as np\n",
    "import pandas as pd\n",
    "import scipy.stats as st\n",
    "import statsmodels.api as sm\n",
    "import matplotlib\n",
    "import matplotlib.pyplot as plt\n",
    "import seaborn as sns\n",
    "\n",
    "\n",
    "matplotlib.rcParams['figure.figsize'] = (16.0, 12.0)\n",
    "matplotlib.style.use('ggplot')"
   ]
  },
  {
   "cell_type": "code",
   "execution_count": 7,
   "id": "eeae2f3a",
   "metadata": {},
   "outputs": [],
   "source": [
    "def freedman_diaconis_rule(data):\n",
    "    a = np.array(data)\n",
    "    if len(data) <2:\n",
    "        return 1\n",
    "    h = 2*(np.percentile(data,75)-np.percentile(data,25))*len(data)**(-1/3)\n",
    "\n",
    "    if h==0:\n",
    "        return len(data)\n",
    "    else:\n",
    "        return int(np.ceil((max(data)-min(data))/h))"
   ]
  },
  {
   "cell_type": "code",
   "execution_count": 8,
   "id": "04c83099",
   "metadata": {},
   "outputs": [],
   "source": [
    "def DSM_selection(data,\n",
    "                 distributions,\n",
    "                 bins):\n",
    "    \n",
    "    y, x = np.histogram(a=data,\n",
    "                       bins=bins,\n",
    "                       density=True)\n",
    "    x = (x + np.roll(x,-1))[:-1] / 2.0\n",
    "    \n",
    "    # By default, we suppose that the data fits a gaussian model\n",
    "    \n",
    "    best_distribution = st.norm\n",
    "    best_arg,best_loc,best_scale = (None, 0.0, 1.0)\n",
    "    best_sse = np.inf\n",
    "    \n",
    "    for distribution in distributions:\n",
    "            \n",
    "        arg, loc, scale = maximum_likelyhood_estimation(data,distribution)\n",
    "\n",
    "        pdf = distribution.pdf(x, loc=loc, scale=scale, *arg)\n",
    "        sse = np.sum(np.power(y-pdf,2.0))\n",
    "\n",
    "        if best_sse > sse:\n",
    "            best_distribution = distribution\n",
    "            best_arg = arg\n",
    "            best_loc = loc\n",
    "            best_scale = scale\n",
    "            best_sse = sse\n",
    "       \n",
    "        \n",
    "    return best_distribution, best_arg, best_loc, best_scale\n",
    "        \n",
    "        \n",
    "        "
   ]
  },
  {
   "cell_type": "code",
   "execution_count": 109,
   "id": "6112d94f",
   "metadata": {},
   "outputs": [],
   "source": [
    "def maximum_likelyhood_estimation(data,\n",
    "                                  distribution):\n",
    "    \n",
    "    params = distribution.fit(data)\n",
    "    \n",
    "    arg = params[:-2] # distribution parameter vector\n",
    "    loc = params[-2] # location parameter\n",
    "    scale = params[-1] # scale parameter \n",
    "    \n",
    "    return arg, loc, scale"
   ]
  },
  {
   "cell_type": "code",
   "execution_count": 101,
   "id": "43a3202f",
   "metadata": {},
   "outputs": [],
   "source": [
    "def pack_params(arg,loc,scale):\n",
    "    params = list()\n",
    "    a = [arg,loc,scale]\n",
    "    for x in a:\n",
    "        if type(x)!=tuple:\n",
    "            params.append(x)\n",
    "        else:\n",
    "            for t in x:\n",
    "                params.append(t)\n",
    "    return tuple(params)"
   ]
  },
  {
   "cell_type": "code",
   "execution_count": 108,
   "id": "77ec5851",
   "metadata": {},
   "outputs": [],
   "source": [
    "def kolmogorov_smirnov_test(distribution,\n",
    "                           data,\n",
    "                           arg,\n",
    "                           loc,\n",
    "                           scale,alpha):\n",
    "    \n",
    "    args = pack_params(arg,loc,scale)\n",
    "    \n",
    "    _, p_value = st.kstest(rvs=data,\n",
    "                          cdf=distribution.name,\n",
    "                          args=args,\n",
    "                          alternative='two-sided')\n",
    "    \n",
    "    \n",
    "    return True if p_value >= alpha else False # Pass the test if we do not reject H0 : the score distribution is discriminative\n"
   ]
  },
  {
   "cell_type": "code",
   "execution_count": 77,
   "id": "93be9eaf",
   "metadata": {},
   "outputs": [],
   "source": [
    "def DSM_params_check(distribution,\n",
    "                     arg):\n",
    "    \n",
    "    if distribution == st.powerlaw:\n",
    "        \n",
    "        return True if 0<arg[0]<1 else False\n",
    "    \n",
    "    elif distribution == st.gamma:\n",
    "        \n",
    "        return True if 0<arg[0]<15 else False\n",
    "    \n",
    "    elif distribution == st.pareto:\n",
    "        \n",
    "        return True\n",
    "    \n",
    "    elif distribution == st.powerlognorm:\n",
    "        \n",
    "        return True if 0<arg[1]<1 else False"
   ]
  },
  {
   "cell_type": "markdown",
   "id": "dc86e7a5",
   "metadata": {},
   "source": [
    "#### Statistical Consensus Workflow"
   ]
  },
  {
   "cell_type": "markdown",
   "id": "36c23291",
   "metadata": {},
   "source": [
    "\n",
    "BINS with FD Rule => DSM ( using MLE) => DSM params Check ( if not OK -> RB consensus) => Kolmogorov Test ( if not OK -> RB consensus) => Consolidation ( extract Rank) => Deduplication => top n"
   ]
  },
  {
   "cell_type": "code",
   "execution_count": 9,
   "id": "e857cf66",
   "metadata": {},
   "outputs": [],
   "source": [
    "from warnings import filterwarnings\n",
    "filterwarnings('ignore')"
   ]
  },
  {
   "cell_type": "code",
   "execution_count": 10,
   "id": "f2b588aa",
   "metadata": {},
   "outputs": [],
   "source": [
    "discriminative_statistical_models = [st.powerlaw,st.gamma,st.pareto,st.powerlognorm]"
   ]
  },
  {
   "cell_type": "code",
   "execution_count": 11,
   "id": "1a51b241",
   "metadata": {},
   "outputs": [],
   "source": [
    "optimal_bins = freedman_diaconis_rule(data=yk['Score'])"
   ]
  },
  {
   "cell_type": "code",
   "execution_count": 12,
   "id": "ae4f7285",
   "metadata": {},
   "outputs": [
    {
     "ename": "NameError",
     "evalue": "name 'maximum_likelyhood_estimation' is not defined",
     "output_type": "error",
     "traceback": [
      "\u001b[1;31m---------------------------------------------------------------------------\u001b[0m",
      "\u001b[1;31mNameError\u001b[0m                                 Traceback (most recent call last)",
      "\u001b[1;32m<ipython-input-12-7145f0f258ad>\u001b[0m in \u001b[0;36m<module>\u001b[1;34m\u001b[0m\n\u001b[1;32m----> 1\u001b[1;33m best_distribution, best_arg, best_loc, best_scale = DSM_selection(data=yk['Score'],\n\u001b[0m\u001b[0;32m      2\u001b[0m                                   \u001b[0mdistributions\u001b[0m\u001b[1;33m=\u001b[0m\u001b[0mdiscriminative_statistical_models\u001b[0m\u001b[1;33m,\u001b[0m\u001b[1;33m\u001b[0m\u001b[1;33m\u001b[0m\u001b[0m\n\u001b[0;32m      3\u001b[0m                                   bins=optimal_bins)\n",
      "\u001b[1;32m<ipython-input-8-e9250be58dbe>\u001b[0m in \u001b[0;36mDSM_selection\u001b[1;34m(data, distributions, bins)\u001b[0m\n\u001b[0;32m     16\u001b[0m     \u001b[1;32mfor\u001b[0m \u001b[0mdistribution\u001b[0m \u001b[1;32min\u001b[0m \u001b[0mdistributions\u001b[0m\u001b[1;33m:\u001b[0m\u001b[1;33m\u001b[0m\u001b[1;33m\u001b[0m\u001b[0m\n\u001b[0;32m     17\u001b[0m \u001b[1;33m\u001b[0m\u001b[0m\n\u001b[1;32m---> 18\u001b[1;33m         \u001b[0marg\u001b[0m\u001b[1;33m,\u001b[0m \u001b[0mloc\u001b[0m\u001b[1;33m,\u001b[0m \u001b[0mscale\u001b[0m \u001b[1;33m=\u001b[0m \u001b[0mmaximum_likelyhood_estimation\u001b[0m\u001b[1;33m(\u001b[0m\u001b[0mdata\u001b[0m\u001b[1;33m,\u001b[0m\u001b[0mdistribution\u001b[0m\u001b[1;33m)\u001b[0m\u001b[1;33m\u001b[0m\u001b[1;33m\u001b[0m\u001b[0m\n\u001b[0m\u001b[0;32m     19\u001b[0m \u001b[1;33m\u001b[0m\u001b[0m\n\u001b[0;32m     20\u001b[0m         \u001b[0mpdf\u001b[0m \u001b[1;33m=\u001b[0m \u001b[0mdistribution\u001b[0m\u001b[1;33m.\u001b[0m\u001b[0mpdf\u001b[0m\u001b[1;33m(\u001b[0m\u001b[0mx\u001b[0m\u001b[1;33m,\u001b[0m \u001b[0mloc\u001b[0m\u001b[1;33m=\u001b[0m\u001b[0mloc\u001b[0m\u001b[1;33m,\u001b[0m \u001b[0mscale\u001b[0m\u001b[1;33m=\u001b[0m\u001b[0mscale\u001b[0m\u001b[1;33m,\u001b[0m \u001b[1;33m*\u001b[0m\u001b[0marg\u001b[0m\u001b[1;33m)\u001b[0m\u001b[1;33m\u001b[0m\u001b[1;33m\u001b[0m\u001b[0m\n",
      "\u001b[1;31mNameError\u001b[0m: name 'maximum_likelyhood_estimation' is not defined"
     ]
    }
   ],
   "source": [
    "best_distribution, best_arg, best_loc, best_scale = DSM_selection(data=yk['Score'],\n",
    "                                  distributions=discriminative_statistical_models,\n",
    "                                  bins=optimal_bins)"
   ]
  },
  {
   "cell_type": "code",
   "execution_count": null,
   "id": "1fe2f998",
   "metadata": {},
   "outputs": [],
   "source": [
    "DSM_params_check(best_distribution,best_arg)"
   ]
  },
  {
   "cell_type": "code",
   "execution_count": 113,
   "id": "140948f9",
   "metadata": {},
   "outputs": [
    {
     "data": {
      "text/plain": [
       "True"
      ]
     },
     "execution_count": 113,
     "metadata": {},
     "output_type": "execute_result"
    }
   ],
   "source": [
    "kolmogorov_smirnov_test(distribution=best_distribution,\n",
    "                       data=yk['Score'],\n",
    "                       arg=best_arg,\n",
    "                       loc=best_loc,\n",
    "                       scale=best_scale,\n",
    "                       alpha=0.05)"
   ]
  },
  {
   "cell_type": "code",
   "execution_count": 116,
   "id": "3bab2154",
   "metadata": {},
   "outputs": [
    {
     "data": {
      "text/plain": [
       "False"
      ]
     },
     "execution_count": 116,
     "metadata": {},
     "output_type": "execute_result"
    }
   ],
   "source": [
    "np.array([False,True]).all()b"
   ]
  },
  {
   "cell_type": "code",
   "execution_count": 119,
   "id": "00652366",
   "metadata": {},
   "outputs": [],
   "source": [
    "a = np.array(None)"
   ]
  },
  {
   "cell_type": "code",
   "execution_count": 34,
   "id": "a700662a",
   "metadata": {},
   "outputs": [],
   "source": [
    "import seaborn as sns"
   ]
  },
  {
   "cell_type": "code",
   "execution_count": 35,
   "id": "7a74eeaf",
   "metadata": {},
   "outputs": [
    {
     "data": {
      "text/plain": [
       "<seaborn.axisgrid.FacetGrid at 0x1e5263bf3a0>"
      ]
     },
     "execution_count": 35,
     "metadata": {},
     "output_type": "execute_result"
    },
    {
     "data": {
      "image/png": "[encoded data removed]",
      "text/plain": [
       "<Figure size 360x360 with 1 Axes>"
      ]
     },
     "metadata": {},
     "output_type": "display_data"
    }
   ],
   "source": [
    "sns.displot(yk['Score'])"
   ]
  },
  {
   "cell_type": "code",
   "execution_count": 94,
   "id": "9497ef6c",
   "metadata": {},
   "outputs": [
    {
     "data": {
      "text/plain": [
       "[2.777553944546117, -2.317530197125515, 1.5094778258414294]"
      ]
     },
     "execution_count": 94,
     "metadata": {},
     "output_type": "execute_result"
    }
   ],
   "source": [
    "pack_params(best_arg,best_loc,best_scale)"
   ]
  },
  {
   "cell_type": "markdown",
   "id": "72b18428",
   "metadata": {},
   "source": [
    "## Statstical Consensus Pipeline Test"
   ]
  },
  {
   "cell_type": "code",
   "execution_count": 6,
   "id": "9ba1885f",
   "metadata": {},
   "outputs": [],
   "source": [
    "from keyBoost_lib.consensus.statistical import *"
   ]
  },
  {
   "cell_type": "code",
   "execution_count": 7,
   "id": "32c9b635",
   "metadata": {},
   "outputs": [
    {
     "name": "stdout",
     "output_type": "stream",
     "text": [
      "statistical discriminativeness Check\n",
      "DSM Params OK\n",
      "KS OK\n",
      "Proper DSM behind data\n",
      "Consolidation + Rank Extraction\n",
      "Deduplication\n",
      "Done !\n"
     ]
    },
    {
     "data": {
      "text/plain": [
       "[('input-output pairs.', 5.397965638445171),\n",
       " ('Supervised learning', 4.6865891469083705),\n",
       " ('that maps', 4.505158184034257),\n",
       " ('learning algorithm', 4.252988624817484),\n",
       " ('machine learning', 3.7072762617093495),\n",
       " ('training data', 3.4724274413771337),\n",
       " ('algorithm analyzes', 3.3456303271681485),\n",
       " ('learning function', 3.3375216739273146),\n",
       " ('output based', 2.9051799989546683),\n",
       " ('the', 2.8382094734098704),\n",
       " ('the algorithm', 2.795052772115514),\n",
       " ('labeled training', 2.324749392756941),\n",
       " ('learning each', 2.260692523544546),\n",
       " ('signal supervised', 2.1877146443770394)]"
      ]
     },
     "execution_count": 7,
     "metadata": {},
     "output_type": "execute_result"
    }
   ],
   "source": [
    "statistical_consensus(key_extractions=[yk,kb],\n",
    "                     n_top=15)"
   ]
  },
  {
   "cell_type": "markdown",
   "id": "1c59198b",
   "metadata": {},
   "source": [
    "## Ranking Based Consensus Test"
   ]
  },
  {
   "cell_type": "code",
   "execution_count": 8,
   "id": "10388d77",
   "metadata": {},
   "outputs": [],
   "source": [
    "from keyBoost_lib.consensus.ranking import rank_consensus"
   ]
  },
  {
   "cell_type": "code",
   "execution_count": 9,
   "id": "b1c8d2f1",
   "metadata": {},
   "outputs": [
    {
     "data": {
      "text/plain": [
       "['input-output pairs.',\n",
       " 'Supervised learning',\n",
       " 'that maps',\n",
       " 'training data',\n",
       " 'learning',\n",
       " 'learning algorithm',\n",
       " 'machine learning',\n",
       " 'supervised learning',\n",
       " 'algorithm analyzes',\n",
       " 'learning function']"
      ]
     },
     "execution_count": 9,
     "metadata": {},
     "output_type": "execute_result"
    }
   ],
   "source": [
    "rank_consensus(key_extractions=[yk,kb],\n",
    "              n_top=10)"
   ]
  },
  {
   "cell_type": "markdown",
   "id": "8fc595c1",
   "metadata": {},
   "source": [
    "## keyBoost Global Level Test"
   ]
  },
  {
   "cell_type": "code",
   "execution_count": 1,
   "id": "7225e01b",
   "metadata": {},
   "outputs": [],
   "source": [
    "from keyBoost_lib.keyBoost import *"
   ]
  },
  {
   "cell_type": "code",
   "execution_count": 2,
   "id": "0f565f57",
   "metadata": {},
   "outputs": [],
   "source": [
    "doc = \"\"\"\n",
    "         Supervised learning is the machine learning task of learning a function that\n",
    "         maps an input to an output based on example input-output pairs.[1] It infers a\n",
    "         function from labeled training data consisting of a set of training examples.[2]\n",
    "         In supervised learning, each example is a pair consisting of an input object\n",
    "         (typically a vector) and a desired output value (also called the supervisory signal). \n",
    "         A supervised learning algorithm analyzes the training data and produces an inferred function, \n",
    "         which can be used for mapping new examples. An optimal scenario will allow for the \n",
    "         algorithm to correctly determine the class labels for unseen instances. This requires \n",
    "         the learning algorithm to generalize from the training data to unseen situations in a \n",
    "         'reasonable' way (see inductive bias).\n",
    "      \"\"\""
   ]
  },
  {
   "cell_type": "code",
   "execution_count": 3,
   "id": "464e0d51",
   "metadata": {},
   "outputs": [],
   "source": [
    "import spacy\n",
    "\n",
    "nlp = spacy.load('en_core_web_sm')\n",
    "\n",
    "stopwords = nlp.Defaults.stop_words"
   ]
  },
  {
   "cell_type": "code",
   "execution_count": 4,
   "id": "e64b4389",
   "metadata": {},
   "outputs": [],
   "source": [
    "keyboost = KeyBoost(transformers_model='distilbert-base-nli-mean-tokens')"
   ]
  },
  {
   "cell_type": "code",
   "execution_count": 5,
   "id": "8f5ff864",
   "metadata": {},
   "outputs": [
    {
     "name": "stdout",
     "output_type": "stream",
     "text": [
      "*** statistical discriminativeness check **\n",
      "* keyword extraction model 1 *\n",
      "DSM Params OK\n",
      "KS OK\n",
      "Proper DSM behind data\n",
      "* keyword extraction model 2 *\n",
      "DSM Params OK\n",
      "KS OK\n",
      "Proper DSM behind data\n",
      "* keyword extraction model 3 *\n",
      "DSM Params OK\n",
      "KS OK\n",
      "Proper DSM behind data\n",
      "[True, True, True]\n",
      "Consolidation + Rank Extraction\n",
      "Deduplication\n",
      "Done !\n"
     ]
    }
   ],
   "source": [
    "keywords = keyboost.extract_keywords(text=doc,\n",
    "                       language='en',\n",
    "                       n_top=10,\n",
    "                       keyphrases_ngram_max=2,\n",
    "                       stopwords=stopwords,\n",
    "                       consensus='statistical',\n",
    "                       models=['keybert','yake','textrank'])"
   ]
  },
  {
   "cell_type": "code",
   "execution_count": 6,
   "id": "80749874",
   "metadata": {},
   "outputs": [
    {
     "data": {
      "text/plain": [
       "[('input-output pairs.', 5.912582853959563),\n",
       " ('Supervised learning', 5.1895416302424255),\n",
       " ('learning algorithm', 4.335023272355759),\n",
       " ('training data', 3.9950915942095175),\n",
       " ('machine learning', 3.8497351627521414),\n",
       " ('algorithm analyzes', 3.528132641380353),\n",
       " ('learning function', 3.5209218225155148),\n",
       " ('algorithm generalize', 3.498568284034516),\n",
       " ('output based', 3.4588742982091043),\n",
       " ('unseen', 3.384234629795115)]"
      ]
     },
     "execution_count": 6,
     "metadata": {},
     "output_type": "execute_result"
    }
   ],
   "source": [
    "keywords"
   ]
  },
  {
   "cell_type": "markdown",
   "id": "f4267254",
   "metadata": {},
   "source": [
    "#### textRank module test"
   ]
  },
  {
   "cell_type": "code",
   "execution_count": 6,
   "id": "d7a533c6",
   "metadata": {},
   "outputs": [],
   "source": [
    "from keyBoost_lib.models.textrank import textrank_extraction"
   ]
  },
  {
   "cell_type": "code",
   "execution_count": 7,
   "id": "ecaa00fa",
   "metadata": {},
   "outputs": [],
   "source": [
    "tr = textrank_extraction(text=doc,\n",
    "                   n_top=100)"
   ]
  },
  {
   "cell_type": "code",
   "execution_count": 8,
   "id": "872b3c42",
   "metadata": {},
   "outputs": [
    {
     "data": {
      "text/html": [
       "<div>\n",
       "<style scoped>\n",
       "    .dataframe tbody tr th:only-of-type {\n",
       "        vertical-align: middle;\n",
       "    }\n",
       "\n",
       "    .dataframe tbody tr th {\n",
       "        vertical-align: top;\n",
       "    }\n",
       "\n",
       "    .dataframe thead th {\n",
       "        text-align: right;\n",
       "    }\n",
       "</style>\n",
       "<table border=\"1\" class=\"dataframe\">\n",
       "  <thead>\n",
       "    <tr style=\"text-align: right;\">\n",
       "      <th></th>\n",
       "      <th>Term</th>\n",
       "      <th>Score</th>\n",
       "    </tr>\n",
       "  </thead>\n",
       "  <tbody>\n",
       "    <tr>\n",
       "      <th>0</th>\n",
       "      <td>unseen</td>\n",
       "      <td>1.800759</td>\n",
       "    </tr>\n",
       "    <tr>\n",
       "      <th>1</th>\n",
       "      <td>output based</td>\n",
       "      <td>1.775841</td>\n",
       "    </tr>\n",
       "    <tr>\n",
       "      <th>2</th>\n",
       "      <td>supervised learning</td>\n",
       "      <td>1.756770</td>\n",
       "    </tr>\n",
       "    <tr>\n",
       "      <th>3</th>\n",
       "      <td>input</td>\n",
       "      <td>1.539781</td>\n",
       "    </tr>\n",
       "    <tr>\n",
       "      <th>4</th>\n",
       "      <td>example</td>\n",
       "      <td>1.523617</td>\n",
       "    </tr>\n",
       "    <tr>\n",
       "      <th>5</th>\n",
       "      <td>examples</td>\n",
       "      <td>1.523617</td>\n",
       "    </tr>\n",
       "    <tr>\n",
       "      <th>6</th>\n",
       "      <td>labeled training data consisting</td>\n",
       "      <td>0.434263</td>\n",
       "    </tr>\n",
       "    <tr>\n",
       "      <th>7</th>\n",
       "      <td>object</td>\n",
       "      <td>0.279167</td>\n",
       "    </tr>\n",
       "    <tr>\n",
       "      <th>8</th>\n",
       "      <td>function</td>\n",
       "      <td>0.090334</td>\n",
       "    </tr>\n",
       "    <tr>\n",
       "      <th>9</th>\n",
       "      <td>infers</td>\n",
       "      <td>0.090334</td>\n",
       "    </tr>\n",
       "    <tr>\n",
       "      <th>10</th>\n",
       "      <td>inferred</td>\n",
       "      <td>0.090334</td>\n",
       "    </tr>\n",
       "    <tr>\n",
       "      <th>11</th>\n",
       "      <td>optimal scenario</td>\n",
       "      <td>0.090334</td>\n",
       "    </tr>\n",
       "    <tr>\n",
       "      <th>12</th>\n",
       "      <td>bias</td>\n",
       "      <td>0.090334</td>\n",
       "    </tr>\n",
       "    <tr>\n",
       "      <th>13</th>\n",
       "      <td>inductive</td>\n",
       "      <td>0.090334</td>\n",
       "    </tr>\n",
       "    <tr>\n",
       "      <th>14</th>\n",
       "      <td>supervisory</td>\n",
       "      <td>0.090334</td>\n",
       "    </tr>\n",
       "    <tr>\n",
       "      <th>15</th>\n",
       "      <td>signal</td>\n",
       "      <td>0.090334</td>\n",
       "    </tr>\n",
       "    <tr>\n",
       "      <th>16</th>\n",
       "      <td>correctly determine</td>\n",
       "      <td>0.090334</td>\n",
       "    </tr>\n",
       "    <tr>\n",
       "      <th>17</th>\n",
       "      <td>reasonable way</td>\n",
       "      <td>0.090334</td>\n",
       "    </tr>\n",
       "    <tr>\n",
       "      <th>18</th>\n",
       "      <td>pairs</td>\n",
       "      <td>-0.058179</td>\n",
       "    </tr>\n",
       "    <tr>\n",
       "      <th>19</th>\n",
       "      <td>pair</td>\n",
       "      <td>-0.058179</td>\n",
       "    </tr>\n",
       "    <tr>\n",
       "      <th>20</th>\n",
       "      <td>algorithm analyzes</td>\n",
       "      <td>-0.202924</td>\n",
       "    </tr>\n",
       "    <tr>\n",
       "      <th>21</th>\n",
       "      <td>class labels</td>\n",
       "      <td>-0.558005</td>\n",
       "    </tr>\n",
       "    <tr>\n",
       "      <th>22</th>\n",
       "      <td>mapping new</td>\n",
       "      <td>-0.571303</td>\n",
       "    </tr>\n",
       "    <tr>\n",
       "      <th>23</th>\n",
       "      <td>instances</td>\n",
       "      <td>-0.764879</td>\n",
       "    </tr>\n",
       "    <tr>\n",
       "      <th>24</th>\n",
       "      <td>situations</td>\n",
       "      <td>-0.764879</td>\n",
       "    </tr>\n",
       "    <tr>\n",
       "      <th>25</th>\n",
       "      <td>machine</td>\n",
       "      <td>-1.282845</td>\n",
       "    </tr>\n",
       "    <tr>\n",
       "      <th>26</th>\n",
       "      <td>task</td>\n",
       "      <td>-1.282845</td>\n",
       "    </tr>\n",
       "    <tr>\n",
       "      <th>27</th>\n",
       "      <td>typically</td>\n",
       "      <td>-1.411556</td>\n",
       "    </tr>\n",
       "    <tr>\n",
       "      <th>28</th>\n",
       "      <td>maps</td>\n",
       "      <td>-1.414603</td>\n",
       "    </tr>\n",
       "    <tr>\n",
       "      <th>29</th>\n",
       "      <td>value</td>\n",
       "      <td>-1.583476</td>\n",
       "    </tr>\n",
       "    <tr>\n",
       "      <th>30</th>\n",
       "      <td>desired</td>\n",
       "      <td>-1.583476</td>\n",
       "    </tr>\n",
       "  </tbody>\n",
       "</table>\n",
       "</div>"
      ],
      "text/plain": [
       "                                Term     Score\n",
       "0                             unseen  1.800759\n",
       "1                       output based  1.775841\n",
       "2                supervised learning  1.756770\n",
       "3                              input  1.539781\n",
       "4                            example  1.523617\n",
       "5                           examples  1.523617\n",
       "6   labeled training data consisting  0.434263\n",
       "7                             object  0.279167\n",
       "8                           function  0.090334\n",
       "9                             infers  0.090334\n",
       "10                          inferred  0.090334\n",
       "11                  optimal scenario  0.090334\n",
       "12                              bias  0.090334\n",
       "13                         inductive  0.090334\n",
       "14                       supervisory  0.090334\n",
       "15                            signal  0.090334\n",
       "16               correctly determine  0.090334\n",
       "17                    reasonable way  0.090334\n",
       "18                             pairs -0.058179\n",
       "19                              pair -0.058179\n",
       "20                algorithm analyzes -0.202924\n",
       "21                      class labels -0.558005\n",
       "22                       mapping new -0.571303\n",
       "23                         instances -0.764879\n",
       "24                        situations -0.764879\n",
       "25                           machine -1.282845\n",
       "26                              task -1.282845\n",
       "27                         typically -1.411556\n",
       "28                              maps -1.414603\n",
       "29                             value -1.583476\n",
       "30                           desired -1.583476"
      ]
     },
     "execution_count": 8,
     "metadata": {},
     "output_type": "execute_result"
    }
   ],
   "source": [
    "tr"
   ]
  },
  {
   "cell_type": "code",
   "execution_count": 9,
   "id": "60b9b142",
   "metadata": {},
   "outputs": [],
   "source": [
    "import seaborn as sns"
   ]
  },
  {
   "cell_type": "code",
   "execution_count": 10,
   "id": "293c9953",
   "metadata": {},
   "outputs": [
    {
     "data": {
      "text/plain": [
       "<seaborn.axisgrid.FacetGrid at 0x1c182bffdc0>"
      ]
     },
     "execution_count": 10,
     "metadata": {},
     "output_type": "execute_result"
    },
    {
     "data": {
      "image/png": "[encoded data removed]",
      "text/plain": [
       "<Figure size 360x360 with 1 Axes>"
      ]
     },
     "metadata": {
      "needs_background": "light"
     },
     "output_type": "display_data"
    }
   ],
   "source": [
    "sns.displot(tr['Score'])"
   ]
  },
  {
   "cell_type": "code",
   "execution_count": 9,
   "id": "fed1959d",
   "metadata": {},
   "outputs": [],
   "source": [
    "from keyBoost_lib.consensus.statistical import *"
   ]
  },
  {
   "cell_type": "code",
   "execution_count": 10,
   "id": "dd7d46a7",
   "metadata": {},
   "outputs": [
    {
     "name": "stdout",
     "output_type": "stream",
     "text": [
      "statistical discriminativeness Check\n",
      "[]\n",
      "DSM Params OK\n",
      "KS OK\n",
      "Proper DSM behind data\n",
      "[True]\n",
      "DSM Params OK\n",
      "KS OK\n",
      "Proper DSM behind data\n",
      "[True, True]\n",
      "DSM Params OK\n",
      "KS OK\n",
      "Proper DSM behind data\n",
      "[True, True, True]\n",
      "Consolidation + Rank Extraction\n",
      "Deduplication\n",
      "Done !\n"
     ]
    },
    {
     "data": {
      "text/plain": [
       "[('input-output pairs.', 5.705790561290011),\n",
       " ('Supervised learning', 5.01327640071119),\n",
       " ('learning algorithm', 4.77083326955788),\n",
       " ('machine learning', 4.225120906449745),\n",
       " ('training data', 3.8655301235771704),\n",
       " ('algorithm analyzes', 3.863474971908544),\n",
       " ('learning function', 3.85536631866771),\n",
       " ('unseen', 3.384234629795115),\n",
       " ('output based', 3.359316989175731),\n",
       " ('the algorithm', 3.3128974168559093),\n",
       " ('example', 3.1070923751783),\n",
       " ('labeled training', 2.8071648486471883),\n",
       " ('learning each', 2.7785371682849416),\n",
       " ('signal supervised', 2.705559289117435),\n",
       " ('for mapping', 2.6106880461996758)]"
      ]
     },
     "execution_count": 10,
     "metadata": {},
     "output_type": "execute_result"
    }
   ],
   "source": [
    "statistical_consensus(key_extractions=[yk,kb,tr],\n",
    "                     n_top=15)"
   ]
  },
  {
   "cell_type": "code",
   "execution_count": 14,
   "id": "3f0d7d7c",
   "metadata": {},
   "outputs": [
    {
     "name": "stdout",
     "output_type": "stream",
     "text": [
      "[                   Term     Score\n",
      "0    learning algorithm  3.187358\n",
      "1      machine learning  2.641645\n",
      "2   supervised learning  2.382168\n",
      "3    algorithm analyzes  2.279999\n",
      "4     learning function  2.271891\n",
      "..                  ...       ...\n",
      "95        situations in -1.024277\n",
      "96            allow for -1.032386\n",
      "97      generalize from -1.042927\n",
      "98              data to -1.049414\n",
      "99                 pair -1.065631\n",
      "\n",
      "[100 rows x 2 columns],                                 Term     Score\n",
      "0                             unseen  1.800759\n",
      "1                       output based  1.775841\n",
      "2                supervised learning  1.756770\n",
      "3                              input  1.539781\n",
      "4                            example  1.523617\n",
      "5                           examples  1.523617\n",
      "6   labeled training data consisting  0.434263\n",
      "7                             object  0.279167\n",
      "8                           function  0.090334\n",
      "9                             infers  0.090334\n",
      "10                          inferred  0.090334\n",
      "11                  optimal scenario  0.090334\n",
      "12                              bias  0.090334\n",
      "13                         inductive  0.090334\n",
      "14                       supervisory  0.090334\n",
      "15                            signal  0.090334\n",
      "16               correctly determine  0.090334\n",
      "17                    reasonable way  0.090334\n",
      "18                             pairs -0.058179\n",
      "19                              pair -0.058179\n",
      "20                algorithm analyzes -0.202924\n",
      "21                      class labels -0.558005\n",
      "22                       mapping new -0.571303\n",
      "23                         instances -0.764879\n",
      "24                        situations -0.764879\n",
      "25                           machine -1.282845\n",
      "26                              task -1.282845\n",
      "27                         typically -1.411556\n",
      "28                              maps -1.414603\n",
      "29                             value -1.583476\n",
      "30                           desired -1.583476,                    Term     Score\n",
      "0   input-output pairs.  4.122315\n",
      "1   Supervised learning  3.429801\n",
      "2         training data  2.282054\n",
      "3              learning  1.823353\n",
      "4          output based  1.764704\n",
      "..                  ...       ...\n",
      "62               labels -0.739963\n",
      "63             requires -0.753955\n",
      "64           generalize -0.753955\n",
      "65           situations -0.753955\n",
      "66            inductive -0.753955\n",
      "\n",
      "[67 rows x 2 columns]]\n"
     ]
    }
   ],
   "source": [
    "[kb,tr,yk]"
   ]
  },
  {
   "cell_type": "code",
   "execution_count": null,
   "id": "dfaecefe",
   "metadata": {},
   "outputs": [],
   "source": []
  }
 ],
 "metadata": {
  "kernelspec": {
   "display_name": "Python 3",
   "language": "python",
   "name": "python3"
  },
  "language_info": {
   "codemirror_mode": {
    "name": "ipython",
    "version": 3
   },
   "file_extension": ".py",
   "mimetype": "text/x-python",
   "name": "python",
   "nbconvert_exporter": "python",
   "pygments_lexer": "ipython3",
   "version": "3.8.8"
  }
 },
 "nbformat": 4,
 "nbformat_minor": 5
}
