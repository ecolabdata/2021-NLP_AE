{
 "cells": [
  {
   "cell_type": "code",
   "execution_count": 1,
   "id": "a0718abf",
   "metadata": {},
   "outputs": [],
   "source": [
    "import yake\n",
    "import pandas as pd\n",
    "import numpy as np\n",
    "import joblib"
   ]
  },
  {
   "cell_type": "code",
   "execution_count": 2,
   "id": "491fd5b9",
   "metadata": {},
   "outputs": [],
   "source": [
    "df = joblib.load('cleaned_working_basis_sections.joblib')"
   ]
  },
  {
   "cell_type": "code",
   "execution_count": 3,
   "id": "8a5d8900",
   "metadata": {},
   "outputs": [],
   "source": [
    "text = df['section_clean_1'].values[0]"
   ]
  },
  {
   "cell_type": "code",
   "execution_count": 4,
   "id": "7796b6bf",
   "metadata": {
    "scrolled": true
   },
   "outputs": [
    {
     "name": "stdout",
     "output_type": "stream",
     "text": [
      "la societe urba est une societe de projet qui a ete creee par urbasolar pour porter le projet de la centrale photovoltaique de saint yriex la perche la societe urba est detenue a par urbasolar le dossier de permis de construire la reponse a l appel d offres de la commission de regulation de l energie cre ainsi que toutes les demandes d autorisations administratives et electriques seront deposees au nom d urba urbasolar est un groupe francais independant majoritairement detenu par ses dirigeants fondateurs er pure player francais du photovoltaique dont l ambition est de contribuer significativement a la lutte contre le rechauffement climatique par le developpement massif de la technologie photovoltaique pour cela notre groupe a adopte une strategie de croissance basee sur la recherche et l innovation associee au developpement d une filiere industrielle forte et propose un groupe integre des ouvrages repondant aux plus hautes exigences de qualite selon des normes reconnues internationalement cet engagement au quotidien nous permet des a present d offrir un kwh solaire competitif et performant dans de nombreuses regions du monde urbozolur chiffres cles mw installes mw en construction centrales en exploitation mw en cours de developpement en france et a l international implantations base a montpellier le groupe urbasolar dispose en france d agences a toulouse aix en provence bordeaux et paris cette couverture territoriale lui permet d offrir un service de proximite a tous ses clients et de leur garantir une reactivite d intervention en cas de besoin commune de saint yrieix la perche etude d impact par ailleurs urbasolar a mis en place des equipes de specialistes dediees aux marches internationaux qui operent sur des zones cibles telles que l asie centrale l afrique du nord et de l est l afrique subsaharienne l amerique latine et le sud est asiatique dans chacune de ces zones des joint ventures y sont creees avec des partenaires locaux permettant la encore une proximite avec les clients de nombreuses realisations sont actuellement exploitees dans les dom en bulgarie au kazakhstan de nouvelles centrales ont ete recemment mises en service au kenya et en tunisie et des projets sont en cours de developpement au senegal au bresil aux philippines et en jordanie dont la construction est prevue pour et innovation le groupe urbasolar consacre chaque annee de son chiffre d affaires a la r id les actions de r d sont menees en interne par un service dedie au sein de la direction technique avec la participation active d autres collaborateurs qui interviennent sur certains programmes cibles bureau d etudes exploitation informatique les programmes de r d portent notamment sur les batiments intelligents et l autoconsommation l integration des centrales pv aux reseaux electriques les smarts grids l innovation des composants ou bien le financement participatif la plupart de ces programmes est menee en partenariat avec des institutions publiques centres de recherche laboratoires universites des entreprises privees fabricants de composants consommateurs industriels ou encore des poles de competitivite les actions de r d realisees par urbasolar ont permis la mise en oeuvre de solutions operationnelles qui ont contribue a la croissance du groupe et de la filiere en particulier urbasolar a ete un precurseur au travers des actions suivantes mise sur le marche d une membrane synthetique souple photovoltaique laureat du prix du batiment innovant au salon de l immobilier industriel obtention de la ere labellisation aqpv contractant general installation de la ere centrale au sol en trackers de grande puissance en france metropolitaine mise en service de la plus grande centrale solaire a concentration en france metropolitaine obtention du er pass lnnovation du cstb centre scientifique et technique du batiment installation de la premiere centrale en toiture d un batiment de plus de m de hauteur sur un aeroport hall de fabrication de l a pour airbus mise en oeuvre de la premiere centrale sur un centre commercial integrant des coupures distantes centralisees de l ensemble des coffrets electriques dc ac et hta mise au point d un algorithme innovant permettant d etablir le modele de reference de la production d une centrale en exploitation et la detection des ecarts mise en service de plusieurs centrales en autoconsom mation dont une au kenya realisee selon un systeme hybride couplee a un generateur diesel urbozolur certifications urbasolar certifie iso est engagee dans un systeme de management de la qualite smq avec pour objectif de poursuivre une politique d amelioration continue et d orientation client dans l entreprise pour cela le groupe a mis en place un process transverse permettant de surveiller mesurer et analyser les processus les prestations et le niveau de satisfaction des clients pour permettre la definition de la politique qualite aol r contractant general conception construction exp lolutlon mnints haneo le groupe a aussi obtenu la labellisation aqpv pour ses activites de conception construction et exploitation maintenance de centrale photovoltaique de toute puissance le label aqpv contractant general est un gage de qualite pour les clients investisseurs proprietaires de batiments ou fonciers qui souhaitent confier leurs realisations photovoltaiques a des contractants generaux un ouvrage photovoltaique plus sophistique qu une simple construction implique en amont des operations de developpement et de conception et en aval l exploitation et la maintenance du generateur photovoltaique toutes ces exigences de qualite sont traduites au travers de ce label qui est devenu une certification en la prise en charge de la construction en mode contractant general evite par ailleurs les montages ou la multitude des lots dilue les responsabilites et les garanties donnees projets de l engagement environnemental d urbasolar s exprime au travers de la mise en place d un systeme de management environnemental sme qui se traduit par la certification iso obtenu par urbasolar des responsabilite societale et environnementale rse urbasolar est engage dans une politique de developpement durable et mene des actions specifiques sur chacun des trois piliers environnemental social et societal sur le plan environnemental urbasolar afin de repondre a ses engagements sur l environnement s est dotee d un systeme de management environnemental sme le respect de l environnement est un defi quotidien pour urbasolar tant sur ses chantiers que dans les locaux de son siege social c est pourquoi l entreprise a defini une politique environnementale dont les objectifs sont notamment de diminuer ses impacts environnementaux par une meilleure valorisation des dechets et une meilleure valorisation des prestataires reduire ses consommations d eau d electricite de carburants developper la sensibilisation du personnel a la protection de l environnement diminuer les nuisances liees a son activite sur les chantiers ameliorer l impact positif de ses installations faire appel a des fournisseurs et sous traitants certifies iso urbasolar est membre de pv cycle depuis et fait partie des membres fondateurs de pv cycle france creee debut commune de saint yrieix la perche etude d impact fondee en pv cycle est une association europeenne a but non lucratif creee pour mettre en oeuvre l engagement des professionnels du pv cycle photovoltaique sur la creation d une filiere de recyclage des modules en fin de vie aujourd hui elle gere un systeme completement operationnel de collecte et de recyclage pour les panneaux photovoltaiques en fin de vie dans toute l europe la collecte des modules en silicium cristallin et des couches minces s organisent selon trois procedes containers installes aupres de centaines de points de collecte pour des petites quantites service de collecte sur mesure pour les grandes quantites transport des panneaux collectes aupres de partenaires de recyclage assure par des entreprises certifiees les modules collectes sont alors demontes et recycles dans des usines specifiques puis reutilises dans la fabrication de nouveaux produits sur le plan social et societal pour les collaborateurs d urbasolar particulierement attache a ses collaborateurs et a leur bien etre au sein de l entreprise urbasolar a mis en oeuvre toute une serie d actions les concernant dont gestion du plan de formation notamment sur les problematiques de travail en hauteur d interventions electriques sur les postes hta de securite et d ingenierie des projets gestion previsionnelle des emplois et competences pour la securisation des parcours professionnels plan de participation aux resultats de l entreprise organisation des urbasolar games qui se deroulent sur jours pendant lesquels toute l entreprise se retrouve autour de stands sportifs et participe a une competition par equipes organisation annuelle d actions de team building l equipe d urbasolar en seminaire urbozolur pour la formation des jeunes investie dans le developpement de l emploi et la formation professionnelle des jeunes urbasolar s est attache a developper des partenariats multiples avec des ecoles renommees en partageant avec elles des valeurs d ouverture de diversite de responsabilite de performances globales et de solidarite envers les jeunes generations l entreprise accueille chaque annee de nombreux jeunes talents futurs diplomes desireux de developper des projets concrets alliant theorie et pratique professionnelle et en lien avec leurs etudes sur les formations superieures et notamment d ingenieurs specialises au niveau national urbasolar a noue des relations privilegiees avec de nombreux etablissements ecoles ou universites pour l insertion professionnelle en parallele des partenariats noues avec les grandes ecoles et universites urbasolar assure des missions d aide a la reinsertion sociale pour des personnes dont le parcours professionnel a connu quelques accidents convaincue que chacun a droit a une seconde chance l entreprise accueille des stagiaires issus de differents centres de formation specialises et leur offre la possibilite d une integration definitive au sein de l entreprise le crip de montpellier centre de reeducation et d insertion professionnelle destine aux personnes reconnues handicapees qui souhaitent se reorienter professionnellement centre de formation confiance de lattes contrats d accueil et d insertion formations bureautique et secretariat notamment aujourd hui personnes issues de cet organisme sont employees en cdi au sein de l entreprise afpa de st jean de vedas centre de formation professionnelle\n"
     ]
    }
   ],
   "source": [
    "print(text)"
   ]
  },
  {
   "cell_type": "code",
   "execution_count": 5,
   "id": "58936463",
   "metadata": {},
   "outputs": [],
   "source": [
    "kw_extractor = yake.KeywordExtractor()\n",
    "\n",
    "keywords = kw_extractor.extract_keywords(text,)"
   ]
  },
  {
   "cell_type": "code",
   "execution_count": 6,
   "id": "1e21c06b",
   "metadata": {},
   "outputs": [
    {
     "data": {
      "text/plain": [
       "[('notamment sur les', 2.2192223288254965e-05),\n",
       " ('par urbasolar des', 2.7053987826510413e-05),\n",
       " ('par urbasolar pour', 3.347276975165248e-05),\n",
       " ('par des entreprises', 3.402301968066184e-05),\n",
       " ('sur les formations', 3.5828985123363496e-05),\n",
       " ('collecte pour des', 4.064183944371059e-05),\n",
       " ('des jeunes urbasolar', 4.177605795755016e-05),\n",
       " ('des clients pour', 4.373317419931871e-05),\n",
       " ('sur les batiments', 4.438444657650993e-05),\n",
       " ('qualite pour les', 4.544644767187337e-05),\n",
       " ('urbasolar des responsabilite', 4.5804968183170704e-05),\n",
       " ('pour les clients', 4.611309648237517e-05),\n",
       " ('etudes sur les', 4.6774418040600844e-05),\n",
       " ('electriques sur les', 4.816723271254545e-05),\n",
       " ('pour les grandes', 4.931768543169941e-05),\n",
       " ('organisation des urbasolar', 5.0126480982592575e-05),\n",
       " ('urbasolar assure des', 5.0126480982592575e-05),\n",
       " ('pour des personnes', 5.128379033970214e-05),\n",
       " ('cycle est une', 5.217028650084239e-05),\n",
       " ('recyclage pour les', 5.2494381974109524e-05)]"
      ]
     },
     "execution_count": 6,
     "metadata": {},
     "output_type": "execute_result"
    }
   ],
   "source": [
    "keywords"
   ]
  },
  {
   "cell_type": "code",
   "execution_count": 7,
   "id": "57394be1",
   "metadata": {},
   "outputs": [],
   "source": [
    "doc = \"\"\"\n",
    "         Supervised learning is the machine learning task of learning a function that\n",
    "         maps an input to an output based on example input-output pairs.[1] It infers a\n",
    "         function from labeled training data consisting of a set of training examples.[2]\n",
    "         In supervised learning, each example is a pair consisting of an input object\n",
    "         (typically a vector) and a desired output value (also called the supervisory signal). \n",
    "         A supervised learning algorithm analyzes the training data and produces an inferred function, \n",
    "         which can be used for mapping new examples. An optimal scenario will allow for the \n",
    "         algorithm to correctly determine the class labels for unseen instances. This requires \n",
    "         the learning algorithm to generalize from the training data to unseen situations in a \n",
    "         'reasonable' way (see inductive bias).\n",
    "      \"\"\""
   ]
  },
  {
   "cell_type": "code",
   "execution_count": 8,
   "id": "6ab62f0d",
   "metadata": {},
   "outputs": [
    {
     "data": {
      "text/plain": [
       "[('machine learning task', 0.01582912389964704),\n",
       " ('input-output pairs.', 0.03283578095430142),\n",
       " ('labeled training data', 0.03327799305434934),\n",
       " ('Supervised learning', 0.037943960480950265),\n",
       " ('training data consisting', 0.04614619240524312),\n",
       " ('training data', 0.0511258054558735),\n",
       " ('maps an input', 0.05306495910228704),\n",
       " ('learning', 0.05936859943539359),\n",
       " ('supervised learning algorithm', 0.05980449091737858),\n",
       " ('output based', 0.060618195387681775),\n",
       " ('training examples.', 0.06252078360322184),\n",
       " ('machine learning', 0.07440797737796104),\n",
       " ('learning task', 0.07440797737796104),\n",
       " ('labeled training', 0.07522360378542124),\n",
       " ('learning algorithm', 0.08748485410409917),\n",
       " ('training', 0.08996076369033613),\n",
       " ('Supervised', 0.09563458127483726),\n",
       " ('data consisting', 0.10592891217302679),\n",
       " ('function', 0.11550273617039956),\n",
       " ('input object', 0.11708255928464684)]"
      ]
     },
     "execution_count": 8,
     "metadata": {},
     "output_type": "execute_result"
    }
   ],
   "source": [
    "kw_extractor.extract_keywords(doc)"
   ]
  },
  {
   "cell_type": "code",
   "execution_count": 9,
   "id": "671e8a18",
   "metadata": {},
   "outputs": [],
   "source": [
    "import spacy"
   ]
  },
  {
   "cell_type": "code",
   "execution_count": 10,
   "id": "0fe58fff",
   "metadata": {},
   "outputs": [],
   "source": [
    "nlp = spacy.load('fr_core_news_sm')"
   ]
  },
  {
   "cell_type": "code",
   "execution_count": 49,
   "id": "af6bf5f6",
   "metadata": {},
   "outputs": [],
   "source": [
    "language = \"fr\"\n",
    "max_ngram_size = 3\n",
    "deduplication_thresold = 0.9\n",
    "deduplication_algo = 'seqm'\n",
    "windowSize = 1\n",
    "numOfKeywords = 3\n",
    "stopwords = nlp.Defaults.stop_words\n",
    "\n",
    "custom_kw_extractor = yake.KeywordExtractor(lan=language,\n",
    "                                            n=max_ngram_size,\n",
    "                                            dedupLim=deduplication_thresold,\n",
    "                                            dedupFunc=deduplication_algo,\n",
    "                                            windowsSize=windowSize,\n",
    "                                            top=numOfKeywords,\n",
    "                                            stopwords=stopwords)\n",
    "keywords = custom_kw_extractor.extract_keywords(text)"
   ]
  },
  {
   "cell_type": "code",
   "execution_count": 50,
   "id": "6197cebc",
   "metadata": {},
   "outputs": [
    {
     "data": {
      "text/plain": [
       "[('groupe urbasolar', 0.000294266897313968),\n",
       " ('centrale photovoltaique', 0.00039336092173320966),\n",
       " ('contractant general', 0.00043589363943046254),\n",
       " ('entreprise urbasolar', 0.0004891520601883829),\n",
       " ('formation professionnelle', 0.0006442725807673496),\n",
       " ('entreprise accueille', 0.0007396598160555282),\n",
       " ('premiere centrale', 0.0007532750382475828),\n",
       " ('environnemental urbasolar', 0.0007810798504033155),\n",
       " ('jeunes urbasolar', 0.0008703218247534733),\n",
       " ('urbasolar', 0.0008712015665180308),\n",
       " ('conception construction', 0.0009399545625844374),\n",
       " ('urba urbasolar', 0.0009576304658160783),\n",
       " ('iso urbasolar', 0.0009721320679994551),\n",
       " ('certifications urbasolar', 0.0009867254234707148),\n",
       " ('universites urbasolar', 0.0009867254234707148),\n",
       " ('aqpv contractant', 0.0009884556786694842),\n",
       " ('construction centrales', 0.0009923997735782207),\n",
       " ('management environnemental', 0.001003039687491579),\n",
       " ('insertion professionnelle', 0.0010183794066956587),\n",
       " ('perche etude', 0.0011012702257232594)]"
      ]
     },
     "execution_count": 50,
     "metadata": {},
     "output_type": "execute_result"
    }
   ],
   "source": [
    "keywords"
   ]
  },
  {
   "cell_type": "code",
   "execution_count": null,
   "id": "99b1ceda",
   "metadata": {},
   "outputs": [],
   "source": []
  }
 ],
 "metadata": {
  "kernelspec": {
   "display_name": "Python 3",
   "language": "python",
   "name": "python3"
  },
  "language_info": {
   "codemirror_mode": {
    "name": "ipython",
    "version": 3
   },
   "file_extension": ".py",
   "mimetype": "text/x-python",
   "name": "python",
   "nbconvert_exporter": "python",
   "pygments_lexer": "ipython3",
   "version": "3.8.8"
  }
 },
 "nbformat": 4,
 "nbformat_minor": 5
}
