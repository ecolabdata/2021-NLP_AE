{
 "cells": [
  {
   "cell_type": "code",
   "execution_count": 1,
   "id": "32d4011c",
   "metadata": {},
   "outputs": [],
   "source": [
    "text  = '''Supervised learning is the machine learning task of learning a function that\n",
    "         maps an input to an output based on example input-output pairs.[1] It infers a\n",
    "         function from labeled training data consisting of a set of training examples.[2]\n",
    "         In supervised learning, each example is a pair consisting of an input object\n",
    "         (typically a vector) and a desired output value (also called the supervisory signal). \n",
    "         A supervised learning algorithm analyzes the training data and produces an inferredfunction, \n",
    "         which can be used for mapping new examples. An optimal scenario will allow for the \n",
    "         algorithm to correctly determine the class labels for unseen instances. This requires \n",
    "         the learning algorithm to generalize from the training data to unseen situations in a \n",
    "         'reasonable' way (see inductive bias).'''"
   ]
  },
  {
   "cell_type": "code",
   "execution_count": 2,
   "id": "22101960",
   "metadata": {},
   "outputs": [],
   "source": [
    "import spacy\n",
    "\n",
    "nlp = spacy.load('en_core_web_sm')"
   ]
  },
  {
   "cell_type": "code",
   "execution_count": 3,
   "id": "ce7f848a",
   "metadata": {},
   "outputs": [],
   "source": [
    "stopwords=nlp.Defaults.stop_words"
   ]
  },
  {
   "cell_type": "code",
   "execution_count": 4,
   "id": "81642e44",
   "metadata": {},
   "outputs": [],
   "source": [
    "from summa import keywords"
   ]
  },
  {
   "cell_type": "code",
   "execution_count": 14,
   "id": "a5de51e9",
   "metadata": {},
   "outputs": [
    {
     "data": {
      "text/plain": [
       "[('output', 0.36836288954049495),\n",
       " ('learning', 0.35412953598735186),\n",
       " ('unseen', 0.22826972024087677),\n",
       " ('input', 0.2173048569897677),\n",
       " ('example', 0.2166257230055354),\n",
       " ('examples', 0.2166257230055354),\n",
       " ('labeled training', 0.19160859618310266),\n",
       " ('algorithm', 0.1857619997978709),\n",
       " ('labels', 0.16482366612996205),\n",
       " ('object', 0.16434076000628045),\n",
       " ('new', 0.16403951335965428),\n",
       " ('signal', 0.15640703053541588),\n",
       " ('supervisory', 0.15640703053541585),\n",
       " ('optimal scenario', 0.1564070305354154),\n",
       " ('bias', 0.15640703053541535),\n",
       " ('correctly determine', 0.15640703053541533),\n",
       " ('reasonable way', 0.15640703053541533),\n",
       " ('inductive', 0.15640703053541527)]"
      ]
     },
     "execution_count": 14,
     "metadata": {},
     "output_type": "execute_result"
    }
   ],
   "source": [
    "keywords.keywords(text,scores=True,\n",
    "                  ratio=0.5,\n",
    "                  words=20,\n",
    "                 additional_stopwords=stopwords,\n",
    "                 )"
   ]
  },
  {
   "cell_type": "code",
   "execution_count": null,
   "id": "0530eaa9",
   "metadata": {},
   "outputs": [],
   "source": []
  }
 ],
 "metadata": {
  "kernelspec": {
   "display_name": "Python 3",
   "language": "python",
   "name": "python3"
  },
  "language_info": {
   "codemirror_mode": {
    "name": "ipython",
    "version": 3
   },
   "file_extension": ".py",
   "mimetype": "text/x-python",
   "name": "python",
   "nbconvert_exporter": "python",
   "pygments_lexer": "ipython3",
   "version": "3.8.8"
  }
 },
 "nbformat": 4,
 "nbformat_minor": 5
}
