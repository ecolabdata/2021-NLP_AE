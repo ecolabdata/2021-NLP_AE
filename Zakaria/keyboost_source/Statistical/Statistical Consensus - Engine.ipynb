{
 "cells": [
  {
   "cell_type": "code",
   "execution_count": 1,
   "id": "e44905aa",
   "metadata": {},
   "outputs": [],
   "source": [
    "import warnings\n",
    "import numpy as np\n",
    "import pandas as pd\n",
    "import scipy.stats as st\n",
    "import statsmodels.api as sm\n",
    "import matplotlib\n",
    "import matplotlib.pyplot as plt\n",
    "import seaborn as sns\n",
    "\n",
    "\n",
    "matplotlib.rcParams['figure.figsize'] = (16.0, 12.0)\n",
    "matplotlib.style.use('ggplot')\n"
   ]
  },
  {
   "cell_type": "markdown",
   "id": "843978a0",
   "metadata": {},
   "source": [
    "### Statistical Consensus Engine"
   ]
  },
  {
   "cell_type": "code",
   "execution_count": null,
   "id": "f7c536ae",
   "metadata": {},
   "outputs": [],
   "source": [
    "discriminative_statistical_models = [st.powerlaw,st.gamma,st.pareto,st.powerlognorm]"
   ]
  },
  {
   "cell_type": "code",
   "execution_count": 6,
   "id": "e6889ac6",
   "metadata": {},
   "outputs": [],
   "source": [
    "def freedman_diaconis_rule(data):\n",
    "    a = np.array(data)\n",
    "    if len(data) <2:\n",
    "        return 1\n",
    "    h = 2*(np.percentile(data,75)-np.percentile(data,25))*len(data)**(-1/3)\n",
    "\n",
    "    if h==0:\n",
    "        return len(data)\n",
    "    else:\n",
    "        return int(np.ceil((max(data)-min(data))/h))"
   ]
  },
  {
   "cell_type": "code",
   "execution_count": 14,
   "id": "ced5ae94",
   "metadata": {},
   "outputs": [],
   "source": [
    "def DSM_selection(data,\n",
    "                 distributions,\n",
    "                 bins):\n",
    "    \n",
    "    y, x = np.histogram(a=data,\n",
    "                       bins=bins,\n",
    "                       density=True)\n",
    "    x = (x + np.roll(x,-1))[:-1] / 2.0\n",
    "    \n",
    "    # By default, we suppose that the data fits a gaussian model\n",
    "    \n",
    "    best_distribution = st.norm\n",
    "    best_arg,best_loc,best_scale = (None, 0.0, 1.0)\n",
    "    best_sse = np.inf\n",
    "    \n",
    "    for distribution in distributions:\n",
    "        \n",
    "        try:\n",
    "        \n",
    "            arg, loc, scale = maximum_likelyhood_estimation(data,distribution)\n",
    "\n",
    "            pdf = distribution.pdf(x, loc=loc, scale=scale, *arg)\n",
    "            sse = np.sum(np.power(y-pdf),2.0)\n",
    "\n",
    "            if best_sse > sse:\n",
    "                best_distribution = distribution\n",
    "                best_arg = arg\n",
    "                best_loc = loc\n",
    "                best_scale = scale\n",
    "                best_sse = sse\n",
    "        except:\n",
    "            pass\n",
    "        \n",
    "    return best_distribution, best_arg, best_loc, best_scale\n",
    "        \n",
    "        \n",
    "        "
   ]
  },
  {
   "cell_type": "code",
   "execution_count": 2,
   "id": "88d68350",
   "metadata": {},
   "outputs": [],
   "source": [
    "def maximum_likelyhood_estimation(data,\n",
    "                                  distribution):\n",
    "    \n",
    "    params = distibution.fit(data)\n",
    "    \n",
    "    arg = params[:-2] # distribution parameter vector\n",
    "    loc = params[-2] # location parameter\n",
    "    scale = params[-1] # scale parameter \n",
    "    \n",
    "    return arg, log, scale"
   ]
  },
  {
   "cell_type": "code",
   "execution_count": 16,
   "id": "f273e6b1",
   "metadata": {},
   "outputs": [],
   "source": [
    "def pack_params(arg,loc,scale):\n",
    "    params = list()\n",
    "    a = [arg,loc,scale]\n",
    "    for x in a:\n",
    "        if type(x)!=tuple:\n",
    "            params.append(x)\n",
    "        else:\n",
    "            for t in x:\n",
    "                params.append(t)\n",
    "    return tuple(params)"
   ]
  },
  {
   "cell_type": "code",
   "execution_count": 5,
   "id": "f1751eaf",
   "metadata": {},
   "outputs": [],
   "source": [
    "def kolmogorov_smirnov_test(distribution,\n",
    "                           data,\n",
    "                           arg,\n",
    "                           loc,\n",
    "                           scale,alpha):\n",
    "    \n",
    "    args = pack_params(arg,loc,scale)\n",
    "    \n",
    "    _, p_value = st.kstest(rvs=data,\n",
    "                          cdf=distribution,\n",
    "                          args=args,\n",
    "                          alternative='two-sided')\n",
    "    \n",
    "    \n",
    "    return True if p_value >= alpha else False # Pass the test if we do not reject H0 : the score distribution is discriminative\n"
   ]
  },
  {
   "cell_type": "code",
   "execution_count": 10,
   "id": "3571359b",
   "metadata": {},
   "outputs": [],
   "source": [
    "def DSM_params_check(distribution,\n",
    "                     arg):\n",
    "    \n",
    "    if distribution == st.powerlaw:\n",
    "        \n",
    "        return True if 0<arg[0]<1 else False\n",
    "    \n",
    "    elif distribution == st.gamma:\n",
    "        \n",
    "        return True if 0<arg[0]<15 else False\n",
    "    \n",
    "    elif distribution == st.pareto:\n",
    "        \n",
    "        return True\n",
    "    \n",
    "    elif distribution == st.powerlognorm:\n",
    "        \n",
    "        return True if 0<arg[1]<1 else False"
   ]
  }
 ],
 "metadata": {
  "kernelspec": {
   "display_name": "Python 3",
   "language": "python",
   "name": "python3"
  },
  "language_info": {
   "codemirror_mode": {
    "name": "ipython",
    "version": 3
   },
   "file_extension": ".py",
   "mimetype": "text/x-python",
   "name": "python",
   "nbconvert_exporter": "python",
   "pygments_lexer": "ipython3",
   "version": "3.8.8"
  }
 },
 "nbformat": 4,
 "nbformat_minor": 5
}
