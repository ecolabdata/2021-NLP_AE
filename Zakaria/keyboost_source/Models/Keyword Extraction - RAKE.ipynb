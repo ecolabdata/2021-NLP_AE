{
 "cells": [
  {
   "cell_type": "code",
   "execution_count": 1,
   "id": "c484b031",
   "metadata": {},
   "outputs": [],
   "source": [
    "import spacy\n",
    "import pandas as pd\n",
    "import numpy as np\n",
    "import nltk\n",
    "from rake_nltk import Rake\n",
    "from collections import Counter\n",
    "from string import punctuation\n",
    "import joblib\n",
    "import re\n",
    "import matplotlib.pyplot as plt"
   ]
  },
  {
   "cell_type": "code",
   "execution_count": 19,
   "id": "306f60d6",
   "metadata": {},
   "outputs": [],
   "source": [
    "nlp = spacy.load(\"en_core_web_sm\")"
   ]
  },
  {
   "cell_type": "code",
   "execution_count": 20,
   "id": "a9d77b13",
   "metadata": {},
   "outputs": [],
   "source": [
    "doc = \"\"\"\n",
    "         Supervised learning is the machine learning task of learning a function that\n",
    "         maps an input to an output based on example input-output pairs.[1] It infers a\n",
    "         function from labeled training data consisting of a set of training examples.[2]\n",
    "         In supervised learning, each example is a pair consisting of an input object\n",
    "         (typically a vector) and a desired output value (also called the supervisory signal). \n",
    "         A supervised learning algorithm analyzes the training data and produces an inferred function, \n",
    "         which can be used for mapping new examples. An optimal scenario will allow for the \n",
    "         algorithm to correctly determine the class labels for unseen instances. This requires \n",
    "         the learning algorithm to generalize from the training data to unseen situations in a \n",
    "         'reasonable' way (see inductive bias).\n",
    "      \"\"\""
   ]
  },
  {
   "cell_type": "code",
   "execution_count": 22,
   "id": "9b3acfe0",
   "metadata": {},
   "outputs": [],
   "source": [
    "r = Rake(stopwords=nlp.Defaults.stop_words,punctuations=punctuation,language='english',max_length=2,)"
   ]
  },
  {
   "cell_type": "code",
   "execution_count": 23,
   "id": "72e6c4c5",
   "metadata": {},
   "outputs": [],
   "source": [
    "r.extract_keywords_from_text(doc)"
   ]
  },
  {
   "cell_type": "code",
   "execution_count": 24,
   "id": "3e2f21f4",
   "metadata": {},
   "outputs": [
    {
     "data": {
      "text/plain": [
       "[(4.0, 'unseen situations'),\n",
       " (4.0, 'unseen instances'),\n",
       " (4.0, 'training examples'),\n",
       " (4.0, 'training data'),\n",
       " (4.0, 'pair consisting'),\n",
       " (4.0, 'output pairs'),\n",
       " (4.0, 'output based'),\n",
       " (4.0, 'optimal scenario'),\n",
       " (4.0, 'correctly determine'),\n",
       " (4.0, 'class labels'),\n",
       " (3.666666666666667, 'supervised learning'),\n",
       " (3.666666666666667, 'input object'),\n",
       " (3.5, 'inferred function'),\n",
       " (3.166666666666667, 'learning algorithm'),\n",
       " (3.166666666666667, 'example input'),\n",
       " (1.6666666666666667, 'learning'),\n",
       " (1.6666666666666667, 'input'),\n",
       " (1.5, 'function'),\n",
       " (1.5, 'example'),\n",
       " (1.5, 'algorithm'),\n",
       " (1.0, 'way'),\n",
       " (1.0, 'vector'),\n",
       " (1.0, 'typically'),\n",
       " (1.0, 'set'),\n",
       " (1.0, 'requires'),\n",
       " (1.0, 'reasonable'),\n",
       " (1.0, 'produces'),\n",
       " (1.0, 'maps'),\n",
       " (1.0, 'infers'),\n",
       " (1.0, 'generalize'),\n",
       " (1.0, 'called'),\n",
       " (1.0, 'allow'),\n",
       " (1.0, '2'),\n",
       " (1.0, '1')]"
      ]
     },
     "execution_count": 24,
     "metadata": {},
     "output_type": "execute_result"
    }
   ],
   "source": [
    "r.get_ranked_phrases_with_scores()"
   ]
  },
  {
   "cell_type": "code",
   "execution_count": null,
   "id": "f8d0f103",
   "metadata": {},
   "outputs": [],
   "source": []
  }
 ],
 "metadata": {
  "kernelspec": {
   "display_name": "Python 3",
   "language": "python",
   "name": "python3"
  },
  "language_info": {
   "codemirror_mode": {
    "name": "ipython",
    "version": 3
   },
   "file_extension": ".py",
   "mimetype": "text/x-python",
   "name": "python",
   "nbconvert_exporter": "python",
   "pygments_lexer": "ipython3",
   "version": "3.8.8"
  }
 },
 "nbformat": 4,
 "nbformat_minor": 5
}
