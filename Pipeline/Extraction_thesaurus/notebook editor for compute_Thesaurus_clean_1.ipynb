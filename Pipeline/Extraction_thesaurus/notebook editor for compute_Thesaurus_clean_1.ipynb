{
  "metadata": {
    "kernelspec": {
      "display_name": "Python (env Ruben)",
      "name": "py-dku-venv-ruben",
      "language": "python"
    },
    "language_info": {
      "mimetype": "text/x-python",
      "nbconvert_exporter": "python",
      "version": "3.6.8",
      "name": "python",
      "pygments_lexer": "ipython3",
      "file_extension": ".py",
      "codemirror_mode": {
        "version": 3,
        "name": "ipython"
      }
    },
    "creator": "rpartouche",
    "associatedRecipe": "compute_Thesaurus_clean",
    "createdOn": 1621258392128,
    "tags": [
      "recipe-editor"
    ],
    "modifiedBy": "rpartouche",
    "customFields": {}
  },
  "nbformat": 4,
  "nbformat_minor": 1,
  "cells": [
    {
      "execution_count": 98,
      "cell_type": "code",
      "metadata": {},
      "source": [
        "# -*- coding: utf-8 -*-\nimport dataiku\nimport pandas as pd, numpy as np\nfrom dataiku import pandasutils as pdu\n\n# Read recipe inputs\nthesaurus \u003d dataiku.Folder(\"el0cX6TX\")\nthesaurus_info \u003d thesaurus.get_info()\n\npath \u003d thesaurus.get_path()\nversions \u003d thesaurus.list_paths_in_partition()\nversion \u003d 1\nversions[version]"
      ],
      "outputs": [
        {
          "output_type": "execute_result",
          "metadata": {},
          "data": {
            "text/plain": "\u0027/enjeux1.csv\u0027"
          },
          "execution_count": 98
        }
      ]
    },
    {
      "execution_count": 99,
      "cell_type": "code",
      "metadata": {},
      "source": [
        "enjeux \u003d pd.read_csv(open(path+versions[version]),encoding \u003d \u0027utf-8\u0027,delimiter\u003d\u0027;\u0027)"
      ],
      "outputs": []
    },
    {
      "execution_count": 100,
      "cell_type": "code",
      "metadata": {},
      "source": [
        "type(enjeux.Extension[0])"
      ],
      "outputs": [
        {
          "output_type": "execute_result",
          "metadata": {},
          "data": {
            "text/plain": "float"
          },
          "execution_count": 100
        }
      ]
    },
    {
      "execution_count": 101,
      "cell_type": "code",
      "metadata": {},
      "source": [
        "final \u003d pd.DataFrame(enjeux[\u0027Enjeu environnemental\u0027])\nenjeux.replace(np.nan,0)\ndef itsplit(row,delimiter \u003d \u0027, \u0027):\n    try:\n        return (row.Dictionnaire.split(delimiter)+row.Correction.split(delimiter)+row.Extension.split(delimiter))\n    except:\n        try:\n            return (row.Dictionnaire.split(delimiter)+row.Correction.split(delimiter))\n        except:\n            try:\n                return (row.Dictionnaire.split(delimiter))\n            except:\n                print(row)\nfinal[\u0027Dictionnaire\u0027] \u003d enjeux.apply(itsplit,axis\u003d1)"
      ],
      "outputs": []
    },
    {
      "execution_count": 102,
      "cell_type": "code",
      "metadata": {},
      "source": [
        "final.Dictionnaire[0]"
      ],
      "outputs": [
        {
          "output_type": "execute_result",
          "metadata": {},
          "data": {
            "text/plain": "[\u0027biodiversité\u0027,\n \u0027milieu naturel\u0027,\n \u0027habitat naturel\u0027,\n \u0027faune\u0027,\n \u0027flore\u0027,\n \u0027trame verte et bleue (TVB)\u0027,\n \u0027trame noire\u0027,\n \u0027pollution lumineuse\u0027,\n \u0027réservoir biologique\u0027,\n \u0027continuité écologique\u0027,\n \u0027haie\u0027,\n \u0027boisement\u0027,\n \u0027prairie\u0027,\n \u0027bocage\u0027,\n \u0027milieu aquatique\u0027,\n \u0027cours d’eau\u0027,\n \u0027état écologique\u0027,\n \u0027pollution\u0027,\n \u0027débit réservé\u0027,\n \u0027zone humide\u0027,\n \u0027ZNIEFF\u0027,\n \u0027Natura 2000\u0027,\n \u0027espèce protégée\u0027,\n \u0027oiseaux\u0027,\n \u0027chauve-souris\u0027,\n \u0027avifaune\u0027,\n \u0027mammifères\u0027,\n \u0027poissons\u0027,\n \u0027insectes\u0027,\n \u0027herbier\u0027,\n \u0027trame vert bleu\u0027,\n \u0027tvb\u0027,\n \u0027debit reservir\u0027,\n \u0027espece protegee\u0027]"
          },
          "execution_count": 102
        }
      ]
    },
    {
      "execution_count": 103,
      "cell_type": "code",
      "metadata": {},
      "source": [
        "import pickle\npath_clean \u003d dataiku.Folder(\u0027ywCWAV6b\u0027).get_path()\npickle.dump(enjeux,open(path_clean+\u0027/Thesaurus\u0027+str(version)+\u0027.pickle\u0027,\u0027wb\u0027))"
      ],
      "outputs": []
    }
  ]
}