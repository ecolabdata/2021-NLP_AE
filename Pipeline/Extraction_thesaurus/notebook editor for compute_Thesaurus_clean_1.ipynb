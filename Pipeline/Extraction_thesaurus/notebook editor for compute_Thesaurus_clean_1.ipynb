{
  "metadata": {
    "kernelspec": {
      "display_name": "Python (env Ruben)",
      "name": "py-dku-venv-ruben",
      "language": "python"
    },
    "language_info": {
      "mimetype": "text/x-python",
      "nbconvert_exporter": "python",
      "version": "3.6.8",
      "name": "python",
      "pygments_lexer": "ipython3",
      "file_extension": ".py",
      "codemirror_mode": {
        "version": 3,
        "name": "ipython"
      }
    },
    "creator": "rpartouche",
    "associatedRecipe": "compute_Thesaurus_clean",
    "createdOn": 1621258392128,
    "tags": [
      "recipe-editor"
    ],
    "modifiedBy": "rpartouche",
    "customFields": {}
  },
  "nbformat": 4,
  "nbformat_minor": 1,
  "cells": [
    {
      "execution_count": 98,
      "cell_type": "code",
      "metadata": {},
      "source": [
        "# -*- coding: utf-8 -*-\n",
        "import dataiku\n",
        "import pandas as pd, numpy as np\n",
        "from dataiku import pandasutils as pdu\n",
        "\n",
        "# Read recipe inputs\n",
        "thesaurus = dataiku.Folder(\"el0cX6TX\")\n",
        "thesaurus_info = thesaurus.get_info()\n",
        "\n",
        "path = thesaurus.get_path()\n",
        "versions = thesaurus.list_paths_in_partition()\n",
        "version = 1\n",
        "versions[version]"
      ],
      "outputs": [
        {
          "output_type": "execute_result",
          "metadata": {},
          "data": {
            "text/plain": "'/enjeux1.csv'"
          },
          "execution_count": 98
        }
      ]
    },
    {
      "execution_count": 99,
      "cell_type": "code",
      "metadata": {},
      "source": [
        "enjeux = pd.read_csv(open(path+versions[version]),encoding = 'utf-8',delimiter=';')"
      ],
      "outputs": []
    },
    {
      "execution_count": 100,
      "cell_type": "code",
      "metadata": {},
      "source": [
        "type(enjeux.Extension[0])"
      ],
      "outputs": [
        {
          "output_type": "execute_result",
          "metadata": {},
          "data": {
            "text/plain": "float"
          },
          "execution_count": 100
        }
      ]
    },
    {
      "execution_count": 101,
      "cell_type": "code",
      "metadata": {},
      "source": [
        "final = pd.DataFrame(enjeux['Enjeu environnemental'])\n",
        "enjeux.replace(np.nan,0)\n",
        "def itsplit(row,delimiter = ', '):\n",
        "    try:\n",
        "        return (row.Dictionnaire.split(delimiter)+row.Correction.split(delimiter)+row.Extension.split(delimiter))\n",
        "    except:\n",
        "        try:\n",
        "            return (row.Dictionnaire.split(delimiter)+row.Correction.split(delimiter))\n",
        "        except:\n",
        "            try:\n",
        "                return (row.Dictionnaire.split(delimiter))\n",
        "            except:\n",
        "                print(row)\n",
        "final['Dictionnaire'] = enjeux.apply(itsplit,axis=1)"
      ],
      "outputs": []
    },
    {
      "execution_count": 102,
      "cell_type": "code",
      "metadata": {},
      "source": [
        "final.Dictionnaire[0]"
      ],
      "outputs": [
        {
          "output_type": "execute_result",
          "metadata": {},
          "data": {
            "text/plain": "['biodiversité',\n 'milieu naturel',\n 'habitat naturel',\n 'faune',\n 'flore',\n 'trame verte et bleue (TVB)',\n 'trame noire',\n 'pollution lumineuse',\n 'réservoir biologique',\n 'continuité écologique',\n 'haie',\n 'boisement',\n 'prairie',\n 'bocage',\n 'milieu aquatique',\n 'cours d’eau',\n 'état écologique',\n 'pollution',\n 'débit réservé',\n 'zone humide',\n 'ZNIEFF',\n 'Natura 2000',\n 'espèce protégée',\n 'oiseaux',\n 'chauve-souris',\n 'avifaune',\n 'mammifères',\n 'poissons',\n 'insectes',\n 'herbier',\n 'trame vert bleu',\n 'tvb',\n 'debit reservir',\n 'espece protegee']"
          },
          "execution_count": 102
        }
      ]
    },
    {
      "execution_count": 103,
      "cell_type": "code",
      "metadata": {},
      "source": [
        "import pickle\n",
        "path_clean = dataiku.Folder('ywCWAV6b').get_path()\n",
        "pickle.dump(enjeux,open(path_clean+'/Thesaurus'+str(version)+'.pickle','wb'))"
      ],
      "outputs": []
    }
  ]
}