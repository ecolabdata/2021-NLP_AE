{
  "metadata": {
    "kernelspec": {
      "display_name": "Python 2",
      "name": "python2",
      "language": "python"
    },
    "language_info": {
      "mimetype": "text/x-python",
      "nbconvert_exporter": "python",
      "version": "2.7.5",
      "name": "python",
      "pygments_lexer": "ipython2",
      "file_extension": ".py",
      "codemirror_mode": {
        "version": 2,
        "name": "ipython"
      }
    },
    "creator": "rpartouche",
    "associatedRecipe": "compute_base_id_avistxt",
    "createdOn": 1621418106927,
    "tags": [
      "recipe-editor"
    ],
    "customFields": {},
    "modifiedBy": "rpartouche"
  },
  "nbformat": 4,
  "nbformat_minor": 1,
  "cells": [
    {
      "execution_count": 0,
      "cell_type": "code",
      "metadata": {},
      "source": [
        "# -*- coding: utf-8 -*-\nimport dataiku\nimport pandas as pd, numpy as np\nfrom dataiku import pandasutils as pdu\nimport os\nimport codecs\n# Read recipe inputs\navis_txt_projets_env \u003d dataiku.Folder(\"YoeTW9Sf\")\npath \u003d dataiku.Folder(\"YoeTW9Sf\").get_path()\navis_txt_projets_env_info \u003d avis_txt_projets_env.get_info()"
      ],
      "outputs": []
    },
    {
      "execution_count": 0,
      "cell_type": "code",
      "metadata": {},
      "source": [
        "ids \u003d []\ntexts \u003d []\nfor file in avis_txt_projets_env.list_paths_in_partition():\n    id \u003d \u0027\u0027\n    for car in file:\n        if car in \u00270123456789\u0027:\n            id +\u003d car\n    ids.append(id)\n    with codecs.open(path+file) as f:\n        data \u003d f.read()\n        texts.append(data)"
      ],
      "outputs": []
    },
    {
      "execution_count": 0,
      "cell_type": "code",
      "metadata": {},
      "source": [
        "base_id_avistxt_df \u003d pd.DataFrame({\u0027id\u0027:ids,\u0027texte\u0027:texts})\n\nbase_id_avistxt_df[\u0027texte\u0027].replace(\u0027\u0027,np.nan,inplace \u003d True)\nbase_id_avistxt_df.dropna(subset\u003d[\u0027texte\u0027], inplace\u003dTrue)\n\n\n#On ajoute la longueur de chaque chaine\nbase_id_avistxt_df[\u0027len\u0027]\u003dbase_id_avistxt_df[\u0027texte\u0027].str.len()\n\ndef hasAA(text):\n    text \u003d text.lower()\n    if \"absence d\u0027avis\" in text:\n        return(1)\n    else:\n        return(0)\n\ndef hasAO(text):\n    text \u003d text.lower()\n    if \"absence d\u0027observation\" in text:\n        return(1)\n    else:\n        return(0)\n\ndef hasDI(text):\n    text \u003d text.lower()\n    if \"délai imparti\" in text:\n        return(1)\n    else:\n        return(0)\n\ndef hasPO(text):\n    text \u003d text.lower()\n    if \"pas d\u0027observation\" in text:\n        return(1)\n    else:\n        return(0)\n\nsortie \u003d base_id_avistxt_df[\u0027texte\u0027].apply(hasAA)\nsortie2 \u003d base_id_avistxt_df[\u0027texte\u0027].apply(hasAO)\nsortie3 \u003d base_id_avistxt_df[\u0027texte\u0027].apply(hasDI)\nsortie4 \u003d base_id_avistxt_df[\u0027texte\u0027].apply(hasPO)\nbase_id_avistxt_df[\u0027hasAA\u0027] \u003d sortie\nbase_id_avistxt_df[\u0027hasAO\u0027] \u003d sortie2\nbase_id_avistxt_df[\u0027hasDI\u0027] \u003d sortie3\nbase_id_avistxt_df[\u0027hasPO\u0027] \u003d sortie4\nnp.sum(sortie)\n\nbase_id_avistxt_df.sort_values(\u0027len\u0027).head(20)"
      ],
      "outputs": []
    },
    {
      "execution_count": 0,
      "cell_type": "code",
      "metadata": {},
      "source": [
        "# Write recipe outputs\nbase_id_avistxt \u003d dataiku.Dataset(\"base_id_avistxt\")\nbase_id_avistxt.write_with_schema(base_id_avistxt_df)"
      ],
      "outputs": []
    }
  ]
}