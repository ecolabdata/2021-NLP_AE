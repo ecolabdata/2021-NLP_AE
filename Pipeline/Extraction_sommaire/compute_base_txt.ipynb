{
  "metadata": {
    "kernelspec": {
      "display_name": "Python 2",
      "name": "python2",
      "language": "python"
    },
    "language_info": {
      "mimetype": "text/x-python",
      "nbconvert_exporter": "python",
      "version": "2.7.5",
      "name": "python",
      "pygments_lexer": "ipython2",
      "file_extension": ".py",
      "codemirror_mode": {
        "version": 2,
        "name": "ipython"
      }
    },
    "creator": "TRoudil",
    "associatedRecipe": "compute_base_txt",
    "createdOn": 1622021554281,
    "tags": [
      "recipe-editor"
    ],
    "customFields": {},
    "modifiedBy": "TRoudil"
  },
  "nbformat": 4,
  "nbformat_minor": 1,
  "cells": [
    {
      "execution_count": 0,
      "cell_type": "code",
      "metadata": {},
      "source": [
        "# -*- coding: utf-8 -*-\nimport dataiku\nimport pandas as pd, numpy as np\nfrom dataiku import pandasutils as pdu\nimport os\nimport sklearn\nimport pickle\nimport re\nfrom unidecode import unidecode\n# Read recipe inputs\netudes_impact_txt_projetsenv \u003d dataiku.Folder(\"YPXBGHtV\")\netudes_impact \u003d etudes_impact_txt_projetsenv.get_path()\nprint(etudes_impact)\nbase \u003d os.path.join(etudes_impact, str(os.listdir(etudes_impact)[0]))\n#base\u003dpickle.load(open(str(base),\u0027r\u0027))\nwith open(base,\u0027r\u0027) as f:\n    ouais\u003dunidecode(f.read())\nouais"
      ],
      "outputs": []
    },
    {
      "execution_count": 0,
      "cell_type": "code",
      "metadata": {},
      "source": [
        "fichiers\u003dos.listdir(etudes_impact)\nbase\u003d{}\nfor k in range(len(fichiers)):\n    path \u003d os.path.join(etudes_impact, str(fichiers[k]))\n    with open(path,\u0027r\u0027, encoding\u003d\u0027utf-8\u0027) as f:\n        base[k]\u003d[fichiers[k][:-8],f.read()]\nbase_txt\u003dpd.DataFrame.from_dict(base).T\nbase_txt.columns\u003d[\u0027num_etude\u0027,\u0027texte\u0027]\nbase_txt"
      ],
      "outputs": []
    },
    {
      "execution_count": 0,
      "cell_type": "code",
      "metadata": {},
      "source": [
        "base_txt.texte[51]"
      ],
      "outputs": []
    },
    {
      "execution_count": 0,
      "cell_type": "code",
      "metadata": {},
      "source": [
        "base_txt_df \u003d base_txt # Compute a Pandas dataframe to write into base_txt\n\n\n# Write recipe outputs\nbase_txt \u003d dataiku.Dataset(\"base_txt\")\nbase_txt.write_with_schema(base_txt_df)"
      ],
      "outputs": []
    }
  ]
}