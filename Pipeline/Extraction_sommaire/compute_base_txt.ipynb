{
  "metadata": {
    "kernelspec": {
      "display_name": "Python 2",
      "name": "python2",
      "language": "python"
    },
    "language_info": {
      "mimetype": "text/x-python",
      "nbconvert_exporter": "python",
      "version": "2.7.5",
      "name": "python",
      "pygments_lexer": "ipython2",
      "file_extension": ".py",
      "codemirror_mode": {
        "version": 2,
        "name": "ipython"
      }
    },
    "creator": "TRoudil",
    "associatedRecipe": "compute_base_txt",
    "createdOn": 1622021554281,
    "tags": [
      "recipe-editor"
    ],
    "customFields": {},
    "modifiedBy": "TRoudil"
  },
  "nbformat": 4,
  "nbformat_minor": 1,
  "cells": [
    {
      "cell_type": "code",
      "execution_count": null,
      "source": [
        "import pandas as pd, numpy as np\r\n",
        "import os\r\n",
        "import sklearn\r\n",
        "import pickle\r\n",
        "import re\r\n",
        "from unidecode import unidecode\r\n",
        "# Read recipe inputs\r\n",
        "etudes_impact_txt_projetsenv = dataiku.Folder(\"YPXBGHtV\")\r\n",
        "etudes_impact = etudes_impact_txt_projetsenv.get_path()\r\n",
        "print(etudes_impact)\r\n",
        "base = os.path.join(etudes_impact, str(os.listdir(etudes_impact)[0]))\r\n",
        "#base=pickle.load(open(str(base),'r'))\r\n",
        "with open(base,'r') as f:\r\n",
        "    ouais=unidecode(f.read())\r\n",
        "ouais"
      ],
      "outputs": [],
      "metadata": {}
    },
    {
      "cell_type": "code",
      "execution_count": null,
      "source": [
        "fichiers=os.listdir(etudes_impact)\r\n",
        "base={}\r\n",
        "for k in range(len(fichiers)):\r\n",
        "    path = os.path.join(etudes_impact, str(fichiers[k]))\r\n",
        "    with open(path,'r', encoding='utf-8') as f:\r\n",
        "        base[k]=[fichiers[k][:-8],f.read()]\r\n",
        "base_txt=pd.DataFrame.from_dict(base).T\r\n",
        "base_txt.columns=['num_etude','texte']\r\n",
        "base_txt"
      ],
      "outputs": [],
      "metadata": {}
    },
    {
      "cell_type": "code",
      "execution_count": null,
      "source": [
        "base_txt.texte[51]"
      ],
      "outputs": [],
      "metadata": {}
    },
    {
      "cell_type": "code",
      "execution_count": null,
      "source": [
        "base_txt_df = base_txt # Compute a Pandas dataframe to write into base_txt\n",
        "\n",
        "\n",
        "# Write recipe outputs\n",
        "base_txt = dataiku.Dataset(\"base_txt\")\n",
        "base_txt.write_with_schema(base_txt_df)"
      ],
      "outputs": [],
      "metadata": {}
    }
  ]
}